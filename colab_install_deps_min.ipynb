{
  "nbformat": 4,
  "nbformat_minor": 0,
  "metadata": {
    "colab": {
      "name": "colab_install_deps_min.ipynb",
      "version": "0.3.2",
      "provenance": [],
      "collapsed_sections": [],
      "include_colab_link": true
    },
    "kernelspec": {
      "name": "python3",
      "display_name": "Python 3"
    },
    "accelerator": "GPU"
  },
  "cells": [
    {
      "cell_type": "markdown",
      "metadata": {
        "id": "view-in-github",
        "colab_type": "text"
      },
      "source": [
        "<a href=\"https://colab.research.google.com/github/Hramchenko/Handwritting/blob/master/colab_install_deps_min.ipynb\" target=\"_parent\"><img src=\"https://colab.research.google.com/assets/colab-badge.svg\" alt=\"Open In Colab\"/></a>"
      ]
    },
    {
      "metadata": {
        "id": "vtZRYOq7uXbi",
        "colab_type": "code",
        "outputId": "91eaa012-625a-4b4e-ba1e-fa75b3b9c81d",
        "colab": {
          "base_uri": "https://localhost:8080/",
          "height": 173
        }
      },
      "cell_type": "code",
      "source": [
        "# http://pytorch.org/\n",
        "from os.path import exists\n",
        "from wheel.pep425tags import get_abbr_impl, get_impl_ver, get_abi_tag\n",
        "platform = '{}{}-{}'.format(get_abbr_impl(), get_impl_ver(), get_abi_tag())\n",
        "cuda_output = !ldconfig -p|grep cudart.so|sed -e 's/.*\\.\\([0-9]*\\)\\.\\([0-9]*\\)$/cu\\1\\2/'\n",
        "accelerator = cuda_output[0] if exists('/dev/nvidia0') else 'cpu'\n",
        "\n",
        "!pip3 install torch torchvision\n",
        "!pip3 install opencv-python\n",
        "import torch"
      ],
      "execution_count": 9,
      "outputs": [
        {
          "output_type": "stream",
          "text": [
            "Requirement already satisfied: torch in /usr/local/lib/python3.6/dist-packages (1.0.1.post2)\n",
            "Requirement already satisfied: torchvision in /usr/local/lib/python3.6/dist-packages (0.2.2.post3)\n",
            "Requirement already satisfied: pillow>=4.1.1 in /usr/local/lib/python3.6/dist-packages (from torchvision) (4.1.1)\n",
            "Requirement already satisfied: numpy in /usr/local/lib/python3.6/dist-packages (from torchvision) (1.14.6)\n",
            "Requirement already satisfied: six in /usr/local/lib/python3.6/dist-packages (from torchvision) (1.11.0)\n",
            "Requirement already satisfied: olefile in /usr/local/lib/python3.6/dist-packages (from pillow>=4.1.1->torchvision) (0.46)\n",
            "Requirement already satisfied: opencv-python in /usr/local/lib/python3.6/dist-packages (3.4.5.20)\n",
            "Requirement already satisfied: numpy>=1.11.3 in /usr/local/lib/python3.6/dist-packages (from opencv-python) (1.14.6)\n"
          ],
          "name": "stdout"
        }
      ]
    },
    {
      "metadata": {
        "id": "mL-NcFiYvmd3",
        "colab_type": "code",
        "outputId": "2ac464d1-ccde-46d7-d192-85de619dbfdc",
        "colab": {
          "base_uri": "https://localhost:8080/",
          "height": 51
        }
      },
      "cell_type": "code",
      "source": [
        "print(\"Device \" + torch.cuda.get_device_name(0))\n",
        "device = torch.device(\"cuda:0\")\n",
        "print(device)"
      ],
      "execution_count": 10,
      "outputs": [
        {
          "output_type": "stream",
          "text": [
            "Device Tesla K80\n",
            "cuda:0\n"
          ],
          "name": "stdout"
        }
      ]
    },
    {
      "metadata": {
        "id": "AObsU8XhTWHh",
        "colab_type": "code",
        "outputId": "7915e7a0-7e96-498c-c044-2fe42379dba3",
        "colab": {
          "base_uri": "https://localhost:8080/",
          "height": 54
        }
      },
      "cell_type": "code",
      "source": [
        "from google.colab import drive\n",
        "drive.mount('/gdrive')"
      ],
      "execution_count": 11,
      "outputs": [
        {
          "output_type": "stream",
          "text": [
            "Drive already mounted at /gdrive; to attempt to forcibly remount, call drive.mount(\"/gdrive\", force_remount=True).\n"
          ],
          "name": "stdout"
        }
      ]
    },
    {
      "metadata": {
        "id": "uaSZMQRwz_cH",
        "colab_type": "code",
        "colab": {
          "base_uri": "https://localhost:8080/",
          "height": 34
        },
        "outputId": "e82c57f7-ef9a-428d-b69b-7bc2dc281695"
      },
      "cell_type": "code",
      "source": [
        "!mkdir ./IAM\n",
        "!cp -R -f /gdrive/My\\ Drive/ML/IAM/ascii/ ./IAM/ascii\n",
        "!cp -f /gdrive/My\\ Drive/ML/IAM/words.test.pkl ./IAM/\n",
        "!cp -f /gdrive/My\\ Drive/ML/IAM/words.train.pkl ./IAM/\n"
      ],
      "execution_count": 12,
      "outputs": [
        {
          "output_type": "stream",
          "text": [
            "mkdir: cannot create directory ‘./IAM’: File exists\n"
          ],
          "name": "stdout"
        }
      ]
    },
    {
      "metadata": {
        "id": "3cAf0_OBGqU7",
        "colab_type": "code",
        "outputId": "b4daeab1-b189-427f-c108-48f358d168f2",
        "colab": {
          "base_uri": "https://localhost:8080/",
          "height": 34
        }
      },
      "cell_type": "code",
      "source": [
        "!git clone https://github.com/Hramchenko/Handwritting.git"
      ],
      "execution_count": 13,
      "outputs": [
        {
          "output_type": "stream",
          "text": [
            "fatal: destination path 'Handwritting' already exists and is not an empty directory.\n"
          ],
          "name": "stdout"
        }
      ]
    },
    {
      "metadata": {
        "id": "9nGrcKXqGyzL",
        "colab_type": "code",
        "outputId": "4bd3a251-2764-484a-d966-10ef1561021b",
        "colab": {
          "base_uri": "https://localhost:8080/",
          "height": 255
        }
      },
      "cell_type": "code",
      "source": [
        "!cd ./Handwritting/ && git pull "
      ],
      "execution_count": 14,
      "outputs": [
        {
          "output_type": "stream",
          "text": [
            "remote: Enumerating objects: 21, done.\u001b[K\n",
            "remote: Counting objects:   4% (1/21)   \u001b[K\rremote: Counting objects:   9% (2/21)   \u001b[K\rremote: Counting objects:  14% (3/21)   \u001b[K\rremote: Counting objects:  19% (4/21)   \u001b[K\rremote: Counting objects:  23% (5/21)   \u001b[K\rremote: Counting objects:  28% (6/21)   \u001b[K\rremote: Counting objects:  33% (7/21)   \u001b[K\rremote: Counting objects:  38% (8/21)   \u001b[K\rremote: Counting objects:  42% (9/21)   \u001b[K\rremote: Counting objects:  47% (10/21)   \u001b[K\rremote: Counting objects:  52% (11/21)   \u001b[K\rremote: Counting objects:  57% (12/21)   \u001b[K\rremote: Counting objects:  61% (13/21)   \u001b[K\rremote: Counting objects:  66% (14/21)   \u001b[K\rremote: Counting objects:  71% (15/21)   \u001b[K\rremote: Counting objects:  76% (16/21)   \u001b[K\rremote: Counting objects:  80% (17/21)   \u001b[K\rremote: Counting objects:  85% (18/21)   \u001b[K\rremote: Counting objects:  90% (19/21)   \u001b[K\rremote: Counting objects:  95% (20/21)   \u001b[K\rremote: Counting objects: 100% (21/21)   \u001b[K\rremote: Counting objects: 100% (21/21), done.\u001b[K\n",
            "remote: Compressing objects:   6% (1/16)   \u001b[K\rremote: Compressing objects:  12% (2/16)   \u001b[K\rremote: Compressing objects:  18% (3/16)   \u001b[K\rremote: Compressing objects:  25% (4/16)   \u001b[K\rremote: Compressing objects:  31% (5/16)   \u001b[K\rremote: Compressing objects:  37% (6/16)   \u001b[K\rremote: Compressing objects:  43% (7/16)   \u001b[K\rremote: Compressing objects:  50% (8/16)   \u001b[K\rremote: Compressing objects:  56% (9/16)   \u001b[K\rremote: Compressing objects:  62% (10/16)   \u001b[K\rremote: Compressing objects:  68% (11/16)   \u001b[K\rremote: Compressing objects:  75% (12/16)   \u001b[K\rremote: Compressing objects:  81% (13/16)   \u001b[K\rremote: Compressing objects:  87% (14/16)   \u001b[K\rremote: Compressing objects:  93% (15/16)   \u001b[K\rremote: Compressing objects: 100% (16/16)   \u001b[K\rremote: Compressing objects: 100% (16/16), done.\u001b[K\n",
            "remote: Total 18 (delta 12), reused 3 (delta 2), pack-reused 0\u001b[K\n",
            "Unpacking objects:   5% (1/18)   \rUnpacking objects:  11% (2/18)   \rUnpacking objects:  16% (3/18)   \rUnpacking objects:  22% (4/18)   \rUnpacking objects:  27% (5/18)   \rUnpacking objects:  33% (6/18)   \rUnpacking objects:  38% (7/18)   \rUnpacking objects:  44% (8/18)   \rUnpacking objects:  50% (9/18)   \rUnpacking objects:  55% (10/18)   \rUnpacking objects:  61% (11/18)   \rUnpacking objects:  66% (12/18)   \rUnpacking objects:  72% (13/18)   \rUnpacking objects:  77% (14/18)   \rUnpacking objects:  83% (15/18)   \rUnpacking objects:  88% (16/18)   \rUnpacking objects:  94% (17/18)   \rUnpacking objects: 100% (18/18)   \rUnpacking objects: 100% (18/18), done.\n",
            "From https://github.com/Hramchenko/Handwritting\n",
            "   95fd8df..555556e  master     -> origin/master\n",
            "Updating 95fd8df..555556e\n",
            "Fast-forward\n",
            " HTR_tf.ipynb      | 1061 \u001b[32m+++++++\u001b[m\u001b[31m----------------------------------------------\u001b[m\n",
            " HTR_tf_unif.ipynb | 1055 \u001b[32m++++++++++++++++++++++++++++++++++++++++++++++++++++\u001b[m\n",
            " IAMWords.py       |   13 \u001b[32m+\u001b[m\u001b[31m-\u001b[m\n",
            " 3 files changed, 1199 insertions(+), 930 deletions(-)\n",
            " create mode 100644 HTR_tf_unif.ipynb\n"
          ],
          "name": "stdout"
        }
      ]
    },
    {
      "metadata": {
        "id": "dZtJZAej0fcu",
        "colab_type": "code",
        "colab": {}
      },
      "cell_type": "code",
      "source": [
        "import sys\n",
        "sys.path.append(\"./Handwritting/\")"
      ],
      "execution_count": 0,
      "outputs": []
    },
    {
      "metadata": {
        "id": "E_swYkfg0oYS",
        "colab_type": "code",
        "outputId": "e5d29d2b-a793-45e7-bc5e-542b0dc4b3b3",
        "colab": {
          "base_uri": "https://localhost:8080/",
          "height": 51
        }
      },
      "cell_type": "code",
      "source": [
        "from IAMWords import IAMWords\n",
        "words = IAMWords(\"train\", \"./IAM/\")"
      ],
      "execution_count": 5,
      "outputs": [
        {
          "output_type": "stream",
          "text": [
            "Reading ./IAM/words.train.pkl...\n",
            "Reading finished\n"
          ],
          "name": "stdout"
        }
      ]
    },
    {
      "metadata": {
        "id": "yFJKNStjJGP7",
        "colab_type": "code",
        "colab": {}
      },
      "cell_type": "code",
      "source": [
        "data, target = words.make_batch(equalize=False)"
      ],
      "execution_count": 0,
      "outputs": []
    },
    {
      "metadata": {
        "id": "MT8eJz7rJLoi",
        "colab_type": "code",
        "colab": {}
      },
      "cell_type": "code",
      "source": [
        "%matplotlib inline"
      ],
      "execution_count": 0,
      "outputs": []
    },
    {
      "metadata": {
        "id": "Dl-2XboxJaKj",
        "colab_type": "code",
        "colab": {
          "base_uri": "https://localhost:8080/",
          "height": 1437
        },
        "outputId": "91845770-7637-49ed-aea0-ffc72cc84176"
      },
      "cell_type": "code",
      "source": [
        "import matplotlib.pyplot as plt\n",
        "for i in range(0, 10):\n",
        "  plt.imshow(data[i])\n",
        "  plt.show()"
      ],
      "execution_count": 26,
      "outputs": [
        {
          "output_type": "display_data",
          "data": {
            "image/png": "[encoded data removed]",
            "text/plain": [
              "<Figure size 432x288 with 1 Axes>"
            ]
          },
          "metadata": {
            "tags": []
          }
        },
        {
          "output_type": "display_data",
          "data": {
            "image/png": "[encoded data removed]",
            "text/plain": [
              "<Figure size 432x288 with 1 Axes>"
            ]
          },
          "metadata": {
            "tags": []
          }
        },
        {
          "output_type": "display_data",
          "data": {
            "image/png": "[encoded data removed]",
            "text/plain": [
              "<Figure size 432x288 with 1 Axes>"
            ]
          },
          "metadata": {
            "tags": []
          }
        },
        {
          "output_type": "display_data",
          "data": {
            "image/png": "[encoded data removed]",
            "text/plain": [
              "<Figure size 432x288 with 1 Axes>"
            ]
          },
          "metadata": {
            "tags": []
          }
        },
        {
          "output_type": "display_data",
          "data": {
            "image/png": "[encoded data removed]",
            "text/plain": [
              "<Figure size 432x288 with 1 Axes>"
            ]
          },
          "metadata": {
            "tags": []
          }
        },
        {
          "output_type": "display_data",
          "data": {
            "image/png": "[encoded data removed]",
            "text/plain": [
              "<Figure size 432x288 with 1 Axes>"
            ]
          },
          "metadata": {
            "tags": []
          }
        },
        {
          "output_type": "display_data",
          "data": {
            "image/png": "[encoded data removed]",
            "text/plain": [
              "<Figure size 432x288 with 1 Axes>"
            ]
          },
          "metadata": {
            "tags": []
          }
        },
        {
          "output_type": "display_data",
          "data": {
            "image/png": "[encoded data removed]",
            "text/plain": [
              "<Figure size 432x288 with 1 Axes>"
            ]
          },
          "metadata": {
            "tags": []
          }
        },
        {
          "output_type": "display_data",
          "data": {
            "image/png": "[encoded data removed]",
            "text/plain": [
              "<Figure size 432x288 with 1 Axes>"
            ]
          },
          "metadata": {
            "tags": []
          }
        },
        {
          "output_type": "display_data",
          "data": {
            "image/png": "[encoded data removed]",
            "text/plain": [
              "<Figure size 432x288 with 1 Axes>"
            ]
          },
          "metadata": {
            "tags": []
          }
        }
      ]
    },
    {
      "metadata": {
        "id": "w8MMfQRKJqB7",
        "colab_type": "code",
        "colab": {}
      },
      "cell_type": "code",
      "source": [
        ""
      ],
      "execution_count": 0,
      "outputs": []
    }
  ]
}