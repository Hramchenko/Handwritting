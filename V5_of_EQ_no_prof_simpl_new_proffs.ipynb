{
  "nbformat": 4,
  "nbformat_minor": 0,
  "metadata": {
    "colab": {
      "name": "V5 of EQ_no_prof simpl new_proffs.ipynb",
      "version": "0.3.2",
      "provenance": [],
      "collapsed_sections": [],
      "include_colab_link": true
    },
    "kernelspec": {
      "name": "python3",
      "display_name": "Python 3"
    },
    "accelerator": "GPU"
  },
  "cells": [
    {
      "cell_type": "markdown",
      "metadata": {
        "id": "view-in-github",
        "colab_type": "text"
      },
      "source": [
        "<a href=\"https://colab.research.google.com/github/Hramchenko/Handwritting/blob/master/V5_of_EQ_no_prof_simpl_new_proffs.ipynb\" target=\"_parent\"><img src=\"https://colab.research.google.com/assets/colab-badge.svg\" alt=\"Open In Colab\"/></a>"
      ]
    },
    {
      "metadata": {
        "id": "uL5QRz_WMkMF",
        "colab_type": "code",
        "outputId": "0eb86b07-5f1b-451c-fb99-3860bad46edd",
        "colab": {
          "base_uri": "https://localhost:8080/",
          "height": 52
        }
      },
      "cell_type": "code",
      "source": [
        "import torch\n",
        "print(\"Device \" + torch.cuda.get_device_name(0))\n",
        "device = torch.device(\"cuda:0\")\n",
        "#device = torch.device(\"cpu\")\n",
        "print(device)"
      ],
      "execution_count": 1,
      "outputs": [
        {
          "output_type": "stream",
          "text": [
            "Device Tesla K80\n",
            "cuda:0\n"
          ],
          "name": "stdout"
        }
      ]
    },
    {
      "metadata": {
        "id": "j5M_rV-VMqso",
        "colab_type": "code",
        "colab": {}
      },
      "cell_type": "code",
      "source": [
        "batch_size = 100"
      ],
      "execution_count": 0,
      "outputs": []
    },
    {
      "metadata": {
        "id": "kVeBVZEgMtb2",
        "colab_type": "code",
        "outputId": "9f607e8d-061b-4dd7-9f9c-fbf68593a5c4",
        "colab": {
          "base_uri": "https://localhost:8080/",
          "height": 86
        }
      },
      "cell_type": "code",
      "source": [
        "import sys\n",
        "sys.path.append(\"./Handwritting/\")\n",
        "from IAMWords import IAMWords\n",
        "image_width = 1500\n",
        "image_height = 200\n",
        "pad_length=-1\n",
        "train_set = IAMWords(\"train\", \"./IAM/\", batch_size=batch_size, line_height=image_height, line_width=image_width, scale=1, pad_length=pad_length, rand_x=400)\n",
        "test_set = IAMWords(\"test\", \"./IAM/\", batch_size=batch_size, line_height=image_height, line_width=image_width, scale=1, pad_length=pad_length, rand_x=400)"
      ],
      "execution_count": 3,
      "outputs": [
        {
          "output_type": "stream",
          "text": [
            "Reading ./IAM/words.train.pkl...\n",
            "Reading finished\n",
            "Reading ./IAM/words.test.pkl...\n",
            "Reading finished\n"
          ],
          "name": "stdout"
        }
      ]
    },
    {
      "metadata": {
        "id": "K2fWx6tuK-4m",
        "colab_type": "code",
        "colab": {}
      },
      "cell_type": "code",
      "source": [
        "import torch\n",
        "import torch.nn as nn\n",
        "import torch.nn.functional as F\n",
        "import torch.optim as optim\n",
        "from IPython.core.debugger import set_trace\n",
        "%matplotlib inline\n",
        "import matplotlib.pyplot as plt"
      ],
      "execution_count": 0,
      "outputs": []
    },
    {
      "metadata": {
        "id": "FOlJkOzNgngX",
        "colab_type": "code",
        "colab": {}
      },
      "cell_type": "code",
      "source": [
        "from Layers import *\n",
        "from HTREncoder import *\n",
        "from HTRDecoder import *\n",
        "from HTRDiscriminator import *"
      ],
      "execution_count": 0,
      "outputs": []
    },
    {
      "metadata": {
        "id": "tNCy7E6BNI1t",
        "colab_type": "code",
        "colab": {}
      },
      "cell_type": "code",
      "source": [
        "batch = train_set.make_batch(use_binarization=False)\n",
        "data, target = batch\n",
        "target = target.to(device)\n",
        "data = data/255.0\n",
        "data = data.view(batch_size, 1, image_width, image_height).to(device)"
      ],
      "execution_count": 0,
      "outputs": []
    },
    {
      "metadata": {
        "id": "ihilbywpul9A",
        "colab_type": "code",
        "colab": {}
      },
      "cell_type": "code",
      "source": [
        "\n",
        "encoder = HTREncoder().to(device)"
      ],
      "execution_count": 0,
      "outputs": []
    },
    {
      "metadata": {
        "id": "3fvJufA-1d9O",
        "colab_type": "code",
        "outputId": "8fb62682-0def-4467-cb72-8729231b0492",
        "colab": {
          "base_uri": "https://localhost:8080/",
          "height": 34
        }
      },
      "cell_type": "code",
      "source": [
        "c = encoder(data)\n",
        "c.shape"
      ],
      "execution_count": 8,
      "outputs": [
        {
          "output_type": "execute_result",
          "data": {
            "text/plain": [
              "torch.Size([100, 64, 9, 11])"
            ]
          },
          "metadata": {
            "tags": []
          },
          "execution_count": 8
        }
      ]
    },
    {
      "metadata": {
        "id": "cXja4G8p7KKz",
        "colab_type": "code",
        "colab": {}
      },
      "cell_type": "code",
      "source": [
        "def to_onehot(x, n):\n",
        "    one_hot = torch.zeros((x.shape[0], n)).to(device)\n",
        "    one_hot.scatter_(1, x[:, None], 1.)\n",
        "    if device is not None:\n",
        "        one_hot = one_hot.to(device)\n",
        "    return one_hot  "
      ],
      "execution_count": 0,
      "outputs": []
    },
    {
      "metadata": {
        "id": "fIiy-eFLvC5-",
        "colab_type": "code",
        "colab": {}
      },
      "cell_type": "code",
      "source": [
        "class HTRDecoderResult:\n",
        "  \n",
        "  def __init__(self):\n",
        "    None\n",
        "\n",
        "class HTRDecoder(nn.Module):\n",
        "    def __init__(self, batch_size, ntoken, encoded_width=92, encoded_height=64, batchnorm=False, dropout=True, rnn_type=\"LSTM\"):\n",
        "        super(HTRDecoder, self).__init__()\n",
        "        self.batch_size = batch_size\n",
        "        self.ntoken = ntoken\n",
        "        self.encoded_width = encoded_width\n",
        "        self.encoded_height = encoded_height\n",
        "        self.lstm_size = 256\n",
        "        self.lstm_layers = 2\n",
        "        self.rnn_type = rnn_type\n",
        "        self.emb_size = 128\n",
        "        features_size = self.encoded_height*encoded_width + self.emb_size\n",
        "        from math import floor\n",
        "        lstm_inp_size = features_size\n",
        "        \n",
        "        if rnn_type == \"LSTM\":\n",
        "            self.rnn = nn.LSTM(lstm_inp_size, self.lstm_size, self.lstm_layers, dropout=0.3, bidirectional=False)\n",
        "        else:\n",
        "            self.rnn = nn.GRU(lstm_inp_size, self.lstm_size, self.lstm_layers, dropout=0.3, bidirectional=False)\n",
        "        self.embedding = nn.Embedding(ntoken, self.emb_size)\n",
        "        self.decoder = nn.Linear(1*self.lstm_size*1, ntoken)#*batch_size)\n",
        "        self.drop = nn.Dropout(0.3)\n",
        "\n",
        "        self.attention = FullyConnectedX([self.lstm_size*2 + self.encoded_height*encoded_width, self.encoded_height*encoded_width*2,  self.encoded_width], activation_fn=nn.LeakyReLU(0.2), last_fn=nn.Tanh())\n",
        "        self.attention_weights = None\n",
        "    \n",
        "    def forward(self, x, prev, hidden=None):\n",
        "        x = self.drop(x).squeeze()\n",
        "        if hidden is not None:\n",
        "            hidden_m = hidden.permute(1, 0, 2)\n",
        "            hidden_m = hidden_m.flatten(start_dim=1)\n",
        "            #print(x.shape)\n",
        "            #print(hidden_m.shape)\n",
        "            x_m = x.flatten(start_dim=1)\n",
        "            attention_inp = torch.cat([x_m, hidden_m], dim=1).detach()\n",
        "            self.attention_weights = self.attention(attention_inp)\n",
        "            self.attention_weights = F.softmax(self.attention_weights, dim=1).unsqueeze(1)\n",
        "            #print(\"iiiif\")\n",
        "            #print(self.attention_weights.shape)\n",
        "            \n",
        "            self.attention_weights = self.attention_weights.repeat([1, self.encoded_height, 1])\n",
        "            #print(\"fffff\")\n",
        "            #print(x.shape)\n",
        "            #print(self.attention_weights.shape)\n",
        "            x = x * self.attention_weights\n",
        "        emb = self.embedding(prev).squeeze().detach()\n",
        "        x = torch.cat([x.flatten(start_dim=1), emb], dim=1)\n",
        "        x = x.unsqueeze(0)\n",
        "        result = HTRDecoderResult()\n",
        "        result.rnn_input = x\n",
        "        result.input_hidden = hidden\n",
        "        x, hidden = self.rnn(x, hidden)\n",
        "        x = x.squeeze(dim=0)\n",
        "        x = self.drop(x)\n",
        "        x = self.decoder(x)\n",
        "        x = F.log_softmax(x, dim=1)\n",
        "        result.x = x\n",
        "        result.hidden = hidden\n",
        "        return result\n",
        "      \n",
        "    def makeHidden(self):\n",
        "        if self.rnn_type == \"LSTM\":\n",
        "            h1 = torch.zeros(self.lstm_layers, self.batch_size, self.lstm_size)\n",
        "            h2 = torch.zeros(self.lstm_layers, self.batch_size, self.lstm_size)\n",
        "            return (h1, h2)\n",
        "        else:\n",
        "            h1 = torch.zeros(self.lstm_layers, self.batch_size, self.lstm_size)\n",
        "            return h1\n",
        "\n",
        "\n",
        "decoder = HTRDecoder(batch_size, len(train_set.codes), rnn_type=\"GRU\").to(device)"
      ],
      "execution_count": 0,
      "outputs": []
    },
    {
      "metadata": {
        "id": "ziLheucQKlpE",
        "colab_type": "code",
        "colab": {}
      },
      "cell_type": "code",
      "source": [
        "START = train_set.codes['<START>']\n",
        "current_symbol = torch.LongTensor(batch_size, 1).to(device)\n",
        "current_symbol[:, :] = START"
      ],
      "execution_count": 0,
      "outputs": []
    },
    {
      "metadata": {
        "id": "MHbnIOOP03r-",
        "colab_type": "code",
        "colab": {}
      },
      "cell_type": "code",
      "source": [
        "def test(max_size):\n",
        "  print(\"Testing...\")\n",
        "  \n",
        "  freq = 20\n",
        "  \n",
        "  test_set.to_start(max_size, equalize_freq=True)\n",
        "  batch_idx = 0\n",
        "  c_loss = 0\n",
        "  START = train_set.start_code\n",
        "  STOP = train_set.stop_code\n",
        "  recognition_result = torch.LongTensor(batch_size, 30+1).to(device)\n",
        "  recognition_result.fill_(START)\n",
        "  old_symbol = torch.LongTensor(batch_size, 1).to(device)\n",
        "  \n",
        "  stop_symbol = torch.LongTensor(batch_size, 1).to(device)\n",
        "  stop_symbol.fill_(STOP)\n",
        "  \n",
        "  test_loss = 0\n",
        "  \n",
        "  with torch.no_grad():  \n",
        "    while True:\n",
        "      batch = test_set.make_batch()\n",
        "      if batch is None:\n",
        "        break\n",
        "\n",
        "      orig_data, target = batch\n",
        "      data = orig_data/255.0\n",
        "      #data = data.view(batch_size, 1, image_width, image_height).to(device)\n",
        "      data = data.unsqueeze(1).to(device)\n",
        "      target = target.to(device)\n",
        "      hidden = decoder.makeHidden().to(device)    \n",
        "\n",
        "      loss = 0\n",
        "      enc = encoder(data)\n",
        "      #print(enc.shape)\n",
        "      s = enc\n",
        "      #print(s.shape)\n",
        "      #s = s.flatten(start_dim=1).view(1, batch_size, -1)\n",
        "\n",
        "      old_symbol[:, 0] = START\n",
        "\n",
        "      for i in range(0, target.shape[1]):\n",
        "\n",
        "        decoder_result = decoder(s, old_symbol, hidden)\n",
        "        dec = decoder_result.x\n",
        "        hidden = decoder_result.hidden\n",
        "\n",
        "        recognition_result[:, i] = dec.topk(1, dim=1)[1].flatten().detach()\n",
        "        old_symbol[:, 0] = target[:, i]\n",
        "\n",
        "        loss += criterion(dec, target[:, i])\n",
        "      c_loss += loss.item()/(target.shape[1] + 0)\n",
        "      test_loss += loss.item()/(target.shape[1] + 0)\n",
        "      if (batch_idx % freq == 0) and (batch_idx != 0):\n",
        "        if True:#not use_teacher_forcing:\n",
        "          for k in range(0, min(3, target.shape[0])):\n",
        "              decoded = recognition_result[k,0:target.shape[1] + 1]\n",
        "              plt.imshow(orig_data[k].cpu(), cmap=\"gray\")\n",
        "              plt.show()\n",
        "              print(\"  '\" + train_set.decode_word(target[k,:]) + \"' -> '\" + train_set.decode_word(decoded) + \"'\")\n",
        "        c_loss /= freq \n",
        "        print(\"  Batch: \" + str(batch_idx) + \" Loss: \" + str(c_loss))\n",
        "        c_loss = 0\n",
        "      batch_idx += 1  \n",
        "  print(\"Test loss: %f\" % (test_loss/batch_idx))   "
      ],
      "execution_count": 0,
      "outputs": []
    },
    {
      "metadata": {
        "id": "1dvEYjtLYlcN",
        "colab_type": "code",
        "colab": {}
      },
      "cell_type": "code",
      "source": [
        "discriminator = HTRDiscriminator(batch_size, 256*2, 512, 10, len(train_set.codes)).to(device)      "
      ],
      "execution_count": 0,
      "outputs": []
    },
    {
      "metadata": {
        "id": "Zel5bfutWKKa",
        "colab_type": "code",
        "colab": {}
      },
      "cell_type": "code",
      "source": [
        "def apply_discriminator(s, target, use_teacher_forcing, train_mode, discriminator_target):\n",
        "  loss = 0\n",
        "  START = train_set.start_code\n",
        "  STOP = train_set.stop_code\n",
        "  recognition_result = torch.LongTensor(batch_size, 30+1).to(device)\n",
        "  old_symbol = torch.LongTensor(batch_size, 1).to(device)\n",
        "  stop_symbol = torch.LongTensor(batch_size, 1).to(device)\n",
        "  stop_symbol.fill_(STOP)\n",
        "  old_symbol[:, 0] = START\n",
        "\n",
        "  train_mask = torch.ByteTensor(batch_size).to(device)\n",
        "  train_mask[:] = 1\n",
        "\n",
        "  hidden = decoder.makeHidden().to(device)    \n",
        "  discriminator_loss = 0\n",
        "  discriminator_hidden = discriminator.makeHidden().to(device)\n",
        "\n",
        "  for i in range(0, target.shape[1] + 1):\n",
        "\n",
        "    decoder_result = decoder(s, old_symbol, hidden)\n",
        "    dec = decoder_result.x\n",
        "    hidden = decoder_result.hidden\n",
        "\n",
        "    decoder_outputs = dec.topk(1, dim=1)[1].flatten()\n",
        "\n",
        "    \n",
        "    if train_mode:\n",
        "      dl, discriminator_hidden = discriminator.apply(discriminator_hidden.detach(), decoder_result.input_hidden.detach(),decoder_result.rnn_input.detach(), decoder_outputs.detach(), discriminator_target)\n",
        "    else:\n",
        "      dl, discriminator_hidden = discriminator.apply(discriminator_hidden, decoder_result.input_hidden, decoder_result.rnn_input, decoder_outputs, discriminator_target)\n",
        "      \n",
        "    if i != 0:\n",
        "      discriminator_loss += dl\n",
        "\n",
        "    recognition_result[:, i] = decoder_outputs.detach()\n",
        "    \n",
        "    if i == target.shape[1]:\n",
        "      target_symbol = stop_symbol[:, 0]\n",
        "    else:\n",
        "      target_symbol = target[:, i]    \n",
        "    \n",
        "    if use_teacher_forcing:\n",
        "      old_symbol[:, 0] = target_symbol\n",
        "    else:\n",
        "      old_symbol[:, 0] = recognition_result[:, i]\n",
        "    #import pdb; pdb.set_trace()\n",
        "\n",
        "    loss += criterion(dec, target_symbol)\n",
        " \n",
        "  discriminator_loss /= target.shape[1]\n",
        "  return (recognition_result, loss, discriminator_loss)"
      ],
      "execution_count": 0,
      "outputs": []
    },
    {
      "metadata": {
        "id": "Yrtvy2ikWNwI",
        "colab_type": "code",
        "colab": {}
      },
      "cell_type": "code",
      "source": [
        "def apply_decoder(s, target, use_teacher_forcing):\n",
        "  loss = 0\n",
        "  START = train_set.start_code\n",
        "  STOP = train_set.stop_code\n",
        "  recognition_result = torch.LongTensor(batch_size, 30+1).to(device)\n",
        "  recognition_result.fill_(START)\n",
        "  old_symbol = torch.LongTensor(batch_size, 1).to(device)\n",
        "  stop_symbol = torch.LongTensor(batch_size, 1).to(device)\n",
        "  stop_symbol.fill_(STOP)\n",
        "  old_symbol[:, 0] = START\n",
        "\n",
        "  hidden = decoder.makeHidden().to(device)  \n",
        "  \n",
        "  for i in range(0, target.shape[1] + 1):\n",
        "\n",
        "    decoder_result = decoder(s, old_symbol, hidden)\n",
        "    dec = decoder_result.x\n",
        "    hidden = decoder_result.hidden\n",
        "\n",
        "    recognition_result[:, i] = dec.topk(1, dim=1)[1].flatten().detach()\n",
        "    \n",
        "    if i == target.shape[1]:\n",
        "      target_symbol = stop_symbol[:, 0]\n",
        "    else:\n",
        "      target_symbol = target[:, i]\n",
        "    \n",
        "    if use_teacher_forcing:\n",
        "      old_symbol[:, 0] = target_symbol\n",
        "    else:\n",
        "      old_symbol[:, 0] = recognition_result[:, i]\n",
        "    #import pdb; pdb.set_trace()\n",
        "\n",
        "    loss += criterion(dec, target_symbol)\n",
        "  return (recognition_result, loss)\n",
        "\n",
        "\n",
        "batch_zeros = torch.zeros(batch_size, 1).to(device)\n",
        "batch_ones = torch.ones(batch_size, 1).to(device)"
      ],
      "execution_count": 0,
      "outputs": []
    },
    {
      "metadata": {
        "id": "1DxYdkXeTnNB",
        "colab_type": "code",
        "outputId": "8d1949cb-0cea-4f4c-c05e-5bf86dc3d506",
        "colab": {
          "base_uri": "https://localhost:8080/",
          "height": 19256
        }
      },
      "cell_type": "code",
      "source": [
        "encoder_optimizer = optim.Adam(encoder.parameters(), lr=1e-4, weight_decay=0.00005)\n",
        "decoder_optimizer = optim.Adam(decoder.parameters(), lr=1e-4, weight_decay=0.00005)\n",
        "discriminator_optimizer = optim.Adam(discriminator.parameters(), lr=1e-4, weight_decay=0.00005)\n",
        "\n",
        "criterion = nn.NLLLoss()\n",
        "\n",
        "teacher_forcing_ratio = 1#0.5\n",
        "\n",
        "from random import random\n",
        "\n",
        "def train(epoch, max_size):\n",
        "  print(\"Training epoch \" + str(epoch) + \"...\")\n",
        "  \n",
        "  freq = 30\n",
        "  \n",
        "  train_set.to_start(max_size, equalize_freq=True)\n",
        "  batch_idx = 0\n",
        "  c_loss = 0\n",
        "\n",
        "  \n",
        "  train_loss = 0\n",
        "  discr_applied = 0\n",
        "  \n",
        "  while True:\n",
        "    batch = train_set.make_batch()\n",
        "    if batch is None:\n",
        "      break\n",
        "    \n",
        "    orig_data, target = batch\n",
        "    data = orig_data/255.0\n",
        "    #data = data.view(batch_size, 1, image_width, image_height).to(device)\n",
        "    data = data.unsqueeze(1).to(device)\n",
        "    target = target.to(device)\n",
        "\n",
        "\n",
        "    encoder.zero_grad()\n",
        "    decoder.zero_grad()\n",
        "\n",
        "    \n",
        "    enc = encoder(data)\n",
        "    #print(enc.shape)\n",
        "    s = enc\n",
        "    #s = enc.permute(1, 0, 2)\n",
        "    #s = s.squeeze(0)\n",
        "    #print(s.shape)\n",
        "    #print(s.shape)\n",
        "    #s = s.flatten(start_dim=1).view(1, batch_size, -1)\n",
        "    #s = s.flatten(start_dim=1).squeeze(0)\n",
        "    s = s.unsqueeze(0)\n",
        "    #print(s.shape)\n",
        "    \n",
        "    discr_loss = 1\n",
        "    if True:#target.shape[1] > 1:\n",
        "      discriminator_optimizer.zero_grad()\n",
        "      _, _, tf_loss = apply_discriminator(s, target, True, True, batch_ones)\n",
        "      _, _, fr_loss = apply_discriminator(s, target, False, True, batch_zeros)\n",
        "      dl = tf_loss + fr_loss\n",
        "      discr_loss = dl.item()\n",
        "      if (batch_idx % freq == 0) and (batch_idx != 0):\n",
        "        print(\"Discr loss: %f\" %(dl.item()))\n",
        "      #print(dl)\n",
        "      dl.backward()\n",
        "      discriminator_optimizer.step()\n",
        "   \n",
        "\n",
        "      #     use_teacher_forcing = True if random() < teacher_forcing_ratio else False\n",
        "      # #    recognition_result, loss, discriminator_loss = apply_discriminator(s, target, use_teacher_forcing, True, batch_zeros)\n",
        "      #     recognition_result, loss = apply_decoder(s, target, use_teacher_forcing)\n",
        "    batch_loss = None  \n",
        "    if discr_loss < 0.3:\n",
        "      discriminator_optimizer.zero_grad()\n",
        "      recognition_result, loss, discriminator_loss = apply_discriminator(s, target, True, False, batch_zeros)\n",
        "      batch_loss = loss.item()\n",
        "      loss = loss + discriminator_loss\n",
        "      discr_applied += 1\n",
        "      #print(\"Apply descr...\")\n",
        "    else:\n",
        "      recognition_result, loss = apply_decoder(s, target, True)\n",
        "      batch_loss = loss.item()\n",
        "\n",
        "      \n",
        "      \n",
        "    c_loss += batch_loss/(target.shape[1] + 0)\n",
        "    train_loss += batch_loss/(target.shape[1] + 0)\n",
        "    if (batch_idx % freq == 0) and (batch_idx != 0):\n",
        "      \n",
        "      if False:#True:#not use_teacher_forcing:\n",
        "        for k in range(0, min(3, target.shape[0])):\n",
        "            decoded = recognition_result[k,0:target.shape[1] + 1]\n",
        "            plt.imshow(orig_data[k].cpu(), cmap=\"gray\")\n",
        "            plt.show()\n",
        "            print(\"  '\" + train_set.decode_word(target[k,:]) + \"' -> '\" + train_set.decode_word(decoded) + \"'\")\n",
        "      c_loss /= freq \n",
        "      print(\"  Batch: \" + str(batch_idx) + \" Loss: \" + str(c_loss))\n",
        "      c_loss = 0\n",
        "    loss.backward()\n",
        "    #grad_clip = 0.1\n",
        "    #torch.nn.utils.clip_grad_norm_(encoder.parameters(), grad_clip)\n",
        "    #torch.nn.utils.clip_grad_norm_(decoder.parameters(), grad_clip)\n",
        "    encoder_optimizer.step()\n",
        "    decoder_optimizer.step()\n",
        "    batch_idx += 1\n",
        "  print(\"Train loss: %f\"%(train_loss/batch_idx))\n",
        "  print(\"Discr applied %d times.\"%discr_applied)\n",
        "\n",
        "for i in range(0, 100):\n",
        "  max_size = 9\n",
        "  train(i, max_size)\n",
        "  test(max_size)"
      ],
      "execution_count": 0,
      "outputs": [
        {
          "output_type": "stream",
          "text": [
            "Training epoch 0...\n",
            "Discr loss: 0.687833\n",
            "  Batch: 30 Loss: 3.353029003496523\n",
            "Discr loss: 0.693416\n",
            "  Batch: 60 Loss: 3.3121138725583514\n",
            "Discr loss: 0.104503\n",
            "  Batch: 90 Loss: 3.5550190918281586\n",
            "Discr loss: 0.734509\n",
            "  Batch: 120 Loss: 3.028764160373224\n",
            "Discr loss: 0.083728\n",
            "  Batch: 150 Loss: 3.480778434314425\n",
            "Discr loss: 0.240936\n",
            "  Batch: 180 Loss: 3.2851628448849635\n",
            "Discr loss: 0.067536\n",
            "  Batch: 210 Loss: 3.5270621497038177\n",
            "Discr loss: 0.357613\n",
            "  Batch: 240 Loss: 3.3916969418904146\n",
            "Discr loss: 0.087468\n",
            "  Batch: 270 Loss: 3.3577100988418334\n",
            "Discr loss: 0.242108\n",
            "  Batch: 300 Loss: 3.433916411778284\n",
            "Discr loss: 0.386928\n",
            "  Batch: 330 Loss: 3.398988513568091\n",
            "Discr loss: 0.791971\n",
            "  Batch: 360 Loss: 3.570629440186516\n",
            "Discr loss: 0.774096\n",
            "  Batch: 390 Loss: 3.306737008927361\n",
            "Discr loss: 0.637071\n",
            "  Batch: 420 Loss: 3.246482871020282\n",
            "Discr loss: 0.833348\n",
            "  Batch: 450 Loss: 3.519806824285517\n",
            "Discr loss: 0.803640\n",
            "  Batch: 480 Loss: 3.59322454724993\n",
            "Discr loss: 0.593207\n",
            "  Batch: 510 Loss: 3.444990509199718\n",
            "Discr loss: 0.078806\n",
            "  Batch: 540 Loss: 3.577885682620699\n",
            "Train loss: 3.395788\n",
            "Discr applied 275 times.\n",
            "Testing...\n"
          ],
          "name": "stdout"
        },
        {
          "output_type": "display_data",
          "data": {
            "image/png": "[encoded data removed]",
            "text/plain": [
              "<Figure size 432x288 with 1 Axes>"
            ]
          },
          "metadata": {
            "tags": []
          }
        },
        {
          "output_type": "stream",
          "text": [
            "  'to' -> 'th<STOP>'\n"
          ],
          "name": "stdout"
        },
        {
          "output_type": "display_data",
          "data": {
            "image/png": "[encoded data removed]",
            "text/plain": [
              "<Figure size 432x288 with 1 Axes>"
            ]
          },
          "metadata": {
            "tags": []
          }
        },
        {
          "output_type": "stream",
          "text": [
            "  'to' -> 'ah<STOP>'\n"
          ],
          "name": "stdout"
        },
        {
          "output_type": "display_data",
          "data": {
            "image/png": "[encoded data removed]",
            "text/plain": [
              "<Figure size 432x288 with 1 Axes>"
            ]
          },
          "metadata": {
            "tags": []
          }
        },
        {
          "output_type": "stream",
          "text": [
            "  'it' -> 'tnn'\n",
            "  Batch: 20 Loss: 3.1303184832466973\n"
          ],
          "name": "stdout"
        },
        {
          "output_type": "display_data",
          "data": {
            "image/png": "[encoded data removed]",
            "text/plain": [
              "<Figure size 432x288 with 1 Axes>"
            ]
          },
          "metadata": {
            "tags": []
          }
        },
        {
          "output_type": "stream",
          "text": [
            "  'having' -> 'tenen<STOP><STOP>'\n"
          ],
          "name": "stdout"
        },
        {
          "output_type": "display_data",
          "data": {
            "image/png": "[encoded data removed]",
            "text/plain": [
              "<Figure size 432x288 with 1 Axes>"
            ]
          },
          "metadata": {
            "tags": []
          }
        },
        {
          "output_type": "stream",
          "text": [
            "  'fallen' -> 'tan<STOP><STOP><STOP><STOP>'\n"
          ],
          "name": "stdout"
        },
        {
          "output_type": "display_data",
          "data": {
            "image/png": "[encoded data removed]",
            "text/plain": [
              "<Figure size 432x288 with 1 Axes>"
            ]
          },
          "metadata": {
            "tags": []
          }
        },
        {
          "output_type": "stream",
          "text": [
            "  'better' -> 'tat<STOP><STOP><STOP>n'\n",
            "  Batch: 40 Loss: 2.8573811925025216\n"
          ],
          "name": "stdout"
        },
        {
          "output_type": "display_data",
          "data": {
            "image/png": "[encoded data removed]",
            "text/plain": [
              "<Figure size 432x288 with 1 Axes>"
            ]
          },
          "metadata": {
            "tags": []
          }
        },
        {
          "output_type": "stream",
          "text": [
            "  'to' -> 'the'\n"
          ],
          "name": "stdout"
        },
        {
          "output_type": "display_data",
          "data": {
            "image/png": "[encoded data removed]",
            "text/plain": [
              "<Figure size 432x288 with 1 Axes>"
            ]
          },
          "metadata": {
            "tags": []
          }
        },
        {
          "output_type": "stream",
          "text": [
            "  'to' -> 'th<STOP>'\n"
          ],
          "name": "stdout"
        },
        {
          "output_type": "display_data",
          "data": {
            "image/png": "[encoded data removed]",
            "text/plain": [
              "<Figure size 432x288 with 1 Axes>"
            ]
          },
          "metadata": {
            "tags": []
          }
        },
        {
          "output_type": "stream",
          "text": [
            "  'to' -> 'thr'\n",
            "  Batch: 60 Loss: 2.8074791394718113\n",
            "Test loss: 2.874604\n",
            "Training epoch 1...\n",
            "Discr loss: 0.200091\n",
            "  Batch: 30 Loss: 3.5091068833214902\n",
            "Discr loss: 0.099174\n",
            "  Batch: 60 Loss: 3.6330112638927634\n",
            "Discr loss: 0.148582\n",
            "  Batch: 90 Loss: 3.309156652960197\n",
            "Discr loss: 0.373113\n",
            "  Batch: 120 Loss: 3.8738730610993803\n",
            "Discr loss: 0.570558\n",
            "  Batch: 150 Loss: 3.613888352358783\n",
            "Discr loss: 0.501107\n",
            "  Batch: 180 Loss: 3.4692060649205767\n",
            "Discr loss: 0.244052\n",
            "  Batch: 210 Loss: 3.1857254453941626\n",
            "Discr loss: 0.383632\n",
            "  Batch: 240 Loss: 3.2573273607284308\n",
            "Discr loss: 0.539013\n",
            "  Batch: 270 Loss: 3.1195880516243992\n",
            "Discr loss: 0.205268\n",
            "  Batch: 300 Loss: 3.347816670811365\n",
            "Discr loss: 0.106741\n",
            "  Batch: 330 Loss: 3.430773024432874\n",
            "Discr loss: 0.526793\n",
            "  Batch: 360 Loss: 3.348878799847194\n",
            "Discr loss: 0.341924\n",
            "  Batch: 390 Loss: 3.544894330287106\n",
            "Discr loss: 0.056172\n",
            "  Batch: 420 Loss: 3.2194248143201145\n",
            "Discr loss: 0.066817\n",
            "  Batch: 450 Loss: 3.3080993183075433\n",
            "Discr loss: 0.194770\n",
            "  Batch: 480 Loss: 3.1669887299007846\n",
            "Discr loss: 0.200733\n",
            "  Batch: 510 Loss: 2.9193927280738876\n",
            "Discr loss: 0.186925\n",
            "  Batch: 540 Loss: 2.9809084869314115\n",
            "Train loss: 3.333384\n",
            "Discr applied 309 times.\n",
            "Testing...\n"
          ],
          "name": "stdout"
        },
        {
          "output_type": "display_data",
          "data": {
            "image/png": "[encoded data removed]",
            "text/plain": [
              "<Figure size 432x288 with 1 Axes>"
            ]
          },
          "metadata": {
            "tags": []
          }
        },
        {
          "output_type": "stream",
          "text": [
            "  'on' -> 'tn<STOP>'\n"
          ],
          "name": "stdout"
        },
        {
          "output_type": "display_data",
          "data": {
            "image/png": "[encoded data removed]",
            "text/plain": [
              "<Figure size 432x288 with 1 Axes>"
            ]
          },
          "metadata": {
            "tags": []
          }
        },
        {
          "output_type": "stream",
          "text": [
            "  'to' -> 'the'\n"
          ],
          "name": "stdout"
        },
        {
          "output_type": "display_data",
          "data": {
            "image/png": "[encoded data removed]",
            "text/plain": [
              "<Figure size 432x288 with 1 Axes>"
            ]
          },
          "metadata": {
            "tags": []
          }
        },
        {
          "output_type": "stream",
          "text": [
            "  'on' -> 'aft'\n",
            "  Batch: 20 Loss: 3.1328401483051356\n"
          ],
          "name": "stdout"
        },
        {
          "output_type": "display_data",
          "data": {
            "image/png": "[encoded data removed]",
            "text/plain": [
              "<Figure size 432x288 with 1 Axes>"
            ]
          },
          "metadata": {
            "tags": []
          }
        },
        {
          "output_type": "stream",
          "text": [
            "  'his' -> 'tenr'\n"
          ],
          "name": "stdout"
        },
        {
          "output_type": "display_data",
          "data": {
            "image/png": "[encoded data removed]",
            "text/plain": [
              "<Figure size 432x288 with 1 Axes>"
            ]
          },
          "metadata": {
            "tags": []
          }
        },
        {
          "output_type": "stream",
          "text": [
            "  'the' -> 'the<STOP>'\n"
          ],
          "name": "stdout"
        },
        {
          "output_type": "display_data",
          "data": {
            "image/png": "[encoded data removed]",
            "text/plain": [
              "<Figure size 432x288 with 1 Axes>"
            ]
          },
          "metadata": {
            "tags": []
          }
        },
        {
          "output_type": "stream",
          "text": [
            "  'the' -> 'ahe<STOP>'\n",
            "  Batch: 40 Loss: 2.6797333119029094\n"
          ],
          "name": "stdout"
        },
        {
          "output_type": "display_data",
          "data": {
            "image/png": "[encoded data removed]",
            "text/plain": [
              "<Figure size 432x288 with 1 Axes>"
            ]
          },
          "metadata": {
            "tags": []
          }
        },
        {
          "output_type": "stream",
          "text": [
            "  'Prince' -> 'toen<STOP><STOP><STOP>'\n"
          ],
          "name": "stdout"
        },
        {
          "output_type": "display_data",
          "data": {
            "image/png": "[encoded data removed]",
            "text/plain": [
              "<Figure size 432x288 with 1 Axes>"
            ]
          },
          "metadata": {
            "tags": []
          }
        },
        {
          "output_type": "stream",
          "text": [
            "  'Vienna' -> 'ttd<STOP><STOP><STOP><STOP>'\n"
          ],
          "name": "stdout"
        },
        {
          "output_type": "display_data",
          "data": {
            "image/png": "[encoded data removed]",
            "text/plain": [
              "<Figure size 432x288 with 1 Axes>"
            ]
          },
          "metadata": {
            "tags": []
          }
        },
        {
          "output_type": "stream",
          "text": [
            "  'should' -> 'toe<STOP><STOP><STOP><STOP>'\n",
            "  Batch: 60 Loss: 2.7116659981863838\n",
            "Test loss: 2.794833\n",
            "Training epoch 2...\n",
            "Discr loss: 0.129641\n",
            "  Batch: 30 Loss: 3.3481242070122366\n",
            "Discr loss: 0.647812\n",
            "  Batch: 60 Loss: 3.258866455138675\n",
            "Discr loss: 0.099998\n",
            "  Batch: 90 Loss: 3.206474952067017\n",
            "Discr loss: 0.173502\n",
            "  Batch: 120 Loss: 3.008509713505941\n",
            "Discr loss: 0.230407\n",
            "  Batch: 150 Loss: 2.8967046896616617\n",
            "Discr loss: 0.220325\n",
            "  Batch: 180 Loss: 3.11471229681893\n",
            "Discr loss: 0.227500\n",
            "  Batch: 210 Loss: 3.019198866748306\n",
            "Discr loss: 0.204517\n",
            "  Batch: 240 Loss: 3.2165460122830023\n",
            "Discr loss: 0.232221\n",
            "  Batch: 270 Loss: 3.5191385285059615\n",
            "Discr loss: 0.525287\n",
            "  Batch: 300 Loss: 3.460004828442973\n",
            "Discr loss: 0.163244\n",
            "  Batch: 330 Loss: 3.196449134135372\n",
            "Discr loss: 0.544165\n",
            "  Batch: 360 Loss: 3.159377736465011\n",
            "Discr loss: 0.153934\n",
            "  Batch: 390 Loss: 3.0299998982999687\n",
            "Discr loss: 0.238938\n",
            "  Batch: 420 Loss: 3.295278663029747\n",
            "Discr loss: 0.315658\n",
            "  Batch: 450 Loss: 3.0114671913782756\n",
            "Discr loss: 0.067353\n",
            "  Batch: 480 Loss: 2.9870889357915\n",
            "Discr loss: 0.243753\n",
            "  Batch: 510 Loss: 3.1159302589628433\n",
            "Discr loss: 0.673058\n",
            "  Batch: 540 Loss: 2.880275114907159\n",
            "Train loss: 3.142555\n",
            "Discr applied 325 times.\n",
            "Testing...\n"
          ],
          "name": "stdout"
        },
        {
          "output_type": "display_data",
          "data": {
            "image/png": "[encoded data removed]",
            "text/plain": [
              "<Figure size 432x288 with 1 Axes>"
            ]
          },
          "metadata": {
            "tags": []
          }
        },
        {
          "output_type": "stream",
          "text": [
            "  'Phnom' -> 'tee<STOP><STOP><STOP>'\n"
          ],
          "name": "stdout"
        },
        {
          "output_type": "display_data",
          "data": {
            "image/png": "[encoded data removed]",
            "text/plain": [
              "<Figure size 432x288 with 1 Axes>"
            ]
          },
          "metadata": {
            "tags": []
          }
        },
        {
          "output_type": "stream",
          "text": [
            "  'talks' -> 'ahn<STOP><STOP>s'\n"
          ],
          "name": "stdout"
        },
        {
          "output_type": "display_data",
          "data": {
            "image/png": "[encoded data removed]",
            "text/plain": [
              "<Figure size 432x288 with 1 Axes>"
            ]
          },
          "metadata": {
            "tags": []
          }
        },
        {
          "output_type": "stream",
          "text": [
            "  'three' -> 'thee<STOP>e'\n",
            "  Batch: 20 Loss: 2.9016711117350864\n"
          ],
          "name": "stdout"
        },
        {
          "output_type": "display_data",
          "data": {
            "image/png": "[encoded data removed]",
            "text/plain": [
              "<Figure size 432x288 with 1 Axes>"
            ]
          },
          "metadata": {
            "tags": []
          }
        },
        {
          "output_type": "stream",
          "text": [
            "  'be' -> 'hae'\n"
          ],
          "name": "stdout"
        },
        {
          "output_type": "display_data",
          "data": {
            "image/png": "[encoded data removed]",
            "text/plain": [
              "<Figure size 432x288 with 1 Axes>"
            ]
          },
          "metadata": {
            "tags": []
          }
        },
        {
          "output_type": "stream",
          "text": [
            "  'in' -> 'tne'\n"
          ],
          "name": "stdout"
        },
        {
          "output_type": "display_data",
          "data": {
            "image/png": "[encoded data removed]",
            "text/plain": [
              "<Figure size 432x288 with 1 Axes>"
            ]
          },
          "metadata": {
            "tags": []
          }
        },
        {
          "output_type": "stream",
          "text": [
            "  'of' -> 'ont'\n",
            "  Batch: 40 Loss: 2.7957079238740232\n"
          ],
          "name": "stdout"
        },
        {
          "output_type": "display_data",
          "data": {
            "image/png": "[encoded data removed]",
            "text/plain": [
              "<Figure size 432x288 with 1 Axes>"
            ]
          },
          "metadata": {
            "tags": []
          }
        },
        {
          "output_type": "stream",
          "text": [
            "  'join' -> 'wsnn<STOP>'\n"
          ],
          "name": "stdout"
        },
        {
          "output_type": "display_data",
          "data": {
            "image/png": "[encoded data removed]",
            "text/plain": [
              "<Figure size 432x288 with 1 Axes>"
            ]
          },
          "metadata": {
            "tags": []
          }
        },
        {
          "output_type": "stream",
          "text": [
            "  'last' -> 'han<STOP><STOP>'\n"
          ],
          "name": "stdout"
        },
        {
          "output_type": "display_data",
          "data": {
            "image/png": "[encoded data removed]",
            "text/plain": [
              "<Figure size 432x288 with 1 Axes>"
            ]
          },
          "metadata": {
            "tags": []
          }
        },
        {
          "output_type": "stream",
          "text": [
            "  'full' -> 'tene<STOP>'\n",
            "  Batch: 60 Loss: 2.6636570102827895\n",
            "Test loss: 2.741323\n",
            "Training epoch 3...\n",
            "Discr loss: 0.064864\n",
            "  Batch: 30 Loss: 3.2305304061546525\n",
            "Discr loss: 0.164350\n",
            "  Batch: 60 Loss: 3.3084851250825102\n",
            "Discr loss: 0.274067\n",
            "  Batch: 90 Loss: 2.982544839823688\n",
            "Discr loss: 0.473005\n",
            "  Batch: 120 Loss: 3.258194369639038\n",
            "Discr loss: 0.284006\n",
            "  Batch: 150 Loss: 3.052560563970495\n",
            "Discr loss: 0.563706\n",
            "  Batch: 180 Loss: 3.2313387791063426\n",
            "Discr loss: 0.678274\n",
            "  Batch: 210 Loss: 3.0952892757345127\n",
            "Discr loss: 0.671766\n",
            "  Batch: 240 Loss: 3.0690849283006454\n",
            "Discr loss: 0.502721\n",
            "  Batch: 270 Loss: 3.086941948391142\n",
            "Discr loss: 0.054164\n",
            "  Batch: 300 Loss: 3.075671708142316\n",
            "Discr loss: 0.067266\n",
            "  Batch: 330 Loss: 3.0225674414256263\n",
            "Discr loss: 0.321841\n",
            "  Batch: 360 Loss: 3.148376315207708\n",
            "Discr loss: 0.462045\n",
            "  Batch: 390 Loss: 2.796819234348478\n",
            "Discr loss: 0.189229\n",
            "  Batch: 420 Loss: 2.989321792239234\n",
            "Discr loss: 0.178524\n",
            "  Batch: 450 Loss: 3.0555213892649093\n",
            "Discr loss: 0.593812\n",
            "  Batch: 480 Loss: 2.9966458089263357\n",
            "Discr loss: 0.135238\n",
            "  Batch: 510 Loss: 2.9212135348496613\n",
            "Discr loss: 0.262261\n",
            "  Batch: 540 Loss: 2.8109300290970576\n",
            "Train loss: 3.053855\n",
            "Discr applied 330 times.\n",
            "Testing...\n"
          ],
          "name": "stdout"
        },
        {
          "output_type": "display_data",
          "data": {
            "image/png": "[encoded data removed]",
            "text/plain": [
              "<Figure size 432x288 with 1 Axes>"
            ]
          },
          "metadata": {
            "tags": []
          }
        },
        {
          "output_type": "stream",
          "text": [
            "  'members' -> 'totee<STOP><STOP><STOP>'\n"
          ],
          "name": "stdout"
        },
        {
          "output_type": "display_data",
          "data": {
            "image/png": "[encoded data removed]",
            "text/plain": [
              "<Figure size 432x288 with 1 Axes>"
            ]
          },
          "metadata": {
            "tags": []
          }
        },
        {
          "output_type": "stream",
          "text": [
            "  'decided' -> 'tarin<STOP><STOP><STOP>'\n"
          ],
          "name": "stdout"
        },
        {
          "output_type": "display_data",
          "data": {
            "image/png": "[encoded data removed]",
            "text/plain": [
              "<Figure size 432x288 with 1 Axes>"
            ]
          },
          "metadata": {
            "tags": []
          }
        },
        {
          "output_type": "stream",
          "text": [
            "  'thought' -> 'thern<STOP><STOP><STOP>'\n",
            "  Batch: 20 Loss: 3.1226193174861723\n"
          ],
          "name": "stdout"
        },
        {
          "output_type": "display_data",
          "data": {
            "image/png": "[encoded data removed]",
            "text/plain": [
              "<Figure size 432x288 with 1 Axes>"
            ]
          },
          "metadata": {
            "tags": []
          }
        },
        {
          "output_type": "stream",
          "text": [
            "  'had' -> 'tene'\n"
          ],
          "name": "stdout"
        },
        {
          "output_type": "display_data",
          "data": {
            "image/png": "[encoded data removed]",
            "text/plain": [
              "<Figure size 432x288 with 1 Axes>"
            ]
          },
          "metadata": {
            "tags": []
          }
        },
        {
          "output_type": "stream",
          "text": [
            "  'and' -> 'tn<STOP><STOP>'\n"
          ],
          "name": "stdout"
        },
        {
          "output_type": "display_data",
          "data": {
            "image/png": "[encoded data removed]",
            "text/plain": [
              "<Figure size 432x288 with 1 Axes>"
            ]
          },
          "metadata": {
            "tags": []
          }
        },
        {
          "output_type": "stream",
          "text": [
            "  'the' -> 'then'\n",
            "  Batch: 40 Loss: 2.527784871260325\n"
          ],
          "name": "stdout"
        },
        {
          "output_type": "display_data",
          "data": {
            "image/png": "[encoded data removed]",
            "text/plain": [
              "<Figure size 432x288 with 1 Axes>"
            ]
          },
          "metadata": {
            "tags": []
          }
        },
        {
          "output_type": "stream",
          "text": [
            "  'the' -> 'then'\n"
          ],
          "name": "stdout"
        },
        {
          "output_type": "display_data",
          "data": {
            "image/png": "[encoded data removed]",
            "text/plain": [
              "<Figure size 432x288 with 1 Axes>"
            ]
          },
          "metadata": {
            "tags": []
          }
        },
        {
          "output_type": "stream",
          "text": [
            "  'Mr.' -> 'toe<STOP>'\n"
          ],
          "name": "stdout"
        },
        {
          "output_type": "display_data",
          "data": {
            "image/png": "[encoded data removed]",
            "text/plain": [
              "<Figure size 432x288 with 1 Axes>"
            ]
          },
          "metadata": {
            "tags": []
          }
        },
        {
          "output_type": "stream",
          "text": [
            "  'The' -> 'then'\n",
            "  Batch: 60 Loss: 2.610958902041117\n",
            "Test loss: 2.703234\n",
            "Training epoch 4...\n",
            "Discr loss: 0.214405\n",
            "  Batch: 30 Loss: 3.120023848871705\n",
            "Discr loss: 0.314627\n",
            "  Batch: 60 Loss: 3.2260392834648255\n",
            "Discr loss: 0.326639\n",
            "  Batch: 90 Loss: 3.237572614452826\n",
            "Discr loss: 0.223520\n",
            "  Batch: 120 Loss: 2.9166020152682344\n",
            "Discr loss: 0.545107\n",
            "  Batch: 150 Loss: 3.086988389227125\n",
            "Discr loss: 0.072860\n",
            "  Batch: 180 Loss: 3.237755259508809\n",
            "Discr loss: 0.196637\n",
            "  Batch: 210 Loss: 3.021613111798725\n",
            "Discr loss: 0.105604\n",
            "  Batch: 240 Loss: 2.880183756994823\n",
            "Discr loss: 0.274935\n",
            "  Batch: 270 Loss: 3.0464664737257374\n",
            "Discr loss: 0.331815\n",
            "  Batch: 300 Loss: 2.8127233880663676\n",
            "Discr loss: 0.240858\n",
            "  Batch: 330 Loss: 2.8848555333273755\n",
            "Discr loss: 0.339898\n",
            "  Batch: 360 Loss: 2.9960041438460987\n",
            "Discr loss: 0.254579\n",
            "  Batch: 390 Loss: 2.8882198919064153\n",
            "Discr loss: 0.177908\n",
            "  Batch: 420 Loss: 3.1412262816151615\n",
            "Discr loss: 0.317583\n",
            "  Batch: 450 Loss: 2.75739366584354\n",
            "Discr loss: 0.606501\n",
            "  Batch: 480 Loss: 2.7861663346568117\n",
            "Discr loss: 0.156429\n",
            "  Batch: 510 Loss: 2.7327583275900946\n",
            "Discr loss: 0.292472\n",
            "  Batch: 540 Loss: 2.866136346241785\n",
            "Train loss: 2.971849\n",
            "Discr applied 332 times.\n",
            "Testing...\n"
          ],
          "name": "stdout"
        },
        {
          "output_type": "display_data",
          "data": {
            "image/png": "[encoded data removed]",
            "text/plain": [
              "<Figure size 432x288 with 1 Axes>"
            ]
          },
          "metadata": {
            "tags": []
          }
        },
        {
          "output_type": "stream",
          "text": [
            "  'Home' -> 'te<STOP><STOP>n'\n"
          ],
          "name": "stdout"
        },
        {
          "output_type": "display_data",
          "data": {
            "image/png": "[encoded data removed]",
            "text/plain": [
              "<Figure size 432x288 with 1 Axes>"
            ]
          },
          "metadata": {
            "tags": []
          }
        },
        {
          "output_type": "stream",
          "text": [
            "  'that' -> 'the<STOP>e'\n"
          ],
          "name": "stdout"
        },
        {
          "output_type": "display_data",
          "data": {
            "image/png": "[encoded data removed]",
            "text/plain": [
              "<Figure size 432x288 with 1 Axes>"
            ]
          },
          "metadata": {
            "tags": []
          }
        },
        {
          "output_type": "stream",
          "text": [
            "  'from' -> 'aee<STOP><STOP>'\n",
            "  Batch: 20 Loss: 2.9038500978833155\n"
          ],
          "name": "stdout"
        },
        {
          "output_type": "display_data",
          "data": {
            "image/png": "[encoded data removed]",
            "text/plain": [
              "<Figure size 432x288 with 1 Axes>"
            ]
          },
          "metadata": {
            "tags": []
          }
        },
        {
          "output_type": "stream",
          "text": [
            "  'own' -> 'tf<STOP><STOP>'\n"
          ],
          "name": "stdout"
        },
        {
          "output_type": "display_data",
          "data": {
            "image/png": "[encoded data removed]",
            "text/plain": [
              "<Figure size 432x288 with 1 Axes>"
            ]
          },
          "metadata": {
            "tags": []
          }
        },
        {
          "output_type": "stream",
          "text": [
            "  'the' -> 'ahe<STOP>'\n"
          ],
          "name": "stdout"
        },
        {
          "output_type": "display_data",
          "data": {
            "image/png": "[encoded data removed]",
            "text/plain": [
              "<Figure size 432x288 with 1 Axes>"
            ]
          },
          "metadata": {
            "tags": []
          }
        },
        {
          "output_type": "stream",
          "text": [
            "  'the' -> 'the<STOP>'\n",
            "  Batch: 40 Loss: 2.9407761846648315\n",
            "Test loss: 2.747387\n",
            "Training epoch 5...\n",
            "Discr loss: 0.280213\n",
            "  Batch: 30 Loss: 3.117215832856597\n",
            "Discr loss: 0.063134\n",
            "  Batch: 60 Loss: 3.029344657716296\n",
            "Discr loss: 0.311073\n",
            "  Batch: 90 Loss: 2.9308598051121626\n",
            "Discr loss: 0.226706\n",
            "  Batch: 120 Loss: 3.0428776359305805\n",
            "Discr loss: 0.172896\n",
            "  Batch: 150 Loss: 2.9582586490287985\n",
            "Discr loss: 0.257024\n",
            "  Batch: 180 Loss: 2.864341467221578\n",
            "Discr loss: 0.270316\n",
            "  Batch: 210 Loss: 2.774026646387009\n",
            "Discr loss: 0.798744\n",
            "  Batch: 240 Loss: 2.9949497275882297\n",
            "Discr loss: 0.175176\n",
            "  Batch: 270 Loss: 2.824122981646704\n",
            "Discr loss: 0.541224\n",
            "  Batch: 300 Loss: 3.1356069723260465\n",
            "Discr loss: 0.747139\n",
            "  Batch: 330 Loss: 3.010071826763254\n",
            "Discr loss: 0.389109\n",
            "  Batch: 360 Loss: 2.8672652983791616\n",
            "Discr loss: 0.537465\n",
            "  Batch: 390 Loss: 2.9943692908968247\n",
            "Discr loss: 0.161983\n",
            "  Batch: 420 Loss: 2.9558213710784913\n",
            "Discr loss: 0.245268\n",
            "  Batch: 450 Loss: 2.758908225014096\n",
            "Discr loss: 0.225842\n",
            "  Batch: 480 Loss: 2.8367076022284374\n",
            "Discr loss: 0.193448\n",
            "  Batch: 510 Loss: 2.819990503144643\n",
            "Discr loss: 0.542691\n",
            "  Batch: 540 Loss: 2.5161063416798912\n",
            "Train loss: 2.897999\n",
            "Discr applied 338 times.\n",
            "Testing...\n"
          ],
          "name": "stdout"
        },
        {
          "output_type": "display_data",
          "data": {
            "image/png": "[encoded data removed]",
            "text/plain": [
              "<Figure size 432x288 with 1 Axes>"
            ]
          },
          "metadata": {
            "tags": []
          }
        },
        {
          "output_type": "stream",
          "text": [
            "  'Answering' -> 'tn<STOP><STOP><STOP><STOP><STOP>n<STOP><START>'\n"
          ],
          "name": "stdout"
        },
        {
          "output_type": "display_data",
          "data": {
            "image/png": "[encoded data removed]",
            "text/plain": [
              "<Figure size 432x288 with 1 Axes>"
            ]
          },
          "metadata": {
            "tags": []
          }
        },
        {
          "output_type": "stream",
          "text": [
            "  'affluence' -> 'tn<STOP><STOP>e<STOP><STOP><STOP><STOP><START>'\n"
          ],
          "name": "stdout"
        },
        {
          "output_type": "display_data",
          "data": {
            "image/png": "[encoded data removed]",
            "text/plain": [
              "<Figure size 432x288 with 1 Axes>"
            ]
          },
          "metadata": {
            "tags": []
          }
        },
        {
          "output_type": "stream",
          "text": [
            "  'presented' -> 'tee<STOP><STOP><STOP><STOP><STOP><STOP><START>'\n",
            "  Batch: 20 Loss: 2.9093247973729692\n"
          ],
          "name": "stdout"
        },
        {
          "output_type": "display_data",
          "data": {
            "image/png": "[encoded data removed]",
            "text/plain": [
              "<Figure size 432x288 with 1 Axes>"
            ]
          },
          "metadata": {
            "tags": []
          }
        },
        {
          "output_type": "stream",
          "text": [
            "  'Service' -> 'ao<STOP>eenhn'\n"
          ],
          "name": "stdout"
        },
        {
          "output_type": "display_data",
          "data": {
            "image/png": "[encoded data removed]",
            "text/plain": [
              "<Figure size 432x288 with 1 Axes>"
            ]
          },
          "metadata": {
            "tags": []
          }
        },
        {
          "output_type": "stream",
          "text": [
            "  'Premier' -> 'toe<STOP><STOP>s<STOP><STOP>'\n"
          ],
          "name": "stdout"
        },
        {
          "output_type": "display_data",
          "data": {
            "image/png": "[encoded data removed]",
            "text/plain": [
              "<Figure size 432x288 with 1 Axes>"
            ]
          },
          "metadata": {
            "tags": []
          }
        },
        {
          "output_type": "stream",
          "text": [
            "  'Kenneth' -> 'to<STOP><STOP><STOP><STOP><STOP><STOP>'\n",
            "  Batch: 40 Loss: 2.7119029546919324\n"
          ],
          "name": "stdout"
        },
        {
          "output_type": "display_data",
          "data": {
            "image/png": "[encoded data removed]",
            "text/plain": [
              "<Figure size 432x288 with 1 Axes>"
            ]
          },
          "metadata": {
            "tags": []
          }
        },
        {
          "output_type": "stream",
          "text": [
            "  'Mr.' -> 'ooed'\n"
          ],
          "name": "stdout"
        },
        {
          "output_type": "display_data",
          "data": {
            "image/png": "[encoded data removed]",
            "text/plain": [
              "<Figure size 432x288 with 1 Axes>"
            ]
          },
          "metadata": {
            "tags": []
          }
        },
        {
          "output_type": "stream",
          "text": [
            "  'Sir' -> 'thn<STOP>'\n"
          ],
          "name": "stdout"
        },
        {
          "output_type": "display_data",
          "data": {
            "image/png": "[encoded data removed]",
            "text/plain": [
              "<Figure size 432x288 with 1 Axes>"
            ]
          },
          "metadata": {
            "tags": []
          }
        },
        {
          "output_type": "stream",
          "text": [
            "  'his' -> 'tet<STOP>'\n",
            "  Batch: 60 Loss: 2.534160737991333\n",
            "Test loss: 2.673898\n",
            "Training epoch 6...\n",
            "Discr loss: 0.072212\n",
            "  Batch: 30 Loss: 3.13624052168831\n",
            "Discr loss: 0.147882\n",
            "  Batch: 60 Loss: 2.9894525437884862\n",
            "Discr loss: 0.204017\n",
            "  Batch: 90 Loss: 2.893559358384874\n",
            "Discr loss: 0.143872\n",
            "  Batch: 120 Loss: 2.804988099506923\n",
            "Discr loss: 0.266904\n",
            "  Batch: 150 Loss: 2.9109973068085933\n",
            "Discr loss: 0.585871\n",
            "  Batch: 180 Loss: 2.830953108747169\n",
            "Discr loss: 0.329575\n",
            "  Batch: 210 Loss: 2.8099576894063794\n",
            "Discr loss: 0.661275\n",
            "  Batch: 240 Loss: 2.8728500118962046\n",
            "Discr loss: 0.063784\n",
            "  Batch: 270 Loss: 2.858658484781861\n",
            "Discr loss: 0.238347\n",
            "  Batch: 300 Loss: 2.782362908862886\n",
            "Discr loss: 0.477519\n",
            "  Batch: 330 Loss: 2.933351068017344\n",
            "Discr loss: 0.237022\n",
            "  Batch: 360 Loss: 2.7304648789905364\n",
            "Discr loss: 0.167405\n",
            "  Batch: 390 Loss: 2.8496103077843076\n",
            "Discr loss: 0.352628\n",
            "  Batch: 420 Loss: 2.7923672943266613\n",
            "Discr loss: 0.214903\n",
            "  Batch: 450 Loss: 2.8169417950463673\n",
            "Discr loss: 0.660801\n",
            "  Batch: 480 Loss: 2.9132402175822585\n",
            "Discr loss: 0.266978\n",
            "  Batch: 510 Loss: 2.7473162113674103\n",
            "Discr loss: 0.466736\n",
            "  Batch: 540 Loss: 2.9434746965277134\n",
            "Train loss: 2.861947\n",
            "Discr applied 338 times.\n",
            "Testing...\n"
          ],
          "name": "stdout"
        },
        {
          "output_type": "display_data",
          "data": {
            "image/png": "[encoded data removed]",
            "text/plain": [
              "<Figure size 432x288 with 1 Axes>"
            ]
          },
          "metadata": {
            "tags": []
          }
        },
        {
          "output_type": "stream",
          "text": [
            "  'chief' -> 'aoatd<STOP>'\n"
          ],
          "name": "stdout"
        },
        {
          "output_type": "display_data",
          "data": {
            "image/png": "[encoded data removed]",
            "text/plain": [
              "<Figure size 432x288 with 1 Axes>"
            ]
          },
          "metadata": {
            "tags": []
          }
        },
        {
          "output_type": "stream",
          "text": [
            "  'could' -> 'thrt<STOP>s'\n"
          ],
          "name": "stdout"
        },
        {
          "output_type": "display_data",
          "data": {
            "image/png": "[encoded data removed]",
            "text/plain": [
              "<Figure size 432x288 with 1 Axes>"
            ]
          },
          "metadata": {
            "tags": []
          }
        },
        {
          "output_type": "stream",
          "text": [
            "  'other' -> 'hn<STOP>e<STOP><STOP>'\n",
            "  Batch: 20 Loss: 2.8422530741161767\n"
          ],
          "name": "stdout"
        },
        {
          "output_type": "display_data",
          "data": {
            "image/png": "[encoded data removed]",
            "text/plain": [
              "<Figure size 432x288 with 1 Axes>"
            ]
          },
          "metadata": {
            "tags": []
          }
        },
        {
          "output_type": "stream",
          "text": [
            "  'Polaris' -> 'tarenee<STOP>'\n"
          ],
          "name": "stdout"
        },
        {
          "output_type": "display_data",
          "data": {
            "image/png": "[encoded data removed]",
            "text/plain": [
              "<Figure size 432x288 with 1 Axes>"
            ]
          },
          "metadata": {
            "tags": []
          }
        },
        {
          "output_type": "stream",
          "text": [
            "  'decided' -> 'toatne<STOP><STOP>'\n"
          ],
          "name": "stdout"
        },
        {
          "output_type": "display_data",
          "data": {
            "image/png": "[encoded data removed]",
            "text/plain": [
              "<Figure size 432x288 with 1 Axes>"
            ]
          },
          "metadata": {
            "tags": []
          }
        },
        {
          "output_type": "stream",
          "text": [
            "  'discuss' -> 'tot<STOP>e<STOP><STOP><STOP>'\n",
            "  Batch: 40 Loss: 2.6744544077298\n"
          ],
          "name": "stdout"
        },
        {
          "output_type": "display_data",
          "data": {
            "image/png": "[encoded data removed]",
            "text/plain": [
              "<Figure size 432x288 with 1 Axes>"
            ]
          },
          "metadata": {
            "tags": []
          }
        },
        {
          "output_type": "stream",
          "text": [
            "  'an' -> 'tn<STOP>'\n"
          ],
          "name": "stdout"
        },
        {
          "output_type": "display_data",
          "data": {
            "image/png": "[encoded data removed]",
            "text/plain": [
              "<Figure size 432x288 with 1 Axes>"
            ]
          },
          "metadata": {
            "tags": []
          }
        },
        {
          "output_type": "stream",
          "text": [
            "  'on' -> 'tfe'\n"
          ],
          "name": "stdout"
        },
        {
          "output_type": "display_data",
          "data": {
            "image/png": "[encoded data removed]",
            "text/plain": [
              "<Figure size 432x288 with 1 Axes>"
            ]
          },
          "metadata": {
            "tags": []
          }
        },
        {
          "output_type": "stream",
          "text": [
            "  'in' -> 'ane'\n",
            "  Batch: 60 Loss: 2.319115817319779\n",
            "Test loss: 2.566898\n",
            "Training epoch 7...\n",
            "Discr loss: 0.236500\n",
            "  Batch: 30 Loss: 2.889541579882304\n",
            "Discr loss: 0.223061\n",
            "  Batch: 60 Loss: 3.027450366398645\n",
            "Discr loss: 0.173759\n",
            "  Batch: 90 Loss: 2.8301116501338894\n",
            "Discr loss: 0.650035\n",
            "  Batch: 120 Loss: 2.885868529567012\n",
            "Discr loss: 0.573743\n",
            "  Batch: 150 Loss: 2.83341101464771\n",
            "Discr loss: 0.172671\n",
            "  Batch: 180 Loss: 2.7800250533775053\n",
            "Discr loss: 0.265052\n",
            "  Batch: 210 Loss: 2.893159556010412\n",
            "Discr loss: 0.332105\n",
            "  Batch: 240 Loss: 2.9448044481479303\n",
            "Discr loss: 0.057236\n",
            "  Batch: 270 Loss: 2.9438596185048427\n",
            "Discr loss: 0.811475\n",
            "  Batch: 300 Loss: 2.899981816231258\n",
            "Discr loss: 0.171294\n",
            "  Batch: 330 Loss: 2.6249608318893993\n",
            "Discr loss: 0.283701\n",
            "  Batch: 360 Loss: 2.7003421153971763\n",
            "Discr loss: 0.244677\n",
            "  Batch: 390 Loss: 2.690546735354832\n",
            "Discr loss: 0.277878\n",
            "  Batch: 420 Loss: 2.6975317231435625\n",
            "Discr loss: 0.210972\n",
            "  Batch: 450 Loss: 3.091260839341179\n",
            "Discr loss: 0.175957\n",
            "  Batch: 480 Loss: 2.901935277338381\n",
            "Discr loss: 0.175689\n",
            "  Batch: 510 Loss: 2.7907352626891355\n",
            "Discr loss: 0.398471\n",
            "  Batch: 540 Loss: 2.757641010284424\n",
            "Train loss: 2.831269\n",
            "Discr applied 342 times.\n",
            "Testing...\n"
          ],
          "name": "stdout"
        },
        {
          "output_type": "display_data",
          "data": {
            "image/png": "[encoded data removed]",
            "text/plain": [
              "<Figure size 432x288 with 1 Axes>"
            ]
          },
          "metadata": {
            "tags": []
          }
        },
        {
          "output_type": "stream",
          "text": [
            "  'used' -> 'on<STOP><STOP>e'\n"
          ],
          "name": "stdout"
        },
        {
          "output_type": "display_data",
          "data": {
            "image/png": "[encoded data removed]",
            "text/plain": [
              "<Figure size 432x288 with 1 Axes>"
            ]
          },
          "metadata": {
            "tags": []
          }
        },
        {
          "output_type": "stream",
          "text": [
            "  'that' -> 'ahete'\n"
          ],
          "name": "stdout"
        },
        {
          "output_type": "display_data",
          "data": {
            "image/png": "[encoded data removed]",
            "text/plain": [
              "<Figure size 432x288 with 1 Axes>"
            ]
          },
          "metadata": {
            "tags": []
          }
        },
        {
          "output_type": "stream",
          "text": [
            "  'week' -> 'ae<STOP><STOP>e'\n",
            "  Batch: 20 Loss: 2.7804694734679325\n"
          ],
          "name": "stdout"
        },
        {
          "output_type": "display_data",
          "data": {
            "image/png": "[encoded data removed]",
            "text/plain": [
              "<Figure size 432x288 with 1 Axes>"
            ]
          },
          "metadata": {
            "tags": []
          }
        },
        {
          "output_type": "stream",
          "text": [
            "  'Brunswick' -> 'toe<STOP><STOP><STOP><STOP>nh<START>'\n"
          ],
          "name": "stdout"
        },
        {
          "output_type": "display_data",
          "data": {
            "image/png": "[encoded data removed]",
            "text/plain": [
              "<Figure size 432x288 with 1 Axes>"
            ]
          },
          "metadata": {
            "tags": []
          }
        },
        {
          "output_type": "stream",
          "text": [
            "  'districts' -> 'aen<STOP><STOP>ene<STOP><START>'\n"
          ],
          "name": "stdout"
        },
        {
          "output_type": "display_data",
          "data": {
            "image/png": "[encoded data removed]",
            "text/plain": [
              "<Figure size 432x288 with 1 Axes>"
            ]
          },
          "metadata": {
            "tags": []
          }
        },
        {
          "output_type": "stream",
          "text": [
            "  'existence' -> 'auen<STOP><STOP><STOP><STOP><STOP><START>'\n",
            "  Batch: 40 Loss: 2.79224099268989\n"
          ],
          "name": "stdout"
        },
        {
          "output_type": "display_data",
          "data": {
            "image/png": "[encoded data removed]",
            "text/plain": [
              "<Figure size 432x288 with 1 Axes>"
            ]
          },
          "metadata": {
            "tags": []
          }
        },
        {
          "output_type": "stream",
          "text": [
            "  'proposed' -> 'taer<STOP><STOP><STOP><STOP>h'\n"
          ],
          "name": "stdout"
        },
        {
          "output_type": "display_data",
          "data": {
            "image/png": "[encoded data removed]",
            "text/plain": [
              "<Figure size 432x288 with 1 Axes>"
            ]
          },
          "metadata": {
            "tags": []
          }
        },
        {
          "output_type": "stream",
          "text": [
            "  'industry' -> 'tn<STOP><STOP><STOP><STOP><STOP><STOP><STOP>'\n"
          ],
          "name": "stdout"
        },
        {
          "output_type": "display_data",
          "data": {
            "image/png": "[encoded data removed]",
            "text/plain": [
              "<Figure size 432x288 with 1 Axes>"
            ]
          },
          "metadata": {
            "tags": []
          }
        },
        {
          "output_type": "stream",
          "text": [
            "  'approval' -> 'h<STOP><STOP>eeuen<STOP>'\n",
            "  Batch: 60 Loss: 2.6084407655398048\n",
            "Test loss: 2.667464\n",
            "Training epoch 8...\n",
            "Discr loss: 0.034979\n",
            "  Batch: 30 Loss: 3.0251535198675885\n",
            "Discr loss: 0.055991\n",
            "  Batch: 60 Loss: 3.0364178596980986\n",
            "Discr loss: 0.240657\n",
            "  Batch: 90 Loss: 2.8523210302484103\n",
            "Discr loss: 0.149890\n",
            "  Batch: 120 Loss: 2.908253876948483\n",
            "Discr loss: 0.067423\n",
            "  Batch: 150 Loss: 2.931213309701788\n",
            "Discr loss: 0.059811\n",
            "  Batch: 180 Loss: 2.757008413814363\n",
            "Discr loss: 0.463219\n",
            "  Batch: 210 Loss: 2.8467406786308085\n",
            "Discr loss: 0.051294\n",
            "  Batch: 240 Loss: 2.82379943327929\n",
            "Discr loss: 0.216434\n",
            "  Batch: 270 Loss: 2.716345470569751\n",
            "Discr loss: 0.077910\n",
            "  Batch: 300 Loss: 2.7598101284894994\n",
            "Discr loss: 0.153538\n",
            "  Batch: 330 Loss: 2.9048914383075854\n",
            "Discr loss: 0.279014\n",
            "  Batch: 360 Loss: 2.637681065741039\n",
            "Discr loss: 0.789407\n",
            "  Batch: 390 Loss: 2.7348947286353544\n",
            "Discr loss: 0.084129\n",
            "  Batch: 420 Loss: 2.7766531281244187\n",
            "Discr loss: 0.168239\n",
            "  Batch: 450 Loss: 2.747491182221306\n",
            "Discr loss: 0.198309\n",
            "  Batch: 480 Loss: 2.7384215364758933\n",
            "Discr loss: 0.237776\n",
            "  Batch: 510 Loss: 2.787945976610537\n",
            "Discr loss: 0.256071\n",
            "  Batch: 540 Loss: 2.5770515833960643\n",
            "Train loss: 2.799539\n",
            "Discr applied 344 times.\n",
            "Testing...\n"
          ],
          "name": "stdout"
        },
        {
          "output_type": "display_data",
          "data": {
            "image/png": "[encoded data removed]",
            "text/plain": [
              "<Figure size 432x288 with 1 Axes>"
            ]
          },
          "metadata": {
            "tags": []
          }
        },
        {
          "output_type": "stream",
          "text": [
            "  'of' -> 'tnr'\n"
          ],
          "name": "stdout"
        },
        {
          "output_type": "display_data",
          "data": {
            "image/png": "[encoded data removed]",
            "text/plain": [
              "<Figure size 432x288 with 1 Axes>"
            ]
          },
          "metadata": {
            "tags": []
          }
        },
        {
          "output_type": "stream",
          "text": [
            "  'on' -> 'tfe'\n"
          ],
          "name": "stdout"
        },
        {
          "output_type": "display_data",
          "data": {
            "image/png": "[encoded data removed]",
            "text/plain": [
              "<Figure size 432x288 with 1 Axes>"
            ]
          },
          "metadata": {
            "tags": []
          }
        },
        {
          "output_type": "stream",
          "text": [
            "  'in' -> 'an<STOP>'\n",
            "  Batch: 20 Loss: 2.712146071025304\n"
          ],
          "name": "stdout"
        },
        {
          "output_type": "display_data",
          "data": {
            "image/png": "[encoded data removed]",
            "text/plain": [
              "<Figure size 432x288 with 1 Axes>"
            ]
          },
          "metadata": {
            "tags": []
          }
        },
        {
          "output_type": "stream",
          "text": [
            "  'is' -> 'tn<STOP>'\n"
          ],
          "name": "stdout"
        },
        {
          "output_type": "display_data",
          "data": {
            "image/png": "[encoded data removed]",
            "text/plain": [
              "<Figure size 432x288 with 1 Axes>"
            ]
          },
          "metadata": {
            "tags": []
          }
        },
        {
          "output_type": "stream",
          "text": [
            "  'is' -> 'hnr'\n"
          ],
          "name": "stdout"
        },
        {
          "output_type": "display_data",
          "data": {
            "image/png": "[encoded data removed]",
            "text/plain": [
              "<Figure size 432x288 with 1 Axes>"
            ]
          },
          "metadata": {
            "tags": []
          }
        },
        {
          "output_type": "stream",
          "text": [
            "  'of' -> 'tfs'\n",
            "  Batch: 40 Loss: 2.750361444306752\n"
          ],
          "name": "stdout"
        },
        {
          "output_type": "display_data",
          "data": {
            "image/png": "[encoded data removed]",
            "text/plain": [
              "<Figure size 432x288 with 1 Axes>"
            ]
          },
          "metadata": {
            "tags": []
          }
        },
        {
          "output_type": "stream",
          "text": [
            "  'of' -> 'tfs'\n"
          ],
          "name": "stdout"
        },
        {
          "output_type": "display_data",
          "data": {
            "image/png": "[encoded data removed]",
            "text/plain": [
              "<Figure size 432x288 with 1 Axes>"
            ]
          },
          "metadata": {
            "tags": []
          }
        },
        {
          "output_type": "stream",
          "text": [
            "  'of' -> 'tfe'\n"
          ],
          "name": "stdout"
        },
        {
          "output_type": "display_data",
          "data": {
            "image/png": "[encoded data removed]",
            "text/plain": [
              "<Figure size 432x288 with 1 Axes>"
            ]
          },
          "metadata": {
            "tags": []
          }
        },
        {
          "output_type": "stream",
          "text": [
            "  'in' -> 'tne'\n",
            "  Batch: 60 Loss: 2.4421931205855474\n",
            "Test loss: 2.591492\n",
            "Training epoch 9...\n",
            "Discr loss: 0.060097\n",
            "  Batch: 30 Loss: 2.8131102943420414\n",
            "Discr loss: 0.076738\n",
            "  Batch: 60 Loss: 2.858752051434189\n",
            "Discr loss: 0.161475\n",
            "  Batch: 90 Loss: 2.8163258402688163\n",
            "Discr loss: 0.520968\n",
            "  Batch: 120 Loss: 3.069539751375794\n",
            "Discr loss: 0.149858\n",
            "  Batch: 150 Loss: 2.9438105519612634\n",
            "Discr loss: 0.519249\n",
            "  Batch: 180 Loss: 2.747565609790661\n",
            "Discr loss: 0.224444\n",
            "  Batch: 210 Loss: 2.8877665265401204\n",
            "Discr loss: 0.201196\n",
            "  Batch: 240 Loss: 2.719682507943855\n",
            "Discr loss: 0.200100\n",
            "  Batch: 270 Loss: 2.724766124871673\n",
            "Discr loss: 0.212578\n",
            "  Batch: 300 Loss: 2.908938192513885\n",
            "Discr loss: 0.269246\n",
            "  Batch: 330 Loss: 2.7178936436315064\n",
            "Discr loss: 0.033947\n",
            "  Batch: 360 Loss: 2.8492555497436927\n",
            "Discr loss: 0.594404\n",
            "  Batch: 390 Loss: 2.788385192275678\n",
            "Discr loss: 0.177988\n",
            "  Batch: 420 Loss: 2.7380281006343785\n",
            "Discr loss: 0.258958\n",
            "  Batch: 450 Loss: 2.783117300972106\n",
            "Discr loss: 0.339181\n",
            "  Batch: 480 Loss: 2.7177926680398365\n",
            "Discr loss: 0.195673\n",
            "  Batch: 510 Loss: 2.60566949231284\n",
            "Discr loss: 0.507891\n",
            "  Batch: 540 Loss: 2.743186754120721\n",
            "Train loss: 2.791961\n",
            "Discr applied 341 times.\n",
            "Testing...\n"
          ],
          "name": "stdout"
        },
        {
          "output_type": "display_data",
          "data": {
            "image/png": "[encoded data removed]",
            "text/plain": [
              "<Figure size 432x288 with 1 Axes>"
            ]
          },
          "metadata": {
            "tags": []
          }
        },
        {
          "output_type": "stream",
          "text": [
            "  'welfare' -> 'tar<STOP><STOP>re<STOP>'\n"
          ],
          "name": "stdout"
        },
        {
          "output_type": "display_data",
          "data": {
            "image/png": "[encoded data removed]",
            "text/plain": [
              "<Figure size 432x288 with 1 Axes>"
            ]
          },
          "metadata": {
            "tags": []
          }
        },
        {
          "output_type": "stream",
          "text": [
            "  'Macleod' -> 'fote<STOP><STOP>r<STOP>'\n"
          ],
          "name": "stdout"
        },
        {
          "output_type": "display_data",
          "data": {
            "image/png": "[encoded data removed]",
            "text/plain": [
              "<Figure size 432x288 with 1 Axes>"
            ]
          },
          "metadata": {
            "tags": []
          }
        },
        {
          "output_type": "stream",
          "text": [
            "  'present' -> 'toer<STOP><STOP><STOP><STOP>'\n",
            "  Batch: 20 Loss: 2.7373095363283917\n"
          ],
          "name": "stdout"
        },
        {
          "output_type": "display_data",
          "data": {
            "image/png": "[encoded data removed]",
            "text/plain": [
              "<Figure size 432x288 with 1 Axes>"
            ]
          },
          "metadata": {
            "tags": []
          }
        },
        {
          "output_type": "stream",
          "text": [
            "  '1958' -> 'tei<STOP><STOP>'\n"
          ],
          "name": "stdout"
        },
        {
          "output_type": "display_data",
          "data": {
            "image/png": "[encoded data removed]",
            "text/plain": [
              "<Figure size 432x288 with 1 Axes>"
            ]
          },
          "metadata": {
            "tags": []
          }
        },
        {
          "output_type": "stream",
          "text": [
            "  'full' -> 'teted'\n"
          ],
          "name": "stdout"
        },
        {
          "output_type": "display_data",
          "data": {
            "image/png": "[encoded data removed]",
            "text/plain": [
              "<Figure size 432x288 with 1 Axes>"
            ]
          },
          "metadata": {
            "tags": []
          }
        },
        {
          "output_type": "stream",
          "text": [
            "  'This' -> 'thes<STOP>'\n",
            "  Batch: 40 Loss: 2.703342892101833\n"
          ],
          "name": "stdout"
        },
        {
          "output_type": "display_data",
          "data": {
            "image/png": "[encoded data removed]",
            "text/plain": [
              "<Figure size 432x288 with 1 Axes>"
            ]
          },
          "metadata": {
            "tags": []
          }
        },
        {
          "output_type": "stream",
          "text": [
            "  'that' -> 'thet<STOP>'\n"
          ],
          "name": "stdout"
        },
        {
          "output_type": "display_data",
          "data": {
            "image/png": "[encoded data removed]",
            "text/plain": [
              "<Figure size 432x288 with 1 Axes>"
            ]
          },
          "metadata": {
            "tags": []
          }
        },
        {
          "output_type": "stream",
          "text": [
            "  'they' -> 'the<STOP>n'\n"
          ],
          "name": "stdout"
        },
        {
          "output_type": "display_data",
          "data": {
            "image/png": "[encoded data removed]",
            "text/plain": [
              "<Figure size 432x288 with 1 Axes>"
            ]
          },
          "metadata": {
            "tags": []
          }
        },
        {
          "output_type": "stream",
          "text": [
            "  'date' -> 'tot<STOP><STOP>'\n",
            "  Batch: 60 Loss: 2.465087295638191\n",
            "Test loss: 2.592046\n",
            "Training epoch 10...\n",
            "Discr loss: 0.104123\n",
            "  Batch: 30 Loss: 2.7881063252403617\n",
            "Discr loss: 0.076563\n",
            "  Batch: 60 Loss: 2.7754864998216977\n",
            "Discr loss: 0.269981\n",
            "  Batch: 90 Loss: 2.81852358636402\n",
            "Discr loss: 0.353571\n",
            "  Batch: 120 Loss: 2.8085409877918384\n",
            "Discr loss: 0.683257\n",
            "  Batch: 150 Loss: 2.8417174031242496\n",
            "Discr loss: 0.487915\n",
            "  Batch: 180 Loss: 2.751064921485053\n",
            "Discr loss: 0.185881\n",
            "  Batch: 210 Loss: 2.692623002844513\n",
            "Discr loss: 0.303182\n",
            "  Batch: 240 Loss: 2.7131440624105867\n",
            "Discr loss: 0.609972\n",
            "  Batch: 270 Loss: 2.934748832737958\n",
            "Discr loss: 0.094845\n",
            "  Batch: 300 Loss: 2.749632951418559\n",
            "Discr loss: 0.286728\n",
            "  Batch: 330 Loss: 2.7127714646051806\n",
            "Discr loss: 0.242685\n",
            "  Batch: 360 Loss: 2.9449037974221364\n",
            "Discr loss: 0.118900\n",
            "  Batch: 390 Loss: 2.741981728190467\n",
            "Discr loss: 0.251191\n",
            "  Batch: 420 Loss: 2.921525486840143\n",
            "Discr loss: 0.251007\n",
            "  Batch: 450 Loss: 2.717244034242378\n",
            "Discr loss: 0.109843\n",
            "  Batch: 480 Loss: 2.7995631410205175\n",
            "Discr loss: 0.153837\n",
            "  Batch: 510 Loss: 2.677986946232105\n",
            "Discr loss: 0.511880\n",
            "  Batch: 540 Loss: 2.905380553820777\n",
            "Train loss: 2.784481\n",
            "Discr applied 340 times.\n",
            "Testing...\n"
          ],
          "name": "stdout"
        },
        {
          "output_type": "display_data",
          "data": {
            "image/png": "[encoded data removed]",
            "text/plain": [
              "<Figure size 432x288 with 1 Axes>"
            ]
          },
          "metadata": {
            "tags": []
          }
        },
        {
          "output_type": "stream",
          "text": [
            "  'prison' -> 'toeee<STOP>l'\n"
          ],
          "name": "stdout"
        },
        {
          "output_type": "display_data",
          "data": {
            "image/png": "[encoded data removed]",
            "text/plain": [
              "<Figure size 432x288 with 1 Axes>"
            ]
          },
          "metadata": {
            "tags": []
          }
        },
        {
          "output_type": "stream",
          "text": [
            "  'Prince' -> 'teet<STOP><STOP>n'\n"
          ],
          "name": "stdout"
        },
        {
          "output_type": "display_data",
          "data": {
            "image/png": "[encoded data removed]",
            "text/plain": [
              "<Figure size 432x288 with 1 Axes>"
            ]
          },
          "metadata": {
            "tags": []
          }
        },
        {
          "output_type": "stream",
          "text": [
            "  'police' -> 'ter<STOP><STOP>t<STOP>'\n",
            "  Batch: 20 Loss: 2.891234877071683\n"
          ],
          "name": "stdout"
        },
        {
          "output_type": "display_data",
          "data": {
            "image/png": "[encoded data removed]",
            "text/plain": [
              "<Figure size 432x288 with 1 Axes>"
            ]
          },
          "metadata": {
            "tags": []
          }
        },
        {
          "output_type": "stream",
          "text": [
            "  'There' -> 'the<STOP><STOP>t'\n"
          ],
          "name": "stdout"
        },
        {
          "output_type": "display_data",
          "data": {
            "image/png": "[encoded data removed]",
            "text/plain": [
              "<Figure size 432x288 with 1 Axes>"
            ]
          },
          "metadata": {
            "tags": []
          }
        },
        {
          "output_type": "stream",
          "text": [
            "  'which' -> 'theshn'\n"
          ],
          "name": "stdout"
        },
        {
          "output_type": "display_data",
          "data": {
            "image/png": "[encoded data removed]",
            "text/plain": [
              "<Figure size 432x288 with 1 Axes>"
            ]
          },
          "metadata": {
            "tags": []
          }
        },
        {
          "output_type": "stream",
          "text": [
            "  'other' -> 'tfhe<STOP><STOP>'\n",
            "  Batch: 40 Loss: 2.5141070331089077\n"
          ],
          "name": "stdout"
        },
        {
          "output_type": "display_data",
          "data": {
            "image/png": "[encoded data removed]",
            "text/plain": [
              "<Figure size 432x288 with 1 Axes>"
            ]
          },
          "metadata": {
            "tags": []
          }
        },
        {
          "output_type": "stream",
          "text": [
            "  'he' -> 'aae'\n"
          ],
          "name": "stdout"
        },
        {
          "output_type": "display_data",
          "data": {
            "image/png": "[encoded data removed]",
            "text/plain": [
              "<Figure size 432x288 with 1 Axes>"
            ]
          },
          "metadata": {
            "tags": []
          }
        },
        {
          "output_type": "stream",
          "text": [
            "  'of' -> 'tfe'\n"
          ],
          "name": "stdout"
        },
        {
          "output_type": "display_data",
          "data": {
            "image/png": "[encoded data removed]",
            "text/plain": [
              "<Figure size 432x288 with 1 Axes>"
            ]
          },
          "metadata": {
            "tags": []
          }
        },
        {
          "output_type": "stream",
          "text": [
            "  'to' -> 'thd'\n",
            "  Batch: 60 Loss: 2.411134714739663\n",
            "Test loss: 2.558090\n",
            "Training epoch 11...\n",
            "Discr loss: 0.302532\n",
            "  Batch: 30 Loss: 2.9566057551600937\n",
            "Discr loss: 0.046026\n",
            "  Batch: 60 Loss: 2.7391808089251244\n",
            "Discr loss: 0.045057\n",
            "  Batch: 90 Loss: 2.7907181280126014\n",
            "Discr loss: 0.176367\n",
            "  Batch: 120 Loss: 2.6115425644223653\n",
            "Discr loss: 0.305567\n",
            "  Batch: 150 Loss: 2.715022533381427\n",
            "Discr loss: 0.761818\n",
            "  Batch: 180 Loss: 2.7167813544046306\n",
            "Discr loss: 0.653299\n",
            "  Batch: 210 Loss: 2.8551492361038453\n",
            "Discr loss: 0.696272\n",
            "  Batch: 240 Loss: 3.0269110784833395\n",
            "Discr loss: 0.299927\n",
            "  Batch: 270 Loss: 2.6188196500142413\n",
            "Discr loss: 0.203328\n",
            "  Batch: 300 Loss: 2.64116638266851\n",
            "Discr loss: 0.329919\n",
            "  Batch: 330 Loss: 2.809971551516699\n",
            "Discr loss: 0.179909\n",
            "  Batch: 360 Loss: 2.7133392069327136\n",
            "Discr loss: 0.559696\n",
            "  Batch: 390 Loss: 2.7546467495721485\n",
            "Discr loss: 0.166583\n",
            "  Batch: 420 Loss: 2.825264698891412\n",
            "Discr loss: 0.225209\n",
            "  Batch: 450 Loss: 2.966316141527166\n",
            "Discr loss: 0.248536\n",
            "  Batch: 480 Loss: 2.5806992801030475\n",
            "Discr loss: 0.198159\n",
            "  Batch: 510 Loss: 2.752877860599094\n",
            "Discr loss: 0.572637\n",
            "  Batch: 540 Loss: 2.6875810400644933\n",
            "Train loss: 2.760011\n",
            "Discr applied 349 times.\n",
            "Testing...\n"
          ],
          "name": "stdout"
        },
        {
          "output_type": "display_data",
          "data": {
            "image/png": "[encoded data removed]",
            "text/plain": [
              "<Figure size 432x288 with 1 Axes>"
            ]
          },
          "metadata": {
            "tags": []
          }
        },
        {
          "output_type": "stream",
          "text": [
            "  'reserves' -> 'ae<STOP><STOP><STOP><STOP>e<STOP><STOP>'\n"
          ],
          "name": "stdout"
        },
        {
          "output_type": "display_data",
          "data": {
            "image/png": "[encoded data removed]",
            "text/plain": [
              "<Figure size 432x288 with 1 Axes>"
            ]
          },
          "metadata": {
            "tags": []
          }
        },
        {
          "output_type": "stream",
          "text": [
            "  'meetings' -> 'tern<STOP>ng<STOP><STOP>'\n"
          ],
          "name": "stdout"
        },
        {
          "output_type": "display_data",
          "data": {
            "image/png": "[encoded data removed]",
            "text/plain": [
              "<Figure size 432x288 with 1 Axes>"
            ]
          },
          "metadata": {
            "tags": []
          }
        },
        {
          "output_type": "stream",
          "text": [
            "  'declared' -> 'to<STOP>he<STOP><STOP><STOP>d'\n",
            "  Batch: 20 Loss: 2.825232490963406\n"
          ],
          "name": "stdout"
        },
        {
          "output_type": "display_data",
          "data": {
            "image/png": "[encoded data removed]",
            "text/plain": [
              "<Figure size 432x288 with 1 Axes>"
            ]
          },
          "metadata": {
            "tags": []
          }
        },
        {
          "output_type": "stream",
          "text": [
            "  'can' -> 'tos<STOP>'\n"
          ],
          "name": "stdout"
        },
        {
          "output_type": "display_data",
          "data": {
            "image/png": "[encoded data removed]",
            "text/plain": [
              "<Figure size 432x288 with 1 Axes>"
            ]
          },
          "metadata": {
            "tags": []
          }
        },
        {
          "output_type": "stream",
          "text": [
            "  'the' -> 'toeh'\n"
          ],
          "name": "stdout"
        },
        {
          "output_type": "display_data",
          "data": {
            "image/png": "[encoded data removed]",
            "text/plain": [
              "<Figure size 432x288 with 1 Axes>"
            ]
          },
          "metadata": {
            "tags": []
          }
        },
        {
          "output_type": "stream",
          "text": [
            "  'who' -> 'tae<STOP>'\n",
            "  Batch: 40 Loss: 2.4924555646048647\n"
          ],
          "name": "stdout"
        },
        {
          "output_type": "display_data",
          "data": {
            "image/png": "[encoded data removed]",
            "text/plain": [
              "<Figure size 432x288 with 1 Axes>"
            ]
          },
          "metadata": {
            "tags": []
          }
        },
        {
          "output_type": "stream",
          "text": [
            "  'of' -> 'af<STOP>'\n"
          ],
          "name": "stdout"
        },
        {
          "output_type": "display_data",
          "data": {
            "image/png": "[encoded data removed]",
            "text/plain": [
              "<Figure size 432x288 with 1 Axes>"
            ]
          },
          "metadata": {
            "tags": []
          }
        },
        {
          "output_type": "stream",
          "text": [
            "  'in' -> 'tne'\n"
          ],
          "name": "stdout"
        },
        {
          "output_type": "display_data",
          "data": {
            "image/png": "[encoded data removed]",
            "text/plain": [
              "<Figure size 432x288 with 1 Axes>"
            ]
          },
          "metadata": {
            "tags": []
          }
        },
        {
          "output_type": "stream",
          "text": [
            "  'to' -> 'the'\n",
            "  Batch: 60 Loss: 2.405039815675645\n",
            "Test loss: 2.530858\n",
            "Training epoch 12...\n",
            "Discr loss: 0.222473\n",
            "  Batch: 30 Loss: 2.7503225532410633\n"
          ],
          "name": "stdout"
        }
      ]
    },
    {
      "metadata": {
        "id": "y8IIhQBGsOoL",
        "colab_type": "code",
        "colab": {}
      },
      "cell_type": "code",
      "source": [
        "test(9)"
      ],
      "execution_count": 0,
      "outputs": []
    },
    {
      "metadata": {
        "id": "1xrGl2QIsP13",
        "colab_type": "code",
        "colab": {}
      },
      "cell_type": "code",
      "source": [
        ""
      ],
      "execution_count": 0,
      "outputs": []
    }
  ]
}