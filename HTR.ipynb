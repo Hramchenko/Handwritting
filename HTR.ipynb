{
  "nbformat": 4,
  "nbformat_minor": 0,
  "metadata": {
    "colab": {
      "name": "HTR.ipynb",
      "version": "0.3.2",
      "provenance": [],
      "collapsed_sections": [],
      "include_colab_link": true
    },
    "kernelspec": {
      "name": "python3",
      "display_name": "Python 3"
    },
    "accelerator": "GPU"
  },
  "cells": [
    {
      "cell_type": "markdown",
      "metadata": {
        "id": "view-in-github",
        "colab_type": "text"
      },
      "source": [
        "<a href=\"https://colab.research.google.com/github/Hramchenko/Handwritting/blob/master/HTR.ipynb\" target=\"_parent\"><img src=\"https://colab.research.google.com/assets/colab-badge.svg\" alt=\"Open In Colab\"/></a>"
      ]
    },
    {
      "metadata": {
        "id": "B2SyXNlg2yfE",
        "colab_type": "code",
        "colab": {
          "base_uri": "https://localhost:8080/",
          "height": 51
        },
        "outputId": "9e24a8b9-21ea-4a56-83e6-fa11c8bf2e65"
      },
      "cell_type": "code",
      "source": [
        "import torch\n",
        "print(\"Device \" + torch.cuda.get_device_name(0))\n",
        "device = torch.device(\"cuda:0\")\n",
        "print(device)"
      ],
      "execution_count": 1,
      "outputs": [
        {
          "output_type": "stream",
          "text": [
            "Device Tesla K80\n",
            "cuda:0\n"
          ],
          "name": "stdout"
        }
      ]
    },
    {
      "metadata": {
        "id": "JKxS6mCu4TPl",
        "colab_type": "code",
        "colab": {
          "base_uri": "https://localhost:8080/",
          "height": 86
        },
        "outputId": "7ff418b3-5d53-4681-e2ee-b00f27ae57e7"
      },
      "cell_type": "code",
      "source": [
        "import sys\n",
        "sys.path.append(\"./Handwritting/\")\n",
        "from IAMWords import IAMWords\n",
        "train = IAMWords(\"train\", \"./IAM/\")\n",
        "test = IAMWords(\"test\", \"./IAM/\")"
      ],
      "execution_count": 3,
      "outputs": [
        {
          "output_type": "stream",
          "text": [
            "Reading ./IAM/words.train.pkl...\n",
            "Reading finished\n",
            "Reading ./IAM/words.test.pkl...\n",
            "Reading finished\n"
          ],
          "name": "stdout"
        }
      ]
    },
    {
      "metadata": {
        "id": "CgHMSnzu27x3",
        "colab_type": "code",
        "colab": {}
      },
      "cell_type": "code",
      "source": [
        "import torch.nn as nn\n",
        "import torch.nn.functional as F\n",
        "import torch\n",
        "\n",
        "\n",
        "class BasicBlock(nn.Module):\n",
        "    expansion = 1\n",
        "\n",
        "    def __init__(self, in_planes, planes, stride=1):\n",
        "        super(BasicBlock, self).__init__()\n",
        "        self.conv1 = nn.Conv2d(in_planes, planes, kernel_size=3, stride=stride, padding=1, bias=False)\n",
        "        self.bn1 = nn.BatchNorm2d(planes)\n",
        "        self.conv2 = nn.Conv2d(planes, planes, kernel_size=3, stride=1, padding=1, bias=False)\n",
        "        self.bn2 = nn.BatchNorm2d(planes)\n",
        "\n",
        "        self.shortcut = nn.Sequential()\n",
        "        if stride != 1 or in_planes != self.expansion*planes:\n",
        "            self.shortcut = nn.Sequential(\n",
        "                nn.Conv2d(in_planes, self.expansion*planes, kernel_size=1, stride=stride, bias=False),\n",
        "                nn.BatchNorm2d(self.expansion*planes)\n",
        "            )\n",
        "\n",
        "    def forward(self, x):\n",
        "        out = F.relu(self.bn1(self.conv1(x)))\n",
        "        out = self.bn2(self.conv2(out))\n",
        "        out += self.shortcut(x)\n",
        "        out = F.relu(out)\n",
        "        return out\n",
        "\n",
        "class HTRNet(nn.Module):\n",
        "    def __init__(self, cnn_cfg, rnn_cfg, nclasses):\n",
        "        super(HTRNet, self).__init__()\n",
        "\n",
        "        #cfg = [(2, 16), 'M', (4, 32), 'M', (6, 64), 'M', (2, 128)]\n",
        "\n",
        "        in_channels = 1\n",
        "        self.features = nn.ModuleList([])\n",
        "        cntm = 0\n",
        "        cnt = 1\n",
        "        for m in cnn_cfg:\n",
        "            if m == 'M':\n",
        "                self.features.add_module('mxp' + str(cntm), nn.MaxPool2d(kernel_size=2, stride=2))\n",
        "                cntm += 1\n",
        "            else:\n",
        "                for i in range(m[0]):\n",
        "                    x = m[1]\n",
        "                    self.features.add_module('cnv' + str(cnt), nn.Conv2d(in_channels, x, 3, 1, 1, bias=True))\n",
        "                    #self.features.add_module('cnv' + str(cnt), BasicBlock(in_channels, x))\n",
        "                    in_channels = x\n",
        "                    self.features.add_module('nl' + str(cnt), nn.Sequential(nn.BatchNorm2d(x, momentum=.5), nn.ReLU()))\n",
        "                    #self.features.add_module('nl' + str(cnt), nn.ReLU())\n",
        "                    cnt += 1\n",
        "\n",
        "\n",
        "        rnn_in = cnn_cfg[-1][-1]\n",
        "        hidden, num_layers = rnn_cfg\n",
        "\n",
        "        self.rec = nn.LSTM(rnn_in, hidden, num_layers=num_layers, bidirectional=True)\n",
        "\n",
        "        self.fnl = nn.Sequential(nn.Linear(2*hidden, 512), nn.ReLU(), nn.Dropout(.5), nn.Linear(512, nclasses))\n",
        "\n",
        "    def forward(self, x):\n",
        "\n",
        "        y = x\n",
        "        for nn_module in self.features:\n",
        "            y = nn_module(y)\n",
        "\n",
        "        y = F.max_pool2d(y, [y.size(2), 1], padding=[0, 0])\n",
        "        y = y.permute(2, 3, 0, 1)[0]  # 1 x seq_len x batch_size x feat\n",
        "        y = self.rec(y)[0] #.view(1, -1)\n",
        "        y = self.fnl(y)\n",
        "\n",
        "        return y\n"
      ],
      "execution_count": 0,
      "outputs": []
    },
    {
      "metadata": {
        "id": "XBNTbPaO3hNS",
        "colab_type": "code",
        "colab": {}
      },
      "cell_type": "code",
      "source": [
        ""
      ],
      "execution_count": 0,
      "outputs": []
    }
  ]
}