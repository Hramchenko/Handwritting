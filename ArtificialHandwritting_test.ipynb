{
 "cells": [
  {
   "cell_type": "code",
   "execution_count": 16,
   "metadata": {},
   "outputs": [],
   "source": [
    "%matplotlib inline"
   ]
  },
  {
   "cell_type": "code",
   "execution_count": 43,
   "metadata": {},
   "outputs": [],
   "source": [
    "import os\n",
    "import cv2\n",
    "from xml.dom import minidom\n",
    "import matplotlib.pyplot as plt\n",
    "from math import floor\n",
    "from random import random\n",
    "import scipy as sp\n",
    "\n",
    "\n",
    "class ArtificialHandwrittingObject:\n",
    "    \n",
    "    def __init__(self, name, img):\n",
    "        self.name = name\n",
    "        self.image = img\n",
    "\n",
    "class ArtificialHandwritting:\n",
    "    \n",
    "    def __init__(self, datasetDir, scale, image_height):\n",
    "        self.scale = scale\n",
    "        self.height = image_height\n",
    "        self.datasetDirectory = datasetDir\n",
    "        self.data = {}\n",
    "        self.initOffsets()\n",
    "        \n",
    "        for f_name in os.listdir(datasetDir):\n",
    "            if not f_name.endswith(\".xml\"):\n",
    "                continue\n",
    "            full_path = datasetDir + f_name\n",
    "            print(full_path)\n",
    "            self.process_xml(full_path)\n",
    "            \n",
    "    def initOffsets(self):\n",
    "        self.offsets = {\n",
    "            'a': 0,\n",
    "            'b': -0.1,\n",
    "            'c': 0,\n",
    "            'd': 0,\n",
    "            'e': 0,\n",
    "            'f': -0.2,\n",
    "            'g': +0.3,\n",
    "            'h': 0,\n",
    "            'i': -0.15,\n",
    "            'j': +0.2,\n",
    "            'k': 0,\n",
    "            'l': -0.15,\n",
    "            'm': 0,\n",
    "            'n': 0,\n",
    "            'o': 0,\n",
    "            'p': 0,\n",
    "            'q': +0.2,\n",
    "            'r': 0,\n",
    "            's': 0,\n",
    "            't': -0.2,\n",
    "            'u': 0,\n",
    "            'v': 0,\n",
    "            'w': 0,\n",
    "            'x': 0,\n",
    "            'y': +0.2,\n",
    "            'z': 0,\n",
    "        }\n",
    "        \n",
    "        \n",
    "        \n",
    "    def getValue(self, node, name):\n",
    "        v  = node.getElementsByTagName(name) \n",
    "        if len(v) != 1:\n",
    "            raise Exception()\n",
    "        v = v[0].firstChild.data\n",
    "        return v\n",
    "    \n",
    "    def make_word(self, word):\n",
    "        center = self.height*0.5\n",
    "        result = sp.ones([self.height, 1500], dtype=\"float64\")\n",
    "        candidates = []\n",
    "        for k in self.data.keys():\n",
    "            d = self.data[k]\n",
    "            flag = True\n",
    "            for s in word:\n",
    "                if s not in d:\n",
    "                    flag = False\n",
    "                    break\n",
    "            if flag:\n",
    "                candidates.append(k)\n",
    "        idx = floor(random()*len(candidates))\n",
    "        img_file = candidates[idx]\n",
    "        page = self.data[img_file]\n",
    "        x = 0\n",
    "        for s in word:\n",
    "            s_idx = floor(len(page[s])*random())\n",
    "            obj_im = page[s][s_idx].image\n",
    "            c = 0.5*obj_im.shape[0]\n",
    "            dy = 0 + floor(center - c + obj_im.shape[0]*(self.offsets[s]+random()*0.05))#+random()*0.05))\n",
    "            #print(dy)\n",
    "            #print(obj_im.dtype)\n",
    "            result[dy: dy + obj_im.shape[0], x: x+obj_im.shape[1]] = obj_im\n",
    "            x += obj_im.shape[1]\n",
    "        return result, img_file\n",
    "            \n",
    "    def process_xml(self, f_path):\n",
    "        \n",
    "        xml_file = minidom.parse(f_path)\n",
    "        #xml_file.normalize()\n",
    "        annotation = xml_file.getElementsByTagName('annotation')\n",
    "        if len(annotation) != 1:\n",
    "            raise Exception()\n",
    "        annotation = annotation[0]\n",
    "        img_name = self.getValue(annotation, 'filename')\n",
    "        image_file = self.datasetDirectory + img_name\n",
    "        img = cv2.imread(image_file, 0)\n",
    "        print(image_file)\n",
    "        objects = annotation.getElementsByTagName('object')\n",
    "        #print(len(objects))\n",
    "        content = {}\n",
    "        for obj in objects:\n",
    "            name  = self.getValue(obj, 'name')\n",
    "            if name not in content:\n",
    "                content[name] = []\n",
    "            x_min = int(self.getValue(obj, 'xmin'))\n",
    "            y_min = int(self.getValue(obj, 'ymin'))\n",
    "            x_max = int(self.getValue(obj, 'xmax'))\n",
    "            y_max = int(self.getValue(obj, 'ymax'))\n",
    "            obj_im = img[y_min: y_max, x_min: x_max]\n",
    "            s = self.scale\n",
    "            sh = obj_im.shape\n",
    "            obj_im = cv2.resize(obj_im, (floor(sh[1]*s), floor(sh[0]*s)), cv2.INTER_LANCZOS4)\n",
    "            if obj_im.shape[0] > self.height:\n",
    "                continue\n",
    "            obj_im = sp.float64(obj_im)    \n",
    "            obj_im = (obj_im - obj_im.min())/(obj_im.max() - obj_im.min())\n",
    "            handwr_obj = ArtificialHandwrittingObject(name, obj_im)\n",
    "            content[name].append(handwr_obj)\n",
    "        if img_name in self.data:\n",
    "            raise Exception()\n",
    "        self.data[img_name] = content\n",
    "        "
   ]
  },
  {
   "cell_type": "code",
   "execution_count": 61,
   "metadata": {},
   "outputs": [],
   "source": [
    "def cat_images(lst, out_file):\n",
    "    l = []\n",
    "    for n in lst:\n",
    "        im = cv2.imread(n)\n",
    "        l.append(im)\n",
    "    r = sp.vstack(l)\n",
    "    cv2.imwrite(out_file, r)\n",
    "\n",
    "# cat_images([\"/home/user/DL/VENV/MyLetters/my/0001.jpg\",\n",
    "# \"/home/user/DL/VENV/MyLetters/my/0002.jpg\",\n",
    "# \"/home/user/DL/VENV/MyLetters/my/0003.jpg\",\n",
    "# \"/home/user/DL/VENV/MyLetters/my/0004.jpg\",\n",
    "# \"/home/user/DL/VENV/MyLetters/my/0005.jpg\"], \"/home/user/DL/VENV/MyLetters/my.jpg\")   "
   ]
  },
  {
   "cell_type": "code",
   "execution_count": null,
   "metadata": {},
   "outputs": [],
   "source": []
  },
  {
   "cell_type": "code",
   "execution_count": 82,
   "metadata": {},
   "outputs": [
    {
     "name": "stdout",
     "output_type": "stream",
     "text": [
      "/home/user/DL/VENV/MyLetters/a01-026u.xml\n",
      "/home/user/DL/VENV/MyLetters/a01-026u.png\n",
      "/home/user/DL/VENV/MyLetters/a01-053u.xml\n",
      "/home/user/DL/VENV/MyLetters/a01-053u.png\n",
      "/home/user/DL/VENV/MyLetters/a01-107.xml\n",
      "/home/user/DL/VENV/MyLetters/a01-107.png\n",
      "/home/user/DL/VENV/MyLetters/a01-107u.xml\n",
      "/home/user/DL/VENV/MyLetters/a01-107u.png\n",
      "/home/user/DL/VENV/MyLetters/a01-128.xml\n",
      "/home/user/DL/VENV/MyLetters/a01-128.png\n",
      "/home/user/DL/VENV/MyLetters/my.xml\n",
      "/home/user/DL/VENV/MyLetters/my.jpg\n",
      "a01-053u.png\n"
     ]
    },
    {
     "data": {
      "image/png": "[encoded data removed]",
      "text/plain": [
       "<Figure size 432x288 with 1 Axes>"
      ]
     },
     "metadata": {
      "needs_background": "light"
     },
     "output_type": "display_data"
    },
    {
     "name": "stdout",
     "output_type": "stream",
     "text": [
      "a01-128.png\n"
     ]
    },
    {
     "data": {
      "image/png": "[encoded data removed]",
      "text/plain": [
       "<Figure size 432x288 with 1 Axes>"
      ]
     },
     "metadata": {
      "needs_background": "light"
     },
     "output_type": "display_data"
    },
    {
     "name": "stdout",
     "output_type": "stream",
     "text": [
      "a01-053u.png\n"
     ]
    },
    {
     "data": {
      "image/png": "[encoded data removed]",
      "text/plain": [
       "<Figure size 432x288 with 1 Axes>"
      ]
     },
     "metadata": {
      "needs_background": "light"
     },
     "output_type": "display_data"
    },
    {
     "name": "stdout",
     "output_type": "stream",
     "text": [
      "my.jpg\n"
     ]
    },
    {
     "data": {
      "image/png": "[encoded data removed]",
      "text/plain": [
       "<Figure size 432x288 with 1 Axes>"
      ]
     },
     "metadata": {
      "needs_background": "light"
     },
     "output_type": "display_data"
    },
    {
     "name": "stdout",
     "output_type": "stream",
     "text": [
      "my.jpg\n"
     ]
    },
    {
     "data": {
      "image/png": "[encoded data removed]",
      "text/plain": [
       "<Figure size 432x288 with 1 Axes>"
      ]
     },
     "metadata": {
      "needs_background": "light"
     },
     "output_type": "display_data"
    }
   ],
   "source": [
    "dataset = ArtificialHandwritting(\"/home/user/DL/VENV/MyLetters/\", 1.0, 200)\n",
    "w,f = dataset.make_word(\"helloyellowdog\")\n",
    "print(f)\n",
    "plt.imshow(w)\n",
    "plt.show()\n",
    "w,f = dataset.make_word(\"himylittlefray\")\n",
    "print(f)\n",
    "plt.imshow(w)\n",
    "plt.show()\n",
    "\n",
    "w, f = dataset.make_word(\"abcdef\")#ghiklmnopqrstuvwy\")\n",
    "print(f)\n",
    "plt.imshow(w)\n",
    "plt.show()\n",
    "\n",
    "w,f = dataset.make_word(\"ghiklmnop\")#qrstuvwy\")\n",
    "print(f)\n",
    "plt.imshow(w)\n",
    "plt.show()\n",
    "\n",
    "w,f = dataset.make_word(\"qrstuvwy\")#qrstuvwy\")\n",
    "print(f)\n",
    "plt.imshow(w)\n",
    "plt.show()\n"
   ]
  },
  {
   "cell_type": "code",
   "execution_count": 45,
   "metadata": {},
   "outputs": [],
   "source": [
    "import scipy as sp\n"
   ]
  },
  {
   "cell_type": "code",
   "execution_count": 46,
   "metadata": {},
   "outputs": [
    {
     "data": {
      "text/plain": [
       "numpy.float64"
      ]
     },
     "execution_count": 46,
     "metadata": {},
     "output_type": "execute_result"
    }
   ],
   "source": [
    "sp.float64"
   ]
  },
  {
   "cell_type": "code",
   "execution_count": null,
   "metadata": {},
   "outputs": [],
   "source": []
  }
 ],
 "metadata": {
  "kernelspec": {
   "display_name": "Python 3",
   "language": "python",
   "name": "python3"
  },
  "language_info": {
   "codemirror_mode": {
    "name": "ipython",
    "version": 3
   },
   "file_extension": ".py",
   "mimetype": "text/x-python",
   "name": "python",
   "nbconvert_exporter": "python",
   "pygments_lexer": "ipython3",
   "version": "3.6.6"
  }
 },
 "nbformat": 4,
 "nbformat_minor": 2
}
