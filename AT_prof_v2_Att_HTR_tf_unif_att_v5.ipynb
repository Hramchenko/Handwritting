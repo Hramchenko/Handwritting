{
  "nbformat": 4,
  "nbformat_minor": 0,
  "metadata": {
    "colab": {
      "name": "AT prof_v2 Att HTR_tf_unif_att_v5.ipynb",
      "version": "0.3.2",
      "provenance": [],
      "collapsed_sections": [],
      "include_colab_link": true
    },
    "kernelspec": {
      "name": "python3",
      "display_name": "Python 3"
    },
    "accelerator": "GPU"
  },
  "cells": [
    {
      "cell_type": "markdown",
      "metadata": {
        "id": "view-in-github",
        "colab_type": "text"
      },
      "source": [
        "<a href=\"https://colab.research.google.com/github/Hramchenko/Handwritting/blob/master/AT_prof_v2_Att_HTR_tf_unif_att_v5.ipynb\" target=\"_parent\"><img src=\"https://colab.research.google.com/assets/colab-badge.svg\" alt=\"Open In Colab\"/></a>"
      ]
    },
    {
      "metadata": {
        "id": "uL5QRz_WMkMF",
        "colab_type": "code",
        "outputId": "fce08ed8-6f00-4c30-f582-f32ea0b88a08",
        "colab": {
          "base_uri": "https://localhost:8080/",
          "height": 51
        }
      },
      "cell_type": "code",
      "source": [
        "import torch\n",
        "print(\"Device \" + torch.cuda.get_device_name(0))\n",
        "device = torch.device(\"cuda:0\")\n",
        "#device = torch.device(\"cpu\")\n",
        "print(device)"
      ],
      "execution_count": 1,
      "outputs": [
        {
          "output_type": "stream",
          "text": [
            "Device Tesla K80\n",
            "cuda:0\n"
          ],
          "name": "stdout"
        }
      ]
    },
    {
      "metadata": {
        "id": "j5M_rV-VMqso",
        "colab_type": "code",
        "colab": {}
      },
      "cell_type": "code",
      "source": [
        "batch_size = 100"
      ],
      "execution_count": 0,
      "outputs": []
    },
    {
      "metadata": {
        "id": "kVeBVZEgMtb2",
        "colab_type": "code",
        "outputId": "7b454abd-ec37-44d8-ab80-e5b41443bf5c",
        "colab": {
          "base_uri": "https://localhost:8080/",
          "height": 86
        }
      },
      "cell_type": "code",
      "source": [
        "import sys\n",
        "sys.path.append(\"./Handwritting/\")\n",
        "from IAMWords import IAMWords\n",
        "image_width = 1500\n",
        "image_height = 200\n",
        "train_set = IAMWords(\"train\", \"./IAM/\", batch_size=batch_size, line_height=image_height, line_width=image_width, scale=1)\n",
        "test_set = IAMWords(\"test\", \"./IAM/\", batch_size=batch_size, line_height=image_height, line_width=image_width, scale=1)"
      ],
      "execution_count": 3,
      "outputs": [
        {
          "output_type": "stream",
          "text": [
            "Reading ./IAM/words.train.pkl...\n",
            "Reading finished\n",
            "Reading ./IAM/words.test.pkl...\n",
            "Reading finished\n"
          ],
          "name": "stdout"
        }
      ]
    },
    {
      "metadata": {
        "id": "K2fWx6tuK-4m",
        "colab_type": "code",
        "colab": {}
      },
      "cell_type": "code",
      "source": [
        "import torch\n",
        "import torch.nn as nn\n",
        "import torch.nn.functional as F\n",
        "import torch.optim as optim\n",
        "from IPython.core.debugger import set_trace\n",
        "%matplotlib inline\n",
        "import matplotlib.pyplot as plt"
      ],
      "execution_count": 0,
      "outputs": []
    },
    {
      "metadata": {
        "id": "jLNlm1yURr4W",
        "colab_type": "code",
        "colab": {}
      },
      "cell_type": "code",
      "source": [
        "class ConvLayer(nn.Module):\n",
        "    def __init__(self, size, padding=1, pool_layer=nn.MaxPool2d(2, stride=2),\n",
        "                 bn=False, dropout=False, activation_fn=nn.ReLU(), stride=1):\n",
        "        super(ConvLayer, self).__init__()\n",
        "        layers = []\n",
        "        layers.append(nn.Conv2d(size[0], size[1], size[2], padding=padding, stride=stride))\n",
        "        if pool_layer is not None:\n",
        "            layers.append(pool_layer)\n",
        "        if bn:\n",
        "            layers.append(nn.BatchNorm2d(size[1]))\n",
        "        if dropout:\n",
        "            layers.append(nn.Dropout2d())\n",
        "        layers.append(activation_fn)\n",
        "        \n",
        "        self.model = nn.Sequential(*layers)\n",
        "    \n",
        "    def forward(self, x):\n",
        "        return self.model(x)"
      ],
      "execution_count": 0,
      "outputs": []
    },
    {
      "metadata": {
        "id": "XmHNGG3oRshP",
        "colab_type": "code",
        "colab": {}
      },
      "cell_type": "code",
      "source": [
        "class DeconvLayer(nn.Module):\n",
        "    def __init__(self, size, padding=1, stride=1, \n",
        "                 bn=False, dropout=False, activation_fn=nn.ReLU(), output_padding=0):\n",
        "        super(DeconvLayer, self).__init__()\n",
        "        layers = []\n",
        "        layers.append(nn.ConvTranspose2d(size[0], size[1], size[2], padding=padding, \n",
        "                                         stride=stride, output_padding=output_padding))\n",
        "        if bn:\n",
        "            layers.append(nn.BatchNorm2d(size[1]))\n",
        "        if dropout:\n",
        "            layers.append(nn.Dropout2d())\n",
        "        layers.append(activation_fn)\n",
        "        \n",
        "        self.model = nn.Sequential(*layers)\n",
        "    \n",
        "    def forward(self, x):\n",
        "        return self.model(x)"
      ],
      "execution_count": 0,
      "outputs": []
    },
    {
      "metadata": {
        "id": "uZgtriryNAHg",
        "colab_type": "code",
        "colab": {}
      },
      "cell_type": "code",
      "source": [
        "none_lambda = lambda _: None"
      ],
      "execution_count": 0,
      "outputs": []
    },
    {
      "metadata": {
        "id": "hO1gydZeRvE1",
        "colab_type": "code",
        "colab": {}
      },
      "cell_type": "code",
      "source": [
        "class FullyConnected(nn.Module):\n",
        "    def __init__(self, sizes, dropout=False, activation_fn=nn.Tanh, init_fn=none_lambda):\n",
        "        super(FullyConnected, self).__init__()\n",
        "        layers = []\n",
        "        \n",
        "        for i in range(len(sizes) - 2):\n",
        "            fc = nn.Linear(sizes[i], sizes[i+1])\n",
        "            init_fn(fc.weight)\n",
        "            layers.append(fc)\n",
        "            if dropout:\n",
        "                layers.append(nn.Dropout())\n",
        "            layers.append(activation_fn())\n",
        "        else: # нам не нужен дропаут и фнкция активации в последнем слое\n",
        "            layers.append(nn.Linear(sizes[-2], sizes[-1]))\n",
        "        \n",
        "        self.model = nn.Sequential(*layers)\n",
        "        \n",
        "    def forward(self, x):\n",
        "        return self.model(x)"
      ],
      "execution_count": 0,
      "outputs": []
    },
    {
      "metadata": {
        "id": "QuAkNIOOQkar",
        "colab_type": "code",
        "colab": {}
      },
      "cell_type": "code",
      "source": [
        "class FullyConnectedX(nn.Module):\n",
        "    def __init__(self, sizes, dropout=False, batch_norm=False, activation_fn=nn.Tanh(), flatten=False, last_fn=None, init_fn=none_lambda):\n",
        "        super(FullyConnectedX, self).__init__()\n",
        "        layers = []\n",
        "        self.flatten = flatten\n",
        "        for i in range(len(sizes) - 2):\n",
        "            fc = nn.Linear(sizes[i], sizes[i+1])\n",
        "            \n",
        "            init_fn(fc.weight)\n",
        "            layers.append(fc)\n",
        "            if dropout:\n",
        "                layers.append(nn.Dropout(dropout))\n",
        "            layers.append(activation_fn) # нам не нужен дропаут и фнкция активации в последнем слое\n",
        "            if False:#batch_norm:\n",
        "                layers.append(nn.BatchNorm1d(sizes[i+1]))\n",
        "        else: \n",
        "            layers.append(nn.Linear(sizes[-2], sizes[-1]))\n",
        "        if last_fn is not None:\n",
        "            layers.append(last_fn)\n",
        "        self.model = nn.Sequential(*layers)\n",
        "        \n",
        "    def forward(self, x):\n",
        "        if self.flatten:\n",
        "            x = x.view(x.shape[0], -1)\n",
        "        return self.model(x)"
      ],
      "execution_count": 0,
      "outputs": []
    },
    {
      "metadata": {
        "id": "tNCy7E6BNI1t",
        "colab_type": "code",
        "colab": {}
      },
      "cell_type": "code",
      "source": [
        "batch = train_set.make_batch(use_binarization=False)\n",
        "data, target = batch\n",
        "target = target.to(device)\n",
        "data = data/255.0\n",
        "data = data.view(batch_size, 1, image_width, image_height).to(device)"
      ],
      "execution_count": 0,
      "outputs": []
    },
    {
      "metadata": {
        "id": "_P9OQHd-uOoE",
        "colab_type": "code",
        "colab": {}
      },
      "cell_type": "code",
      "source": [
        "class HTREncoder(nn.Module):\n",
        "    def __init__(self, batchnorm=False, dropout=False):\n",
        "        super(HTREncoder, self).__init__()\n",
        "        \n",
        "        self.convolutions = nn.Sequential(\n",
        "        ConvLayer([1, 4, 3], padding=0, stride=2, bn=batchnorm, pool_layer=None),\n",
        "        ConvLayer([4, 16, 3], padding=0, stride=2, bn=batchnorm, pool_layer=None),\n",
        "        ConvLayer([16, 32, 3], padding=0, stride=2, bn=batchnorm, pool_layer=None),\n",
        "        ConvLayer([32, 64, 3], padding=0, stride=2, bn=batchnorm, pool_layer=None),\n",
        "        ConvLayer([64, 64, 1], padding=0, stride=(1,11), bn=batchnorm, pool_layer=None))\n",
        "    \n",
        "    def forward(self, x):\n",
        "        h = self.convolutions(x)\n",
        "        h = h.squeeze(-1)\n",
        "        return h\n"
      ],
      "execution_count": 0,
      "outputs": []
    },
    {
      "metadata": {
        "id": "ihilbywpul9A",
        "colab_type": "code",
        "colab": {}
      },
      "cell_type": "code",
      "source": [
        "encoder = HTREncoder().to(device)"
      ],
      "execution_count": 0,
      "outputs": []
    },
    {
      "metadata": {
        "id": "3fvJufA-1d9O",
        "colab_type": "code",
        "outputId": "e4fd82d5-4c14-4559-dc30-cff7cf4c3c58",
        "colab": {
          "base_uri": "https://localhost:8080/",
          "height": 34
        }
      },
      "cell_type": "code",
      "source": [
        "c = encoder(data)\n",
        "c.shape"
      ],
      "execution_count": 13,
      "outputs": [
        {
          "output_type": "execute_result",
          "data": {
            "text/plain": [
              "torch.Size([100, 64, 92])"
            ]
          },
          "metadata": {
            "tags": []
          },
          "execution_count": 13
        }
      ]
    },
    {
      "metadata": {
        "id": "IuIVK5Z3aGW8",
        "colab_type": "code",
        "colab": {}
      },
      "cell_type": "code",
      "source": [
        "def init_gru(a):\n",
        "  from torch.nn import init\n",
        "  for layer_p in a._all_weights:\n",
        "      for p in layer_p:\n",
        "          if 'weight' in p:\n",
        "              # print(p, a.__getattr__(p))\n",
        "              init.normal(a.__getattr__(p), 0.0, 0.02)\n",
        "              # print(p, a.__getattr__(p))"
      ],
      "execution_count": 0,
      "outputs": []
    },
    {
      "metadata": {
        "id": "fIiy-eFLvC5-",
        "colab_type": "code",
        "outputId": "2b64ed25-08fb-42b8-b84d-d39d1a789374",
        "colab": {
          "base_uri": "https://localhost:8080/",
          "height": 71
        }
      },
      "cell_type": "code",
      "source": [
        "class HTRDecoder(nn.Module):\n",
        "    def __init__(self, ntoken, encoded_width=92, encoded_height=64, batchnorm=True, dropout=False, rnn_type=\"LSTM\"):\n",
        "        super(HTRDecoder, self).__init__()\n",
        "        self.ntoken = ntoken\n",
        "        self.encoded_width = encoded_width\n",
        "        self.encoded_height = encoded_height\n",
        "        self.lstm_size = 256\n",
        "        self.lstm_layers = 2\n",
        "        self.rnn_type = rnn_type\n",
        "        self.emb_size = 128\n",
        "        features_size = self.encoded_height*encoded_width + self.emb_size\n",
        "        from math import floor\n",
        "        lstm_inp_size = floor(features_size*0.3)\n",
        "        \n",
        "        if rnn_type == \"LSTM\":\n",
        "          self.rnn = nn.LSTM(lstm_inp_size, self.lstm_size, self.lstm_layers, dropout=0.3, bidirectional=False)\n",
        "        else:\n",
        "          self.rnn = nn.GRU(lstm_inp_size, self.lstm_size, self.lstm_layers, dropout=0.3, bidirectional=False)\n",
        "         \n",
        "        init_gru(self.rnn)\n",
        "        #self.rnn.weight.data.uniform_(-0.1, 0.1)  \n",
        "          \n",
        "        self.embedding = nn.Embedding(ntoken, self.emb_size)\n",
        "        self.decoder = nn.Linear(1*self.lstm_size*1, ntoken)#*batch_size)\n",
        "        self.drop = nn.Dropout(0.0)\n",
        "        self.fc = FullyConnectedX([features_size, floor(features_size*0.7), floor(features_size*0.5), lstm_inp_size], activation_fn=nn.ReLU(), last_fn=nn.ReLU(), init_fn=nn.init.kaiming_uniform_, batch_norm=True)\n",
        "        self.attention = FullyConnectedX([self.lstm_size*2 + self.encoded_height*encoded_width, self.encoded_height*encoded_width*2,  self.encoded_width], activation_fn=nn.LeakyReLU(0.2), last_fn=nn.Tanh(), init_fn=nn.init.kaiming_uniform_, batch_norm=True)\n",
        "        self.attention_weights = None\n",
        "    \n",
        "    def forward(self, x, prev, hidden=None):\n",
        "        x = self.drop(x).squeeze()\n",
        "        if hidden is not None:\n",
        "          \n",
        "          hidden_m = hidden.permute(1, 0, 2)\n",
        "\n",
        "          hidden_m = hidden_m.flatten(start_dim=1)\n",
        "          \n",
        "          attention_inp = torch.cat([x, hidden_m], dim=1).detach()\n",
        "          self.attention_weights = self.attention(attention_inp)\n",
        "          self.attention_weights = F.softmax(self.attention_weights, dim=1)\n",
        "          self.attention_weights = self.attention_weights.repeat([1, self.encoded_height])\n",
        "          x = x * self.attention_weights\n",
        "        emb = self.embedding(prev).squeeze().detach()\n",
        "        \n",
        "        x = torch.cat([x, emb], dim=1)\n",
        "        x = self.fc(x)\n",
        "        x = x.unsqueeze(0)\n",
        "        self.rnn_input = x\n",
        "        x, hidden = self.rnn(x, hidden)\n",
        "        x = x.squeeze(dim=0)\n",
        "        x = self.drop(x)\n",
        "        x = self.decoder(x)\n",
        "        x = F.log_softmax(x, dim=1)\n",
        "        return x, hidden  \n",
        "    \n",
        "    def rnnInput(self):\n",
        "      return self.rnn_input\n",
        "    \n",
        "    def makeHidden(self):\n",
        "      if self.rnn_type == \"LSTM\":\n",
        "        h1 = torch.zeros(self.lstm_layers, batch_size, self.lstm_size).to(device)\n",
        "        h2 = torch.zeros(self.lstm_layers, batch_size, self.lstm_size).to(device)\n",
        "        return (h1, h2)\n",
        "      else:\n",
        "        h1 = torch.zeros(self.lstm_layers, batch_size, self.lstm_size).to(device)\n",
        "        return h1\n",
        "      \n",
        "decoder = HTRDecoder(len(train_set.codes), rnn_type=\"GRU\").to(device)"
      ],
      "execution_count": 15,
      "outputs": [
        {
          "output_type": "stream",
          "text": [
            "/usr/local/lib/python3.6/dist-packages/ipykernel_launcher.py:7: UserWarning: nn.init.normal is now deprecated in favor of nn.init.normal_.\n",
            "  import sys\n"
          ],
          "name": "stderr"
        }
      ]
    },
    {
      "metadata": {
        "id": "AbsiEQDIv_v3",
        "colab_type": "code",
        "colab": {}
      },
      "cell_type": "code",
      "source": [
        "class HTRRecognitionState:\n",
        "  \n",
        "  def __init__(self):\n",
        "    None\n",
        "  \n",
        "\n",
        "class HTRRecognition(nn.Module):\n",
        "  def __init__(self):\n",
        "    super(HTRRecognition, self).__init__()\n",
        "    self.encoder = HTREncoder()\n",
        "    self.decoder = HTRDecoder(len(train_set.codes), rnn_type=\"GRU\")\n",
        "    self.encoder_optimizer = optim.Adam(self.encoder.parameters(), lr=1e-4, weight_decay=0.00005)\n",
        "    self.decoder_optimizer = optim.Adam(self.decoder.parameters(), lr=1e-4, weight_decay=0.00005)\n",
        "    self.START = train_set.start_code\n",
        "    self.STOP = train_set.stop_code\n",
        "    self.recognition_result = torch.LongTensor(batch_size, 10+1).to(device)\n",
        "    self.old_symbol = torch.LongTensor(batch_size, 1).to(device)\n",
        "    self.loss = 0\n",
        "    self.stop_symbol = torch.LongTensor(batch_size, 1).to(device)\n",
        "    self.stop_symbol.fill_(self.STOP)\n",
        "    self.criterion = nn.NLLLoss()\n",
        "    \n",
        "  def zero_grad(self):\n",
        "    self.encoder.zero_grad()\n",
        "    self.decoder.zero_grad()\n",
        "    \n",
        "  def forward(self, data, target, use_teacher_forcing):\n",
        "    orig_data = data\n",
        "\n",
        "    hidden = self.decoder.makeHidden()   \n",
        "\n",
        "    self.loss = 0\n",
        "    enc = self.encoder(data)\n",
        "    s = enc.permute(1, 0, 2)\n",
        "    s = s.flatten(start_dim=1).view(1, batch_size, -1)\n",
        "    \n",
        "    self.old_symbol[:, 0] = self.START\n",
        "    \n",
        "    self.hidden_states_ = []\n",
        "    self.rnn_inputs_ = []\n",
        "\n",
        "    for i in range(0, target.shape[1]):\n",
        "\n",
        "      dec, hidden = self.decoder(s, self.old_symbol, hidden)\n",
        "      self.hidden_states_.append(hidden.unsqueeze(0))\n",
        "      self.rnn_inputs_.append(self.decoder.rnnInput())\n",
        "      self.recognition_result[:, i] = dec.topk(1, dim=1)[1].flatten().detach()\n",
        "      if use_teacher_forcing:\n",
        "        self.old_symbol[:, 0] = target[:, i]\n",
        "      else:\n",
        "        self.old_symbol[:, 0] = self.recognition_result[:, i]\n",
        "      self.loss += self.criterion(dec, target[:, i])\n",
        "    self.length = target.shape[1]\n",
        "    self.result = self.recognition_result[:, 0: target.shape[1]]\n",
        "    return self.result\n",
        "  \n",
        "  def state(self):\n",
        "    r = HTRRecognitionState()\n",
        "    r.hidden = self.hidden_states()\n",
        "    r.rnn_inputs = self.rnn_inputs()\n",
        "    r.result = self.result\n",
        "    return r\n",
        "  \n",
        "  def normed_loss(self):\n",
        "    return self.loss/target.shape[1]\n",
        "   \n",
        "  def backprop(self):\n",
        "    self.loss.backward()\n",
        "    \n",
        "  def hidden_states(self):\n",
        "    r = torch.cat(self.hidden_states_, dim = 0)\n",
        "    r = r.permute(0, 2, 1, 3)\n",
        "    r = r.flatten(start_dim=2)\n",
        "    return r\n",
        "  \n",
        "  def rnn_inputs(self):\n",
        "    r = torch.cat(self.rnn_inputs_, dim=0)\n",
        "    #print(r.shape)\n",
        "    return r\n",
        "    \n",
        "  def step(self):\n",
        "    #grad_clip = 0.1\n",
        "    #torch.nn.utils.clip_grad_norm_(self.encoder.parameters(), grad_clip)\n",
        "    #torch.nn.utils.clip_grad_norm_(self.decoder.parameters(), grad_clip)\n",
        "    self.encoder_optimizer.step()\n",
        "    self.decoder_optimizer.step()\n"
      ],
      "execution_count": 0,
      "outputs": []
    },
    {
      "metadata": {
        "id": "W_dQSCL04lmu",
        "colab_type": "code",
        "colab": {}
      },
      "cell_type": "code",
      "source": [
        "# From https://github.com/aryopg/Professor_Forcing_Pytorch/blob/master/models/losses.py\n",
        "class Discriminator(nn.Module):\n",
        "    def __init__(self, input_size, hidden_size, input_length, symbs_cnt):\n",
        "        super(Discriminator, self).__init__()\n",
        "        \n",
        "        self.embedding = nn.Embedding(symbs_cnt, 128)\n",
        "        \n",
        "        from math import floor\n",
        "        self.hidden_cells = 256\n",
        "        self.hidden_layers = 2\n",
        "        \n",
        "        self.hidden_size = hidden_size\n",
        "        self.input_length = input_length\n",
        "        self.rnn_layers = 2\n",
        "        \n",
        "        input_size = 512 + 1804 + 128\n",
        "        \n",
        "       \n",
        "        \n",
        "        gru_input_size = 256*2\n",
        "        \n",
        "        self.enc = FullyConnectedX([input_size, floor(input_size*0.7), gru_input_size], activation_fn=nn.ReLU())\n",
        "\n",
        "        self.gru = nn.GRU(gru_input_size, hidden_size, self.rnn_layers)\n",
        "        \n",
        "        init_gru(self.gru) \n",
        "        \n",
        "        gru_out = input_length*hidden_size\n",
        "        self.fc = FullyConnectedX([gru_out, floor(gru_out*0.7), floor(gru_out*0.3), 1], activation_fn=nn.ReLU(), init_fn=nn.init.kaiming_uniform_, batch_norm=True)\n",
        "        self.optimizer = optim.Adam(self.parameters(), lr=1e-4, weight_decay=0.00005)\n",
        "        \n",
        "    def zero_grad(self):\n",
        "      self.optimizer.zero_grad()\n",
        "\n",
        "    def forward(self, hidden_states, dec_inputs, dec_outputs):\n",
        "        emb_outputs = self.embedding(dec_outputs).permute(1, 0, 2)\n",
        "#         print(\"lllllllllll\")\n",
        "#         print(hidden_states.shape)\n",
        "#         print(dec_inputs.shape)\n",
        "#         print(emb_outputs.shape)\n",
        "        \n",
        "        full_input = torch.cat([hidden_states, dec_inputs, emb_outputs], dim=2)\n",
        "        #full_input = full_input.permute([1, 0, 2])\n",
        "#         print(full_input.shape)\n",
        "        \n",
        "#         print(\"ooooooooooooooooooolll\")\n",
        "        \n",
        "        \n",
        "        \n",
        "      \n",
        "      \n",
        "        outputs = torch.zeros(self.input_length, batch_size, self.hidden_size, device=device)\n",
        "\n",
        "        hidden = self.initHidden()\n",
        "        for ei in range(hidden_states.shape[0]):\n",
        "            #embedded = self.embedding(x[:, ei])\n",
        "            #embedded = embedded.view(1, batch_size, -1)\n",
        "            #output = embedded\n",
        "            #output = hidden_states[ei]\n",
        "            output = self.enc(full_input[ei, :, :])\n",
        "#             print(\"****\")\n",
        "#             print(output.shape)\n",
        "            output = output.unsqueeze(0)\n",
        "            #print(output.shape)\n",
        "            output, hidden = self.gru(output, hidden)\n",
        "            \n",
        "            outputs[ei] = output.squeeze(0)\n",
        "\n",
        "        outputs = outputs.permute(1,0,2)\n",
        "        #print(outputs.shape)\n",
        "        #feat = outputs.contiguous().view(x.shape[0], -1)\n",
        "        feat = outputs.flatten(start_dim=1)\n",
        "        #print(feat.shape)\n",
        "        out = self.fc(feat)\n",
        "        \n",
        "        self.features = feat\n",
        "\n",
        "        return out\n",
        "\n",
        "    def initHidden(self):\n",
        "        return torch.zeros(self.rnn_layers, batch_size, self.hidden_size, device=device)\n"
      ],
      "execution_count": 0,
      "outputs": []
    },
    {
      "metadata": {
        "id": "x7kaQayXglGL",
        "colab_type": "code",
        "colab": {}
      },
      "cell_type": "code",
      "source": [
        "batch_zeros = torch.zeros((batch_size, 1)).to(device)\n",
        "batch_ones = torch.ones((batch_size, 1)).to(device)"
      ],
      "execution_count": 0,
      "outputs": []
    },
    {
      "metadata": {
        "id": "c1KQNsFrRYAr",
        "colab_type": "code",
        "outputId": "d696a738-cc28-40c9-9fd3-be7337077008",
        "colab": {
          "base_uri": "https://localhost:8080/",
          "height": 71
        }
      },
      "cell_type": "code",
      "source": [
        "generator = HTRRecognition().to(device)\n",
        "discriminator = Discriminator(256*2, 512, 10, len(train_set.codes)).to(device)"
      ],
      "execution_count": 19,
      "outputs": [
        {
          "output_type": "stream",
          "text": [
            "/usr/local/lib/python3.6/dist-packages/ipykernel_launcher.py:7: UserWarning: nn.init.normal is now deprecated in favor of nn.init.normal_.\n",
            "  import sys\n"
          ],
          "name": "stderr"
        }
      ]
    },
    {
      "metadata": {
        "id": "3ZG9dz-viW6d",
        "colab_type": "code",
        "colab": {}
      },
      "cell_type": "code",
      "source": [
        "def process_batch(data, target, batch_idx):\n",
        "  \n",
        "  period = 20\n",
        "  activate_discriminator = target.shape[1] > 1\n",
        "#  activate_discriminator = True\n",
        "  if activate_discriminator:\n",
        "    for i in range(0, 1):\n",
        "      discriminator.zero_grad()\n",
        "      generator.zero_grad()\n",
        "      with torch.no_grad():\n",
        "        free_run_result = generator(data, target, False)\n",
        "\n",
        "        if (batch_idx % period == 0) and (i == 0):\n",
        "          from random import random\n",
        "          for k in range(0, min(2, target.shape[0])):\n",
        "                decoded =free_run_result[k,0:target.shape[1]]\n",
        "                #plt.imshow(data[k].cpu(), cmap=\"gray\")\n",
        "                #plt.show()\n",
        "                print(\"  \" + train_set.decode_word(target[k,:]) + \" -> \" + train_set.decode_word(decoded))\n",
        "\n",
        "        #free_run_hidden = generator.hidden_states().detach()\n",
        "        free_run_state = generator.state()\n",
        "        generator(data, target, True)\n",
        "        teacher_forcing_state = generator.state()\n",
        "#         print(\"hhhhhhhhhhhhhh\")\n",
        "#         print(free_run_hidden.shape)\n",
        "#         print(\"fffffffffff\")\n",
        "#         print(free_run_result.shape)\n",
        "        #free_run_rnn_inputs = generator.rnn_inputs().detach()\n",
        "        #teacher_forcing_hidden = generator.hidden_states().detach()\n",
        "      d_free_run = discriminator(free_run_state.hidden.detach(), free_run_state.rnn_inputs.detach(), free_run_state.result.detach())\n",
        "      d_teacher_forcing = discriminator(teacher_forcing_state.hidden.detach(), teacher_forcing_state.rnn_inputs.detach(), teacher_forcing_state.result.detach())\n",
        "      true_loss = F.binary_cross_entropy_with_logits(d_free_run, batch_zeros)\n",
        "      fake_loss = F.binary_cross_entropy_with_logits(d_teacher_forcing, batch_ones)\n",
        "      D_loss = 0.5*(fake_loss + true_loss)\n",
        "      d_val = D_loss.item()\n",
        "      D_loss.backward()\n",
        "      discriminator.optimizer.step()\n",
        "  else:\n",
        "    d_val = 0\n",
        "  generator.zero_grad()\n",
        "  discriminator.zero_grad()\n",
        "  generator(data, target, True)\n",
        "  if activate_discriminator and (d_val < 0.25):\n",
        "    #print (\"Applying discriminator...\")\n",
        "    state_ = generator.state()\n",
        "    fake_pred = discriminator(state_.hidden, state_.rnn_inputs, state_.result)\n",
        "    G_loss = generator.normed_loss() + F.binary_cross_entropy_with_logits(fake_pred, batch_zeros)\n",
        "#     tf_val = generator.normed_loss().item()\n",
        "#     g_val = G_loss.item()\n",
        "#     print(\"  Batch: %d Descr %.4f TF %.4f Full %.4f\" % (batch_idx, d_val, tf_val, g_val)) \n",
        "    \n",
        "  else:\n",
        "    G_loss = generator.normed_loss()\n",
        "  tf_val = generator.normed_loss().item()\n",
        "  g_val = G_loss.item()\n",
        "  G_loss.backward()\n",
        "  generator.step()\n",
        "  if batch_idx % period == 0:\n",
        "    print(\"Batch: %d Descr %.4f TF %.4f Full %.4f\" % (batch_idx, d_val, tf_val, g_val)) \n",
        "  \n",
        "def train(epoch, max_size):\n",
        "  train_set.to_start(max_size)\n",
        "  batch_idx = 0\n",
        "  while True:\n",
        "    batch = train_set.make_batch()\n",
        "    if batch is None:\n",
        "      break\n",
        "    data, target = batch\n",
        "    target = target.to(device)\n",
        "    data = data/255.0\n",
        "    data = data.view(batch_size, 1, image_width, image_height).to(device)\n",
        "    process_batch(data, target, batch_idx)\n",
        "    batch_idx += 1\n",
        "\n",
        "    \n"
      ],
      "execution_count": 0,
      "outputs": []
    },
    {
      "metadata": {
        "id": "YLF6gbGkol35",
        "colab_type": "code",
        "outputId": "22f95123-2b23-47d1-93a8-fa1d7491c2e2",
        "colab": {
          "base_uri": "https://localhost:8080/",
          "height": 103
        }
      },
      "cell_type": "code",
      "source": [
        "for i in range(0, 100):\n",
        "  print(\"Epoch %d\" % i)\n",
        "  print(\"***************************************\")\n",
        "  train(i, 5)"
      ],
      "execution_count": 0,
      "outputs": [
        {
          "output_type": "stream",
          "text": [
            "Epoch 0\n",
            "***************************************\n",
            "  Flor -> then\n",
            "  Next -> ande\n",
            "Batch: 0 Descr 0.3883 TF 3.4760 Full 3.4760\n"
          ],
          "name": "stdout"
        }
      ]
    },
    {
      "metadata": {
        "id": "AfPpeQ6aFqMR",
        "colab_type": "code",
        "colab": {}
      },
      "cell_type": "code",
      "source": [
        ""
      ],
      "execution_count": 0,
      "outputs": []
    }
  ]
}