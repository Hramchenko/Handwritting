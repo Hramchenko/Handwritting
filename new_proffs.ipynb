{
  "nbformat": 4,
  "nbformat_minor": 0,
  "metadata": {
    "colab": {
      "name": "new_proffs.ipynb",
      "version": "0.3.2",
      "provenance": [],
      "collapsed_sections": [],
      "include_colab_link": true
    },
    "kernelspec": {
      "name": "python3",
      "display_name": "Python 3"
    },
    "accelerator": "GPU"
  },
  "cells": [
    {
      "cell_type": "markdown",
      "metadata": {
        "id": "view-in-github",
        "colab_type": "text"
      },
      "source": [
        "<a href=\"https://colab.research.google.com/github/Hramchenko/Handwritting/blob/master/new_proffs.ipynb\" target=\"_parent\"><img src=\"https://colab.research.google.com/assets/colab-badge.svg\" alt=\"Open In Colab\"/></a>"
      ]
    },
    {
      "metadata": {
        "id": "uL5QRz_WMkMF",
        "colab_type": "code",
        "outputId": "a31284dd-c172-4db1-d783-f6235c1c5264",
        "colab": {
          "base_uri": "https://localhost:8080/",
          "height": 52
        }
      },
      "cell_type": "code",
      "source": [
        "import torch\n",
        "print(\"Device \" + torch.cuda.get_device_name(0))\n",
        "device = torch.device(\"cuda:0\")\n",
        "#device = torch.device(\"cpu\")\n",
        "print(device)"
      ],
      "execution_count": 0,
      "outputs": [
        {
          "output_type": "stream",
          "text": [
            "Device Tesla K80\n",
            "cuda:0\n"
          ],
          "name": "stdout"
        }
      ]
    },
    {
      "metadata": {
        "id": "j5M_rV-VMqso",
        "colab_type": "code",
        "colab": {}
      },
      "cell_type": "code",
      "source": [
        "batch_size = 100"
      ],
      "execution_count": 0,
      "outputs": []
    },
    {
      "metadata": {
        "id": "kVeBVZEgMtb2",
        "colab_type": "code",
        "outputId": "fa43ead3-0e08-4744-f4e2-752804e120d1",
        "colab": {
          "base_uri": "https://localhost:8080/",
          "height": 86
        }
      },
      "cell_type": "code",
      "source": [
        "import sys\n",
        "sys.path.append(\"./Handwritting/\")\n",
        "from IAMWords import IAMWords\n",
        "image_width = 1500\n",
        "image_height = 200\n",
        "train_set = IAMWords(\"train\", \"./IAM/\", batch_size=batch_size, line_height=image_height, line_width=image_width, scale=1)\n",
        "test_set = IAMWords(\"test\", \"./IAM/\", batch_size=batch_size, line_height=image_height, line_width=image_width, scale=1)"
      ],
      "execution_count": 0,
      "outputs": [
        {
          "output_type": "stream",
          "text": [
            "Reading ./IAM/words.train.pkl...\n",
            "Reading finished\n",
            "Reading ./IAM/words.test.pkl...\n",
            "Reading finished\n"
          ],
          "name": "stdout"
        }
      ]
    },
    {
      "metadata": {
        "id": "K2fWx6tuK-4m",
        "colab_type": "code",
        "colab": {}
      },
      "cell_type": "code",
      "source": [
        "import torch\n",
        "import torch.nn as nn\n",
        "import torch.nn.functional as F\n",
        "import torch.optim as optim\n",
        "from IPython.core.debugger import set_trace\n",
        "%matplotlib inline\n",
        "import matplotlib.pyplot as plt"
      ],
      "execution_count": 0,
      "outputs": []
    },
    {
      "metadata": {
        "id": "jLNlm1yURr4W",
        "colab_type": "code",
        "colab": {}
      },
      "cell_type": "code",
      "source": [
        "class ConvLayer(nn.Module):\n",
        "    def __init__(self, size, padding=1, pool_layer=nn.MaxPool2d(2, stride=2),\n",
        "                 bn=False, dropout=False, activation_fn=nn.ReLU(), stride=1):\n",
        "        super(ConvLayer, self).__init__()\n",
        "        layers = []\n",
        "        layers.append(nn.Conv2d(size[0], size[1], size[2], padding=padding, stride=stride))\n",
        "        if pool_layer is not None:\n",
        "            layers.append(pool_layer)\n",
        "        if bn:\n",
        "            layers.append(nn.BatchNorm2d(size[1]))\n",
        "        if dropout:\n",
        "            layers.append(nn.Dropout2d())\n",
        "        layers.append(activation_fn)\n",
        "        \n",
        "        self.model = nn.Sequential(*layers)\n",
        "    \n",
        "    def forward(self, x):\n",
        "        return self.model(x)"
      ],
      "execution_count": 0,
      "outputs": []
    },
    {
      "metadata": {
        "id": "XmHNGG3oRshP",
        "colab_type": "code",
        "colab": {}
      },
      "cell_type": "code",
      "source": [
        "class DeconvLayer(nn.Module):\n",
        "    def __init__(self, size, padding=1, stride=1, \n",
        "                 bn=False, dropout=False, activation_fn=nn.ReLU(), output_padding=0):\n",
        "        super(DeconvLayer, self).__init__()\n",
        "        layers = []\n",
        "        layers.append(nn.ConvTranspose2d(size[0], size[1], size[2], padding=padding, \n",
        "                                         stride=stride, output_padding=output_padding))\n",
        "        if bn:\n",
        "            layers.append(nn.BatchNorm2d(size[1]))\n",
        "        if dropout:\n",
        "            layers.append(nn.Dropout2d())\n",
        "        layers.append(activation_fn)\n",
        "        \n",
        "        self.model = nn.Sequential(*layers)\n",
        "    \n",
        "    def forward(self, x):\n",
        "        return self.model(x)"
      ],
      "execution_count": 0,
      "outputs": []
    },
    {
      "metadata": {
        "id": "hO1gydZeRvE1",
        "colab_type": "code",
        "colab": {}
      },
      "cell_type": "code",
      "source": [
        "class FullyConnected(nn.Module):\n",
        "    def __init__(self, sizes, dropout=False, activation_fn=nn.Tanh):\n",
        "        super(FullyConnected, self).__init__()\n",
        "        layers = []\n",
        "        \n",
        "        for i in range(len(sizes) - 2):\n",
        "            layers.append(nn.Linear(sizes[i], sizes[i+1]))\n",
        "            if dropout:\n",
        "                layers.append(nn.Dropout())\n",
        "            layers.append(activation_fn())\n",
        "        else: # нам не нужен дропаут и фнкция активации в последнем слое\n",
        "            layers.append(nn.Linear(sizes[-2], sizes[-1]))\n",
        "        \n",
        "        self.model = nn.Sequential(*layers)\n",
        "        \n",
        "    def forward(self, x):\n",
        "        return self.model(x)"
      ],
      "execution_count": 0,
      "outputs": []
    },
    {
      "metadata": {
        "id": "QuAkNIOOQkar",
        "colab_type": "code",
        "colab": {}
      },
      "cell_type": "code",
      "source": [
        "class FullyConnectedX(nn.Module):\n",
        "    def __init__(self, sizes, dropout=False, activation_fn=nn.Tanh(), flatten=False, last_fn=None):\n",
        "        super(FullyConnectedX, self).__init__()\n",
        "        layers = []\n",
        "        self.flatten = flatten\n",
        "        for i in range(len(sizes) - 2):\n",
        "            layers.append(nn.Linear(sizes[i], sizes[i+1]))\n",
        "            if dropout:\n",
        "                layers.append(nn.Dropout(dropout))\n",
        "            layers.append(activation_fn) # нам не нужен дропаут и фнкция активации в последнем слое\n",
        "        else: \n",
        "            layers.append(nn.Linear(sizes[-2], sizes[-1]))\n",
        "        if last_fn is not None:\n",
        "            layers.append(last_fn)\n",
        "        self.model = nn.Sequential(*layers)\n",
        "        \n",
        "    def forward(self, x):\n",
        "        if self.flatten:\n",
        "            x = x.view(x.shape[0], -1)\n",
        "        return self.model(x)"
      ],
      "execution_count": 0,
      "outputs": []
    },
    {
      "metadata": {
        "id": "tNCy7E6BNI1t",
        "colab_type": "code",
        "colab": {}
      },
      "cell_type": "code",
      "source": [
        "batch = train_set.make_batch(use_binarization=False)\n",
        "data, target = batch\n",
        "target = target.to(device)\n",
        "data = data/255.0\n",
        "data = data.view(batch_size, 1, image_width, image_height).to(device)"
      ],
      "execution_count": 0,
      "outputs": []
    },
    {
      "metadata": {
        "id": "_P9OQHd-uOoE",
        "colab_type": "code",
        "colab": {}
      },
      "cell_type": "code",
      "source": [
        "class HTREncoder(nn.Module):\n",
        "    def __init__(self, batchnorm=False, dropout=False):\n",
        "        super(HTREncoder, self).__init__()\n",
        "        \n",
        "        self.convolutions = nn.Sequential(\n",
        "        ConvLayer([1, 4, 3], padding=0, stride=2, bn=batchnorm, pool_layer=None),\n",
        "        ConvLayer([4, 16, 3], padding=0, stride=2, bn=batchnorm, pool_layer=None),\n",
        "        ConvLayer([16, 32, 3], padding=0, stride=2, bn=batchnorm, pool_layer=None),\n",
        "        ConvLayer([32, 64, 3], padding=0, stride=2, bn=batchnorm, pool_layer=None),\n",
        "        ConvLayer([64, 64, 1], padding=0, stride=(1,11), bn=batchnorm, pool_layer=None))\n",
        "        \n",
        "        #self.fc = FullyConnectedX([64*15*49, 64*49*3, 64*49], activation_fn=nn.ReLU())\n",
        "    \n",
        "    def forward(self, x):\n",
        "        h = self.convolutions(x)\n",
        "        h = h.squeeze(-1)\n",
        "        #h = h.flatten(start_dim=1)\n",
        "        #h = self.fc(h)\n",
        "        #h = F.max_pool2d(h, [1, h.size(1)], padding=[0, 0])\n",
        "        #h = h.permute([2, 3, 0, 1])[0]\n",
        "        #h = h.permute([2, 3, 0, 1])\n",
        "        \n",
        "        return h\n",
        "    "
      ],
      "execution_count": 0,
      "outputs": []
    },
    {
      "metadata": {
        "id": "ihilbywpul9A",
        "colab_type": "code",
        "colab": {}
      },
      "cell_type": "code",
      "source": [
        "encoder = HTREncoder().to(device)"
      ],
      "execution_count": 0,
      "outputs": []
    },
    {
      "metadata": {
        "id": "3fvJufA-1d9O",
        "colab_type": "code",
        "outputId": "200e9688-b00e-4f92-d16f-8110cb92f5cc",
        "colab": {
          "base_uri": "https://localhost:8080/",
          "height": 34
        }
      },
      "cell_type": "code",
      "source": [
        "c = encoder(data)\n",
        "c.shape"
      ],
      "execution_count": 0,
      "outputs": [
        {
          "output_type": "execute_result",
          "data": {
            "text/plain": [
              "torch.Size([100, 64, 92])"
            ]
          },
          "metadata": {
            "tags": []
          },
          "execution_count": 12
        }
      ]
    },
    {
      "metadata": {
        "id": "BEG3WoC71hQb",
        "colab_type": "code",
        "colab": {}
      },
      "cell_type": "code",
      "source": [
        ""
      ],
      "execution_count": 0,
      "outputs": []
    },
    {
      "metadata": {
        "id": "Co0VksJ81rz0",
        "colab_type": "code",
        "outputId": "6156d6d7-7b80-44ce-d3c5-d810afd7adaa",
        "colab": {
          "base_uri": "https://localhost:8080/",
          "height": 34
        }
      },
      "cell_type": "code",
      "source": [
        "64*15*49\n"
      ],
      "execution_count": 0,
      "outputs": [
        {
          "output_type": "execute_result",
          "data": {
            "text/plain": [
              "47040"
            ]
          },
          "metadata": {
            "tags": []
          },
          "execution_count": 13
        }
      ]
    },
    {
      "metadata": {
        "id": "cXja4G8p7KKz",
        "colab_type": "code",
        "colab": {}
      },
      "cell_type": "code",
      "source": [
        "def to_onehot(x, n):\n",
        "    one_hot = torch.zeros((x.shape[0], n)).to(device)\n",
        "    one_hot.scatter_(1, x[:, None], 1.)\n",
        "    if device is not None:\n",
        "        one_hot = one_hot.to(device)\n",
        "    return one_hot  "
      ],
      "execution_count": 0,
      "outputs": []
    },
    {
      "metadata": {
        "id": "fIiy-eFLvC5-",
        "colab_type": "code",
        "colab": {}
      },
      "cell_type": "code",
      "source": [
        "class HTRDecoderResult:\n",
        "  \n",
        "  def __init__(self):\n",
        "    None\n",
        "\n",
        "class HTRDecoder(nn.Module):\n",
        "    def __init__(self, ntoken, encoded_width=92, encoded_height=64, batchnorm=False, dropout=True, rnn_type=\"LSTM\"):\n",
        "        super(HTRDecoder, self).__init__()\n",
        "        self.ntoken = ntoken\n",
        "        self.encoded_width = encoded_width\n",
        "        self.encoded_height = encoded_height\n",
        "        self.lstm_size = 256\n",
        "        self.lstm_layers = 2\n",
        "        self.rnn_type = rnn_type\n",
        "        self.emb_size = 128\n",
        "        features_size = self.encoded_height*encoded_width + self.emb_size\n",
        "        from math import floor\n",
        "        lstm_inp_size = floor(features_size*0.3)\n",
        "        \n",
        "        if rnn_type == \"LSTM\":\n",
        "          self.rnn = nn.LSTM(lstm_inp_size, self.lstm_size, self.lstm_layers, dropout=0.3, bidirectional=False)\n",
        "        else:\n",
        "          self.rnn = nn.GRU(lstm_inp_size, self.lstm_size, self.lstm_layers, dropout=0.3, bidirectional=False)\n",
        "        self.embedding = nn.Embedding(ntoken, self.emb_size)\n",
        "        self.decoder = nn.Linear(1*self.lstm_size*1, ntoken)#*batch_size)\n",
        "        self.drop = nn.Dropout(0.3)\n",
        "\n",
        "        self.fc = FullyConnectedX([features_size, floor(features_size*0.7), floor(features_size*0.5), lstm_inp_size], activation_fn=nn.ReLU(), last_fn=nn.Tanh())\n",
        "        \n",
        "        self.attention = FullyConnectedX([self.lstm_size*2 + self.encoded_height*encoded_width, self.encoded_height*encoded_width*2,  self.encoded_width], activation_fn=nn.LeakyReLU(0.2), last_fn=nn.Tanh())\n",
        "        self.attention_weights = None\n",
        "    \n",
        "    def forward(self, x, prev, hidden=None):\n",
        "        x = self.drop(x).squeeze()\n",
        "        if hidden is not None:\n",
        "          \n",
        "          hidden_m = hidden.permute(1, 0, 2)\n",
        "\n",
        "          hidden_m = hidden_m.flatten(start_dim=1)\n",
        "          \n",
        "          attention_inp = torch.cat([x, hidden_m], dim=1).detach()\n",
        "          self.attention_weights = self.attention(attention_inp)\n",
        "          \n",
        "          self.attention_weights = F.softmax(self.attention_weights, dim=1)\n",
        "          \n",
        "          self.attention_weights = self.attention_weights.repeat([1, self.encoded_height])\n",
        "                  \n",
        "          x = x * self.attention_weights\n",
        "\n",
        "        emb = self.embedding(prev).squeeze().detach()\n",
        "        \n",
        "        \n",
        "        x = torch.cat([x, emb], dim=1)\n",
        "        \n",
        "        x = self.fc(x)\n",
        "        x = x.unsqueeze(0)\n",
        "        \n",
        "        result = HTRDecoderResult()\n",
        "        result.rnn_input = x\n",
        "        result.input_hidden = hidden\n",
        "        \n",
        "        x, hidden = self.rnn(x, hidden)\n",
        "        x = x.squeeze(dim=0)\n",
        "        x = self.drop(x)\n",
        "        x = self.decoder(x)\n",
        "        \n",
        "        x = F.log_softmax(x, dim=1)\n",
        "        \n",
        "        result.x = x\n",
        "        result.hidden = hidden\n",
        "        \n",
        "        return result\n",
        "      \n",
        "    def makeHidden(self):\n",
        "      if self.rnn_type == \"LSTM\":\n",
        "        h1 = torch.zeros(self.lstm_layers, batch_size, self.lstm_size).to(device)\n",
        "        h2 = torch.zeros(self.lstm_layers, batch_size, self.lstm_size).to(device)\n",
        "        return (h1, h2)\n",
        "      else:\n",
        "        h1 = torch.zeros(self.lstm_layers, batch_size, self.lstm_size).to(device)\n",
        "        return h1\n",
        "      \n",
        "decoder = HTRDecoder(len(train_set.codes), rnn_type=\"GRU\").to(device)"
      ],
      "execution_count": 0,
      "outputs": []
    },
    {
      "metadata": {
        "id": "ziLheucQKlpE",
        "colab_type": "code",
        "colab": {}
      },
      "cell_type": "code",
      "source": [
        "START = train_set.codes['<START>']\n",
        "current_symbol = torch.LongTensor(batch_size, 1).to(device)\n",
        "current_symbol[:, :] = START"
      ],
      "execution_count": 0,
      "outputs": []
    },
    {
      "metadata": {
        "id": "MHbnIOOP03r-",
        "colab_type": "code",
        "colab": {}
      },
      "cell_type": "code",
      "source": [
        "def test(max_size=4):\n",
        "  print(\"Testing...\")\n",
        "  \n",
        "  freq = 20\n",
        "  \n",
        "  test_set.to_start(max_size)\n",
        "  batch_idx = 0\n",
        "  c_loss = 0\n",
        "  START = train_set.start_code\n",
        "  STOP = train_set.stop_code\n",
        "  recognition_result = torch.LongTensor(batch_size, 30+1).to(device)\n",
        "  old_symbol = torch.LongTensor(batch_size, 1).to(device)\n",
        "  \n",
        "  stop_symbol = torch.LongTensor(batch_size, 1).to(device)\n",
        "  stop_symbol.fill_(STOP)\n",
        "  \n",
        "  test_loss = 0\n",
        "  \n",
        "  with torch.no_grad():  \n",
        "    while True:\n",
        "      batch = test_set.make_batch()\n",
        "      if batch is None:\n",
        "        break\n",
        "\n",
        "      orig_data, target = batch\n",
        "      data = orig_data/255.0\n",
        "      data = data.view(batch_size, 1, image_width, image_height).to(device)\n",
        "      target = target.to(device)\n",
        "      hidden = decoder.makeHidden()    \n",
        "\n",
        "      loss = 0\n",
        "      enc = encoder(data)\n",
        "      #print(enc.shape)\n",
        "      s = enc.permute(1, 0, 2)\n",
        "      #print(s.shape)\n",
        "      s = s.flatten(start_dim=1).view(1, batch_size, -1)\n",
        "\n",
        "      old_symbol[:, 0] = START\n",
        "\n",
        "      for i in range(0, target.shape[1]):\n",
        "\n",
        "        decoder_result = decoder(s, old_symbol, hidden)\n",
        "        dec = decoder_result.x\n",
        "        hidden = decoder_result.hidden\n",
        "\n",
        "        recognition_result[:, i] = dec.topk(1, dim=1)[1].flatten().detach()\n",
        "        old_symbol[:, 0] = target[:, i]\n",
        "\n",
        "        loss += criterion(dec, target[:, i])\n",
        "      c_loss += loss.item()/(target.shape[1] + 0)\n",
        "      test_loss += loss.item()/(target.shape[1] + 0)\n",
        "      if (batch_idx % freq == 0) and (batch_idx != 0):\n",
        "        if True:#not use_teacher_forcing:\n",
        "          for k in range(0, min(3, target.shape[0])):\n",
        "              decoded = recognition_result[k,0:target.shape[1]]\n",
        "              plt.imshow(orig_data[k].cpu(), cmap=\"gray\")\n",
        "              plt.show()\n",
        "              print(\"  \" + train_set.decode_word(target[k,:]) + \" -> \" + train_set.decode_word(decoded))\n",
        "        c_loss /= freq \n",
        "        print(\"  Batch: \" + str(batch_idx) + \" Loss: \" + str(c_loss))\n",
        "        c_loss = 0\n",
        "      batch_idx += 1  \n",
        "  print(\"Test loss: %f\" % (test_loss/batch_idx))   "
      ],
      "execution_count": 0,
      "outputs": []
    },
    {
      "metadata": {
        "id": "1dvEYjtLYlcN",
        "colab_type": "code",
        "colab": {}
      },
      "cell_type": "code",
      "source": [
        "# From https://github.com/aryopg/Professor_Forcing_Pytorch/blob/master/models/losses.py\n",
        "class Discriminator(nn.Module):\n",
        "    def __init__(self, input_size, hidden_size, input_length, symbs_cnt):\n",
        "        super(Discriminator, self).__init__()\n",
        "        \n",
        "        self.embedding = nn.Embedding(symbs_cnt, 128)\n",
        "        \n",
        "        from math import floor\n",
        "        self.hidden_cells = 256\n",
        "        self.hidden_layers = 2\n",
        "        \n",
        "        self.hidden_size = hidden_size\n",
        "        self.input_length = input_length\n",
        "        self.rnn_layers = 2\n",
        "        \n",
        "        input_size = 512 + 1804 + 128\n",
        "        gru_input_size = 256*2\n",
        "        \n",
        "        self.enc = FullyConnectedX([input_size, floor(input_size*0.7), gru_input_size], activation_fn=nn.ReLU())\n",
        "\n",
        "        self.gru = nn.GRU(gru_input_size, hidden_size, self.rnn_layers)\n",
        "        \n",
        "        gru_out = hidden_size\n",
        "        self.fc = FullyConnectedX([gru_out, floor(gru_out*0.7), floor(gru_out*0.3), 1], activation_fn=nn.ReLU())\n",
        "        self.optimizer = optim.Adam(self.parameters(), lr=1e-4, weight_decay=0.00005)\n",
        "        \n",
        "    def zero_grad(self):\n",
        "      self.optimizer.zero_grad()\n",
        "\n",
        "    def apply(self, hidden, hidden_states, dec_inputs, dec_outputs, targets):\n",
        "        emb_outputs = self.embedding(dec_outputs)#.permute(1, 0, 2)\n",
        "        hidden_states = hidden_states.permute(1, 0, 2).flatten(start_dim=1)\n",
        "        dec_inputs = dec_inputs.squeeze(0)\n",
        "#         print(emb_outputs.shape)\n",
        "#         print(hidden_states.shape)\n",
        "#         print(dec_inputs.shape)\n",
        "        full_input = torch.cat([hidden_states, dec_inputs, emb_outputs], dim=1)\n",
        "        output = self.enc(full_input)\n",
        "        output = output.unsqueeze(0)\n",
        "        output, hidden = self.gru(output, hidden)\n",
        "        output= output.squeeze(0)\n",
        "        out = self.fc(output)\n",
        "#         print(out.shape)\n",
        "#         print(targets.shape)\n",
        "        loss = F.binary_cross_entropy_with_logits(out, targets)\n",
        "        return loss, hidden\n",
        "\n",
        "    def makeHidden(self):\n",
        "        return torch.zeros(self.rnn_layers, batch_size, self.hidden_size, device=device)\n",
        "\n",
        "      \n",
        "discriminator = Discriminator(256*2, 512, 10, len(train_set.codes)).to(device)      "
      ],
      "execution_count": 0,
      "outputs": []
    },
    {
      "metadata": {
        "id": "Zel5bfutWKKa",
        "colab_type": "code",
        "colab": {}
      },
      "cell_type": "code",
      "source": [
        "def apply_discriminator(s, target, use_teacher_forcing, train_mode, discriminator_target):\n",
        "  loss = 0\n",
        "  START = train_set.start_code\n",
        "  STOP = train_set.stop_code\n",
        "  recognition_result = torch.LongTensor(batch_size, 30+1).to(device)\n",
        "  old_symbol = torch.LongTensor(batch_size, 1).to(device)\n",
        "  stop_symbol = torch.LongTensor(batch_size, 1).to(device)\n",
        "  stop_symbol.fill_(STOP)\n",
        "  old_symbol[:, 0] = START\n",
        "\n",
        "\n",
        "\n",
        "  hidden = decoder.makeHidden()    \n",
        "  discriminator_loss = 0\n",
        "  discriminator_hidden = discriminator.makeHidden()\n",
        "\n",
        "  for i in range(0, target.shape[1]):\n",
        "\n",
        "    decoder_result = decoder(s, old_symbol, hidden)\n",
        "    dec = decoder_result.x\n",
        "    hidden = decoder_result.hidden\n",
        "\n",
        "    decoder_outputs = dec.topk(1, dim=1)[1].flatten()\n",
        "\n",
        "    \n",
        "    if train_mode:\n",
        "      dl, discriminator_hidden = discriminator.apply(discriminator_hidden.detach(), decoder_result.input_hidden.detach(),decoder_result.rnn_input.detach(), decoder_outputs.detach(), discriminator_target)\n",
        "    else:\n",
        "      dl, discriminator_hidden = discriminator.apply(discriminator_hidden, decoder_result.input_hidden, decoder_result.rnn_input, decoder_outputs, discriminator_target)\n",
        "      \n",
        "    if i != 0:\n",
        "      discriminator_loss += dl\n",
        "\n",
        "    recognition_result[:, i] = decoder_outputs.detach()\n",
        "    if use_teacher_forcing:\n",
        "      old_symbol[:, 0] = target[:, i]\n",
        "    else:\n",
        "      old_symbol[:, 0] = recognition_result[:, i]\n",
        "    #import pdb; pdb.set_trace()\n",
        "\n",
        "    loss += criterion(dec, target[:, i])\n",
        "  if target.shape[1] > 1:\n",
        "    discriminator_loss /= target.shape[1] - 1\n",
        "  return (recognition_result, loss, discriminator_loss)"
      ],
      "execution_count": 0,
      "outputs": []
    },
    {
      "metadata": {
        "id": "Yrtvy2ikWNwI",
        "colab_type": "code",
        "colab": {}
      },
      "cell_type": "code",
      "source": [
        "def apply_decoder(s, target, use_teacher_forcing):\n",
        "  loss = 0\n",
        "  START = train_set.start_code\n",
        "  STOP = train_set.stop_code\n",
        "  recognition_result = torch.LongTensor(batch_size, 30+1).to(device)\n",
        "  old_symbol = torch.LongTensor(batch_size, 1).to(device)\n",
        "  stop_symbol = torch.LongTensor(batch_size, 1).to(device)\n",
        "  stop_symbol.fill_(STOP)\n",
        "  old_symbol[:, 0] = START\n",
        "\n",
        "  hidden = decoder.makeHidden()    \n",
        "\n",
        "  for i in range(0, target.shape[1]):\n",
        "\n",
        "    decoder_result = decoder(s, old_symbol, hidden)\n",
        "    dec = decoder_result.x\n",
        "    hidden = decoder_result.hidden\n",
        "\n",
        "    recognition_result[:, i] = dec.topk(1, dim=1)[1].flatten().detach()\n",
        "    if use_teacher_forcing:\n",
        "      old_symbol[:, 0] = target[:, i]\n",
        "    else:\n",
        "      old_symbol[:, 0] = recognition_result[:, i]\n",
        "    #import pdb; pdb.set_trace()\n",
        "\n",
        "    loss += criterion(dec, target[:, i])\n",
        "  return (recognition_result, loss)\n",
        "\n",
        "\n",
        "batch_zeros = torch.zeros(batch_size, 1).to(device)\n",
        "batch_ones = torch.ones(batch_size, 1).to(device)"
      ],
      "execution_count": 0,
      "outputs": []
    },
    {
      "metadata": {
        "id": "1DxYdkXeTnNB",
        "colab_type": "code",
        "outputId": "288a6543-10f7-4c1a-e46f-0333bcfcabf1",
        "colab": {
          "base_uri": "https://localhost:8080/",
          "height": 16185
        }
      },
      "cell_type": "code",
      "source": [
        "encoder_optimizer = optim.Adam(encoder.parameters(), lr=1e-4, weight_decay=0.00005)\n",
        "decoder_optimizer = optim.Adam(decoder.parameters(), lr=1e-4, weight_decay=0.00005)\n",
        "discriminator_optimizer = optim.Adam(discriminator.parameters(), lr=1e-4, weight_decay=0.00005)\n",
        "\n",
        "criterion = nn.NLLLoss()\n",
        "\n",
        "teacher_forcing_ratio = 1#0.5\n",
        "\n",
        "from random import random\n",
        "\n",
        "def train(epoch, max_size):\n",
        "  print(\"Training epoch \" + str(epoch) + \"...\")\n",
        "  \n",
        "  freq = 30\n",
        "  \n",
        "  train_set.to_start(max_size)\n",
        "  batch_idx = 0\n",
        "  c_loss = 0\n",
        "\n",
        "  \n",
        "  train_loss = 0\n",
        "  \n",
        "  while True:\n",
        "    batch = train_set.make_batch()\n",
        "    if batch is None:\n",
        "      break\n",
        "    \n",
        "    orig_data, target = batch\n",
        "    data = orig_data/255.0\n",
        "    data = data.view(batch_size, 1, image_width, image_height).to(device)\n",
        "    target = target.to(device)\n",
        "\n",
        "\n",
        "    encoder.zero_grad()\n",
        "    decoder.zero_grad()\n",
        "\n",
        "    \n",
        "    enc = encoder(data)\n",
        "    #print(enc.shape)\n",
        "    s = enc.permute(1, 0, 2)\n",
        "    #print(s.shape)\n",
        "    s = s.flatten(start_dim=1).view(1, batch_size, -1)\n",
        "    \n",
        "    \n",
        "    discr_loss = 1\n",
        "    if target.shape[1] > 1:\n",
        "      discriminator_optimizer.zero_grad()\n",
        "      _, _, tf_loss = apply_discriminator(s, target, True, True, batch_ones)\n",
        "      _, _, fr_loss = apply_discriminator(s, target, False, True, batch_zeros)\n",
        "      dl = tf_loss + fr_loss\n",
        "      discr_loss = dl.item()\n",
        "      if (batch_idx % freq == 0) and (batch_idx != 0):\n",
        "        print(\"Discr loss: %f\" %(dl.item()))\n",
        "      #print(dl)\n",
        "      dl.backward()\n",
        "      discriminator_optimizer.step()\n",
        "   \n",
        "\n",
        "      #     use_teacher_forcing = True if random() < teacher_forcing_ratio else False\n",
        "      # #    recognition_result, loss, discriminator_loss = apply_discriminator(s, target, use_teacher_forcing, True, batch_zeros)\n",
        "      #     recognition_result, loss = apply_decoder(s, target, use_teacher_forcing)\n",
        "    batch_loss = None  \n",
        "    if (target.shape[1] > 1) and (discr_loss < 0.3):\n",
        "      discriminator_optimizer.zero_grad()\n",
        "      recognition_result, loss, discriminator_loss = apply_discriminator(s, target, True, False, batch_zeros)\n",
        "      batch_loss = loss.item()\n",
        "      loss = loss + discriminator_loss\n",
        "      print(\"Apply descr...\")\n",
        "    else:\n",
        "      recognition_result, loss = apply_decoder(s, target, True)\n",
        "      batch_loss = loss.item()\n",
        "\n",
        "      \n",
        "      \n",
        "    c_loss += batch_loss/(target.shape[1] + 0)\n",
        "    train_loss += batch_loss/(target.shape[1] + 0)\n",
        "    if (batch_idx % freq == 0) and (batch_idx != 0):\n",
        "      \n",
        "      if False:#True:#not use_teacher_forcing:\n",
        "        for k in range(0, min(3, target.shape[0])):\n",
        "            decoded = recognition_result[k,0:target.shape[1]]\n",
        "            plt.imshow(orig_data[k].cpu(), cmap=\"gray\")\n",
        "            plt.show()\n",
        "            print(\"  \" + train_set.decode_word(target[k,:]) + \" -> \" + train_set.decode_word(decoded))\n",
        "      c_loss /= freq \n",
        "      print(\"  Batch: \" + str(batch_idx) + \" Loss: \" + str(c_loss))\n",
        "      c_loss = 0\n",
        "    loss.backward()\n",
        "    #grad_clip = 0.1\n",
        "    #torch.nn.utils.clip_grad_norm_(encoder.parameters(), grad_clip)\n",
        "    #torch.nn.utils.clip_grad_norm_(decoder.parameters(), grad_clip)\n",
        "    encoder_optimizer.step()\n",
        "    decoder_optimizer.step()\n",
        "    batch_idx += 1\n",
        "  print(\"Train loss: %f\"%(train_loss/batch_idx))\n",
        "\n",
        "for i in range(0, 100):\n",
        "  max_size = 5\n",
        "  train(i, max_size)\n",
        "  test(max_size)"
      ],
      "execution_count": 0,
      "outputs": [
        {
          "output_type": "stream",
          "text": [
            "Training epoch 0...\n",
            "Discr loss: 0.981093\n",
            "  Batch: 30 Loss: 2.111132470766703\n",
            "Discr loss: 0.458278\n",
            "  Batch: 60 Loss: 2.058154651853773\n",
            "Discr loss: 1.000604\n",
            "  Batch: 90 Loss: 2.093117078145345\n",
            "Discr loss: 0.983547\n",
            "  Batch: 120 Loss: 1.982354598575168\n",
            "Discr loss: 1.012402\n",
            "  Batch: 150 Loss: 2.1507561286290486\n",
            "Discr loss: 0.373951\n",
            "  Batch: 180 Loss: 2.049034076266819\n",
            "Discr loss: 0.429939\n",
            "  Batch: 210 Loss: 2.0427302598953245\n",
            "Discr loss: 1.051853\n",
            "  Batch: 240 Loss: 2.005116979281108\n",
            "Discr loss: 0.778436\n",
            "  Batch: 270 Loss: 2.0918368630939055\n",
            "Discr loss: 0.953906\n",
            "  Batch: 300 Loss: 2.0337484730614555\n",
            "Discr loss: 0.823623\n",
            "  Batch: 330 Loss: 1.8672391202714709\n",
            "Discr loss: 0.533831\n",
            "  Batch: 360 Loss: 1.976417891184489\n",
            "Train loss: 2.030402\n",
            "Testing...\n"
          ],
          "name": "stdout"
        },
        {
          "output_type": "display_data",
          "data": {
            "image/png": "[encoded data removed]",
            "text/plain": [
              "<Figure size 432x288 with 1 Axes>"
            ]
          },
          "metadata": {
            "tags": []
          }
        },
        {
          "output_type": "stream",
          "text": [
            "  the -> the\n"
          ],
          "name": "stdout"
        },
        {
          "output_type": "display_data",
          "data": {
            "image/png": "[encoded data removed]",
            "text/plain": [
              "<Figure size 432x288 with 1 Axes>"
            ]
          },
          "metadata": {
            "tags": []
          }
        },
        {
          "output_type": "stream",
          "text": [
            "  the -> the\n"
          ],
          "name": "stdout"
        },
        {
          "output_type": "display_data",
          "data": {
            "image/png": "[encoded data removed]",
            "text/plain": [
              "<Figure size 432x288 with 1 Axes>"
            ]
          },
          "metadata": {
            "tags": []
          }
        },
        {
          "output_type": "stream",
          "text": [
            "  all -> tnl\n",
            "  Batch: 20 Loss: 2.0813474714756013\n"
          ],
          "name": "stdout"
        },
        {
          "output_type": "display_data",
          "data": {
            "image/png": "[encoded data removed]",
            "text/plain": [
              "<Figure size 432x288 with 1 Axes>"
            ]
          },
          "metadata": {
            "tags": []
          }
        },
        {
          "output_type": "stream",
          "text": [
            "  that -> thet\n"
          ],
          "name": "stdout"
        },
        {
          "output_type": "display_data",
          "data": {
            "image/png": "[encoded data removed]",
            "text/plain": [
              "<Figure size 432x288 with 1 Axes>"
            ]
          },
          "metadata": {
            "tags": []
          }
        },
        {
          "output_type": "stream",
          "text": [
            "  both -> teth\n"
          ],
          "name": "stdout"
        },
        {
          "output_type": "display_data",
          "data": {
            "image/png": "[encoded data removed]",
            "text/plain": [
              "<Figure size 432x288 with 1 Axes>"
            ]
          },
          "metadata": {
            "tags": []
          }
        },
        {
          "output_type": "stream",
          "text": [
            "  good -> totd\n",
            "  Batch: 40 Loss: 1.8936543603738152\n",
            "Test loss: 1.939025\n",
            "Training epoch 1...\n",
            "  Batch: 30 Loss: 2.088000451193915\n",
            "Discr loss: 1.010354\n",
            "  Batch: 60 Loss: 1.8993609812524583\n",
            "Discr loss: 0.666694\n",
            "  Batch: 90 Loss: 1.985862011379666\n",
            "Discr loss: 0.684251\n",
            "  Batch: 120 Loss: 2.0046787712309095\n",
            "Discr loss: 0.562216\n",
            "  Batch: 150 Loss: 1.9697376290957134\n",
            "Discr loss: 0.966375\n",
            "  Batch: 180 Loss: 1.942208128505283\n",
            "Discr loss: 0.436996\n",
            "  Batch: 210 Loss: 1.8391815781593324\n",
            "  Batch: 240 Loss: 2.0053946548038057\n",
            "Discr loss: 0.395615\n",
            "  Batch: 270 Loss: 2.003858274883694\n",
            "Discr loss: 0.461507\n",
            "  Batch: 300 Loss: 1.9890660842259724\n",
            "  Batch: 330 Loss: 1.9363779399130079\n",
            "Discr loss: 0.805387\n",
            "  Batch: 360 Loss: 1.9680098666085137\n",
            "Train loss: 1.960251\n",
            "Testing...\n"
          ],
          "name": "stdout"
        },
        {
          "output_type": "display_data",
          "data": {
            "image/png": "[encoded data removed]",
            "text/plain": [
              "<Figure size 432x288 with 1 Axes>"
            ]
          },
          "metadata": {
            "tags": []
          }
        },
        {
          "output_type": "stream",
          "text": [
            "  for -> tor\n"
          ],
          "name": "stdout"
        },
        {
          "output_type": "display_data",
          "data": {
            "image/png": "[encoded data removed]",
            "text/plain": [
              "<Figure size 432x288 with 1 Axes>"
            ]
          },
          "metadata": {
            "tags": []
          }
        },
        {
          "output_type": "stream",
          "text": [
            "  too -> tho\n"
          ],
          "name": "stdout"
        },
        {
          "output_type": "display_data",
          "data": {
            "image/png": "[encoded data removed]",
            "text/plain": [
              "<Figure size 432x288 with 1 Axes>"
            ]
          },
          "metadata": {
            "tags": []
          }
        },
        {
          "output_type": "stream",
          "text": [
            "  and -> tnd\n",
            "  Batch: 20 Loss: 2.038201105594635\n"
          ],
          "name": "stdout"
        },
        {
          "output_type": "display_data",
          "data": {
            "image/png": "[encoded data removed]",
            "text/plain": [
              "<Figure size 432x288 with 1 Axes>"
            ]
          },
          "metadata": {
            "tags": []
          }
        },
        {
          "output_type": "stream",
          "text": [
            "  It -> tt\n"
          ],
          "name": "stdout"
        },
        {
          "output_type": "display_data",
          "data": {
            "image/png": "[encoded data removed]",
            "text/plain": [
              "<Figure size 432x288 with 1 Axes>"
            ]
          },
          "metadata": {
            "tags": []
          }
        },
        {
          "output_type": "stream",
          "text": [
            "  of -> tf\n"
          ],
          "name": "stdout"
        },
        {
          "output_type": "display_data",
          "data": {
            "image/png": "[encoded data removed]",
            "text/plain": [
              "<Figure size 432x288 with 1 Axes>"
            ]
          },
          "metadata": {
            "tags": []
          }
        },
        {
          "output_type": "stream",
          "text": [
            "  is -> tn\n",
            "  Batch: 40 Loss: 1.823132864634196\n",
            "Test loss: 1.883578\n",
            "Training epoch 2...\n",
            "Discr loss: 0.541384\n",
            "  Batch: 30 Loss: 2.0416893429226346\n",
            "Discr loss: 0.463292\n",
            "  Batch: 60 Loss: 1.973964560031891\n",
            "Apply descr...\n",
            "Discr loss: 0.766367\n",
            "  Batch: 90 Loss: 1.9628826644685533\n",
            "Discr loss: 0.923712\n",
            "  Batch: 120 Loss: 1.9754121303558352\n",
            "Discr loss: 0.560860\n",
            "  Batch: 150 Loss: 1.8515647954410979\n",
            "Discr loss: 0.471629\n",
            "  Batch: 180 Loss: 1.8629238009452818\n",
            "Discr loss: 0.468381\n",
            "  Batch: 210 Loss: 1.944884563816918\n",
            "Discr loss: 0.463593\n",
            "  Batch: 240 Loss: 1.8996066874927942\n",
            "Discr loss: 0.706558\n",
            "  Batch: 270 Loss: 1.835943055152893\n",
            "Discr loss: 0.818918\n",
            "  Batch: 300 Loss: 2.0263364884588455\n",
            "Discr loss: 0.857975\n",
            "  Batch: 330 Loss: 1.8748855842484367\n",
            "Discr loss: 0.857198\n",
            "  Batch: 360 Loss: 1.841184259785546\n",
            "Train loss: 1.918162\n",
            "Testing...\n"
          ],
          "name": "stdout"
        },
        {
          "output_type": "display_data",
          "data": {
            "image/png": "[encoded data removed]",
            "text/plain": [
              "<Figure size 432x288 with 1 Axes>"
            ]
          },
          "metadata": {
            "tags": []
          }
        },
        {
          "output_type": "stream",
          "text": [
            "  Sir -> tor\n"
          ],
          "name": "stdout"
        },
        {
          "output_type": "display_data",
          "data": {
            "image/png": "[encoded data removed]",
            "text/plain": [
              "<Figure size 432x288 with 1 Axes>"
            ]
          },
          "metadata": {
            "tags": []
          }
        },
        {
          "output_type": "stream",
          "text": [
            "  did -> tod\n"
          ],
          "name": "stdout"
        },
        {
          "output_type": "display_data",
          "data": {
            "image/png": "[encoded data removed]",
            "text/plain": [
              "<Figure size 432x288 with 1 Axes>"
            ]
          },
          "metadata": {
            "tags": []
          }
        },
        {
          "output_type": "stream",
          "text": [
            "  for -> tor\n",
            "  Batch: 20 Loss: 1.8774856011072796\n"
          ],
          "name": "stdout"
        },
        {
          "output_type": "display_data",
          "data": {
            "image/png": "[encoded data removed]",
            "text/plain": [
              "<Figure size 432x288 with 1 Axes>"
            ]
          },
          "metadata": {
            "tags": []
          }
        },
        {
          "output_type": "stream",
          "text": [
            "  mass -> want\n"
          ],
          "name": "stdout"
        },
        {
          "output_type": "display_data",
          "data": {
            "image/png": "[encoded data removed]",
            "text/plain": [
              "<Figure size 432x288 with 1 Axes>"
            ]
          },
          "metadata": {
            "tags": []
          }
        },
        {
          "output_type": "stream",
          "text": [
            "  very -> tere\n"
          ],
          "name": "stdout"
        },
        {
          "output_type": "display_data",
          "data": {
            "image/png": "[encoded data removed]",
            "text/plain": [
              "<Figure size 432x288 with 1 Axes>"
            ]
          },
          "metadata": {
            "tags": []
          }
        },
        {
          "output_type": "stream",
          "text": [
            "  that -> thet\n",
            "  Batch: 40 Loss: 1.8970097223917641\n",
            "Test loss: 1.841217\n",
            "Training epoch 3...\n",
            "Discr loss: 0.947148\n",
            "  Batch: 30 Loss: 2.0140250749058195\n",
            "Discr loss: 0.863970\n",
            "  Batch: 60 Loss: 1.839881071779463\n",
            "  Batch: 90 Loss: 1.8756107462777032\n",
            "Discr loss: 0.412568\n",
            "  Batch: 120 Loss: 1.8685150225957237\n",
            "Discr loss: 0.536464\n",
            "  Batch: 150 Loss: 1.9279822442266676\n",
            "Discr loss: 0.801836\n",
            "  Batch: 180 Loss: 1.840515383084615\n",
            "Discr loss: 0.358536\n",
            "  Batch: 210 Loss: 1.9281309631135728\n",
            "Discr loss: 0.401616\n",
            "  Batch: 240 Loss: 1.8368126299646166\n",
            "  Batch: 270 Loss: 1.9573579205407037\n",
            "Discr loss: 0.472313\n",
            "  Batch: 300 Loss: 1.8637566910849677\n",
            "Discr loss: 0.687507\n",
            "  Batch: 330 Loss: 1.924319362640381\n",
            "Discr loss: 0.412600\n",
            "  Batch: 360 Loss: 1.9774430049790275\n",
            "Train loss: 1.891473\n",
            "Testing...\n"
          ],
          "name": "stdout"
        },
        {
          "output_type": "display_data",
          "data": {
            "image/png": "[encoded data removed]",
            "text/plain": [
              "<Figure size 432x288 with 1 Axes>"
            ]
          },
          "metadata": {
            "tags": []
          }
        },
        {
          "output_type": "stream",
          "text": [
            "  all -> tnl\n"
          ],
          "name": "stdout"
        },
        {
          "output_type": "display_data",
          "data": {
            "image/png": "[encoded data removed]",
            "text/plain": [
              "<Figure size 432x288 with 1 Axes>"
            ]
          },
          "metadata": {
            "tags": []
          }
        },
        {
          "output_type": "stream",
          "text": [
            "  the -> the\n"
          ],
          "name": "stdout"
        },
        {
          "output_type": "display_data",
          "data": {
            "image/png": "[encoded data removed]",
            "text/plain": [
              "<Figure size 432x288 with 1 Axes>"
            ]
          },
          "metadata": {
            "tags": []
          }
        },
        {
          "output_type": "stream",
          "text": [
            "  the -> the\n",
            "  Batch: 20 Loss: 1.9199740986029306\n",
            "Test loss: 1.867474\n",
            "Training epoch 4...\n",
            "  Batch: 30 Loss: 1.8606919156180488\n",
            "Discr loss: 0.982997\n",
            "  Batch: 60 Loss: 1.936063157187568\n",
            "Discr loss: 0.976968\n",
            "  Batch: 90 Loss: 1.9208859390682642\n",
            "  Batch: 120 Loss: 1.9294977400037978\n",
            "Discr loss: 0.826138\n",
            "  Batch: 150 Loss: 1.8373147341940135\n",
            "Discr loss: 0.412317\n",
            "  Batch: 180 Loss: 1.837692533599006\n",
            "Discr loss: 0.612597\n",
            "  Batch: 210 Loss: 1.9033442854881286\n",
            "Discr loss: 1.014316\n",
            "  Batch: 240 Loss: 1.8871433814366658\n",
            "Discr loss: 1.002155\n",
            "  Batch: 270 Loss: 1.8788378066486784\n",
            "Discr loss: 0.343059\n",
            "  Batch: 300 Loss: 1.906577161947886\n",
            "Discr loss: 0.946674\n",
            "  Batch: 330 Loss: 1.8652097225189208\n",
            "Discr loss: 0.478947\n",
            "  Batch: 360 Loss: 1.8923717088169523\n",
            "Train loss: 1.881336\n",
            "Testing...\n"
          ],
          "name": "stdout"
        },
        {
          "output_type": "display_data",
          "data": {
            "image/png": "[encoded data removed]",
            "text/plain": [
              "<Figure size 432x288 with 1 Axes>"
            ]
          },
          "metadata": {
            "tags": []
          }
        },
        {
          "output_type": "stream",
          "text": [
            "  sent -> taet\n"
          ],
          "name": "stdout"
        },
        {
          "output_type": "display_data",
          "data": {
            "image/png": "[encoded data removed]",
            "text/plain": [
              "<Figure size 432x288 with 1 Axes>"
            ]
          },
          "metadata": {
            "tags": []
          }
        },
        {
          "output_type": "stream",
          "text": [
            "  been -> tuen\n"
          ],
          "name": "stdout"
        },
        {
          "output_type": "display_data",
          "data": {
            "image/png": "[encoded data removed]",
            "text/plain": [
              "<Figure size 432x288 with 1 Axes>"
            ]
          },
          "metadata": {
            "tags": []
          }
        },
        {
          "output_type": "stream",
          "text": [
            "  sent -> taet\n",
            "  Batch: 20 Loss: 1.8733964343865712\n"
          ],
          "name": "stdout"
        },
        {
          "output_type": "display_data",
          "data": {
            "image/png": "[encoded data removed]",
            "text/plain": [
              "<Figure size 432x288 with 1 Axes>"
            ]
          },
          "metadata": {
            "tags": []
          }
        },
        {
          "output_type": "stream",
          "text": [
            "  for -> tor\n"
          ],
          "name": "stdout"
        },
        {
          "output_type": "display_data",
          "data": {
            "image/png": "[encoded data removed]",
            "text/plain": [
              "<Figure size 432x288 with 1 Axes>"
            ]
          },
          "metadata": {
            "tags": []
          }
        },
        {
          "output_type": "stream",
          "text": [
            "  the -> the\n"
          ],
          "name": "stdout"
        },
        {
          "output_type": "display_data",
          "data": {
            "image/png": "[encoded data removed]",
            "text/plain": [
              "<Figure size 432x288 with 1 Axes>"
            ]
          },
          "metadata": {
            "tags": []
          }
        },
        {
          "output_type": "stream",
          "text": [
            "  And -> tnd\n",
            "  Batch: 40 Loss: 1.8768501957257588\n",
            "Test loss: 1.829389\n",
            "Training epoch 5...\n",
            "Discr loss: 0.714532\n",
            "  Batch: 30 Loss: 1.8804833345943024\n",
            "Discr loss: 0.376937\n",
            "  Batch: 60 Loss: 1.9386087695757546\n",
            "Discr loss: 0.577643\n",
            "  Batch: 90 Loss: 1.823767246140374\n",
            "Discr loss: 0.403212\n",
            "  Batch: 120 Loss: 1.8171930299864874\n",
            "Discr loss: 0.559907\n",
            "  Batch: 150 Loss: 1.812764248583052\n",
            "Discr loss: 0.685570\n",
            "  Batch: 180 Loss: 1.9097393512725833\n",
            "Discr loss: 0.826073\n",
            "  Batch: 210 Loss: 1.9725961976581148\n",
            "Discr loss: 0.696143\n",
            "  Batch: 240 Loss: 1.8683442963494195\n",
            "Discr loss: 0.647755\n",
            "  Batch: 270 Loss: 1.9348513722419738\n",
            "Discr loss: 0.958148\n",
            "  Batch: 300 Loss: 1.7446150342623392\n",
            "Discr loss: 0.501653\n",
            "  Batch: 330 Loss: 1.8146711574660408\n",
            "Discr loss: 0.768772\n",
            "  Batch: 360 Loss: 1.949106768767039\n",
            "Train loss: 1.864523\n",
            "Testing...\n"
          ],
          "name": "stdout"
        },
        {
          "output_type": "display_data",
          "data": {
            "image/png": "[encoded data removed]",
            "text/plain": [
              "<Figure size 432x288 with 1 Axes>"
            ]
          },
          "metadata": {
            "tags": []
          }
        },
        {
          "output_type": "stream",
          "text": [
            "  one -> tfe\n"
          ],
          "name": "stdout"
        },
        {
          "output_type": "display_data",
          "data": {
            "image/png": "[encoded data removed]",
            "text/plain": [
              "<Figure size 432x288 with 1 Axes>"
            ]
          },
          "metadata": {
            "tags": []
          }
        },
        {
          "output_type": "stream",
          "text": [
            "  the -> the\n"
          ],
          "name": "stdout"
        },
        {
          "output_type": "display_data",
          "data": {
            "image/png": "[encoded data removed]",
            "text/plain": [
              "<Figure size 432x288 with 1 Axes>"
            ]
          },
          "metadata": {
            "tags": []
          }
        },
        {
          "output_type": "stream",
          "text": [
            "  the -> the\n",
            "  Batch: 20 Loss: 1.9734240194161732\n",
            "Test loss: 1.829818\n",
            "Training epoch 6...\n",
            "Discr loss: 0.851370\n",
            "  Batch: 30 Loss: 1.9327236360973783\n",
            "Discr loss: 0.731817\n",
            "  Batch: 60 Loss: 1.773089145289527\n",
            "Discr loss: 0.724865\n",
            "  Batch: 90 Loss: 1.8516753474871317\n",
            "  Batch: 120 Loss: 1.9178220854865178\n",
            "  Batch: 150 Loss: 1.9225671026441786\n",
            "Discr loss: 0.354189\n",
            "  Batch: 180 Loss: 1.8763514969083996\n",
            "Discr loss: 0.595912\n",
            "  Batch: 210 Loss: 1.8036297784911262\n",
            "Discr loss: 0.844970\n",
            "  Batch: 240 Loss: 1.8055836240450545\n",
            "Discr loss: 0.393612\n",
            "  Batch: 270 Loss: 1.8337111433347064\n",
            "Discr loss: 0.790766\n",
            "  Batch: 300 Loss: 1.8995428376727637\n",
            "Discr loss: 0.429036\n",
            "  Batch: 330 Loss: 1.794586843914456\n",
            "Apply descr...\n",
            "Discr loss: 0.538544\n",
            "  Batch: 360 Loss: 1.8218067169189451\n",
            "Train loss: 1.851509\n",
            "Testing...\n"
          ],
          "name": "stdout"
        },
        {
          "output_type": "display_data",
          "data": {
            "image/png": "[encoded data removed]",
            "text/plain": [
              "<Figure size 432x288 with 1 Axes>"
            ]
          },
          "metadata": {
            "tags": []
          }
        },
        {
          "output_type": "stream",
          "text": [
            "  West -> thlt\n"
          ],
          "name": "stdout"
        },
        {
          "output_type": "display_data",
          "data": {
            "image/png": "[encoded data removed]",
            "text/plain": [
              "<Figure size 432x288 with 1 Axes>"
            ]
          },
          "metadata": {
            "tags": []
          }
        },
        {
          "output_type": "stream",
          "text": [
            "  said -> thid\n"
          ],
          "name": "stdout"
        },
        {
          "output_type": "display_data",
          "data": {
            "image/png": "[encoded data removed]",
            "text/plain": [
              "<Figure size 432x288 with 1 Axes>"
            ]
          },
          "metadata": {
            "tags": []
          }
        },
        {
          "output_type": "stream",
          "text": [
            "  have -> tade\n",
            "  Batch: 20 Loss: 1.9758451600869495\n"
          ],
          "name": "stdout"
        },
        {
          "output_type": "display_data",
          "data": {
            "image/png": "[encoded data removed]",
            "text/plain": [
              "<Figure size 432x288 with 1 Axes>"
            ]
          },
          "metadata": {
            "tags": []
          }
        },
        {
          "output_type": "stream",
          "text": [
            "  that -> ahet\n"
          ],
          "name": "stdout"
        },
        {
          "output_type": "display_data",
          "data": {
            "image/png": "[encoded data removed]",
            "text/plain": [
              "<Figure size 432x288 with 1 Axes>"
            ]
          },
          "metadata": {
            "tags": []
          }
        },
        {
          "output_type": "stream",
          "text": [
            "  with -> tath\n"
          ],
          "name": "stdout"
        },
        {
          "output_type": "display_data",
          "data": {
            "image/png": "[encoded data removed]",
            "text/plain": [
              "<Figure size 432x288 with 1 Axes>"
            ]
          },
          "metadata": {
            "tags": []
          }
        },
        {
          "output_type": "stream",
          "text": [
            "  role -> tomd\n",
            "  Batch: 40 Loss: 1.7557103574275974\n",
            "Test loss: 1.820271\n",
            "Training epoch 7...\n",
            "Discr loss: 0.417784\n",
            "  Batch: 30 Loss: 1.8765831099616157\n",
            "  Batch: 60 Loss: 1.8659113685290019\n",
            "Apply descr...\n",
            "Discr loss: 0.745810\n",
            "  Batch: 90 Loss: 1.9424495471848382\n",
            "Discr loss: 0.495773\n",
            "  Batch: 120 Loss: 1.890961694717407\n",
            "Discr loss: 0.869556\n",
            "  Batch: 150 Loss: 1.7934604843457538\n",
            "Discr loss: 0.820734\n",
            "  Batch: 180 Loss: 1.8837554189893935\n",
            "Discr loss: 0.608464\n",
            "  Batch: 210 Loss: 1.9346886184480456\n",
            "Apply descr...\n",
            "Discr loss: 0.807490\n",
            "  Batch: 240 Loss: 1.9871773719787598\n",
            "Discr loss: 1.006706\n",
            "  Batch: 270 Loss: 1.827652370929718\n",
            "Discr loss: 0.509393\n",
            "  Batch: 300 Loss: 1.8000510891278587\n",
            "Discr loss: 0.791727\n",
            "  Batch: 330 Loss: 1.736174015204112\n",
            "Discr loss: 0.773286\n",
            "  Batch: 360 Loss: 1.7453277892536587\n",
            "Train loss: 1.846411\n",
            "Testing...\n"
          ],
          "name": "stdout"
        },
        {
          "output_type": "display_data",
          "data": {
            "image/png": "[encoded data removed]",
            "text/plain": [
              "<Figure size 432x288 with 1 Axes>"
            ]
          },
          "metadata": {
            "tags": []
          }
        },
        {
          "output_type": "stream",
          "text": [
            "  at -> tn\n"
          ],
          "name": "stdout"
        },
        {
          "output_type": "display_data",
          "data": {
            "image/png": "[encoded data removed]",
            "text/plain": [
              "<Figure size 432x288 with 1 Axes>"
            ]
          },
          "metadata": {
            "tags": []
          }
        },
        {
          "output_type": "stream",
          "text": [
            "  in -> tn\n"
          ],
          "name": "stdout"
        },
        {
          "output_type": "display_data",
          "data": {
            "image/png": "[encoded data removed]",
            "text/plain": [
              "<Figure size 432x288 with 1 Axes>"
            ]
          },
          "metadata": {
            "tags": []
          }
        },
        {
          "output_type": "stream",
          "text": [
            "  We -> te\n",
            "  Batch: 20 Loss: 1.8937799990177155\n",
            "Test loss: 1.808080\n",
            "Training epoch 8...\n",
            "  Batch: 30 Loss: 1.932748764091068\n",
            "Discr loss: 0.349177\n",
            "  Batch: 60 Loss: 1.817956942982144\n",
            "Discr loss: 0.572330\n",
            "  Batch: 90 Loss: 1.786561761962043\n",
            "Discr loss: 0.472090\n",
            "  Batch: 120 Loss: 1.7988995260662504\n",
            "Discr loss: 0.728249\n",
            "  Batch: 150 Loss: 1.8407930546336706\n",
            "Discr loss: 0.496688\n",
            "  Batch: 180 Loss: 1.827716619438595\n",
            "Apply descr...\n",
            "Discr loss: 0.695291\n",
            "  Batch: 210 Loss: 1.7798526459270054\n",
            "Discr loss: 0.730558\n",
            "  Batch: 240 Loss: 1.8750129792425367\n",
            "  Batch: 270 Loss: 1.9060024804539148\n",
            "Discr loss: 0.757124\n",
            "  Batch: 300 Loss: 1.9145889666345384\n",
            "Discr loss: 0.806021\n",
            "  Batch: 330 Loss: 1.726837786038717\n",
            "Apply descr...\n",
            "Apply descr...\n",
            "Apply descr...\n",
            "Discr loss: 0.940346\n",
            "  Batch: 360 Loss: 1.895681863360935\n",
            "Train loss: 1.840002\n",
            "Testing...\n"
          ],
          "name": "stdout"
        },
        {
          "output_type": "display_data",
          "data": {
            "image/png": "[encoded data removed]",
            "text/plain": [
              "<Figure size 432x288 with 1 Axes>"
            ]
          },
          "metadata": {
            "tags": []
          }
        },
        {
          "output_type": "stream",
          "text": [
            "  his -> tas\n"
          ],
          "name": "stdout"
        },
        {
          "output_type": "display_data",
          "data": {
            "image/png": "[encoded data removed]",
            "text/plain": [
              "<Figure size 432x288 with 1 Axes>"
            ]
          },
          "metadata": {
            "tags": []
          }
        },
        {
          "output_type": "stream",
          "text": [
            "  the -> the\n"
          ],
          "name": "stdout"
        },
        {
          "output_type": "display_data",
          "data": {
            "image/png": "[encoded data removed]",
            "text/plain": [
              "<Figure size 432x288 with 1 Axes>"
            ]
          },
          "metadata": {
            "tags": []
          }
        },
        {
          "output_type": "stream",
          "text": [
            "  Mr. -> tr.\n",
            "  Batch: 20 Loss: 1.8803467094898223\n"
          ],
          "name": "stdout"
        },
        {
          "output_type": "display_data",
          "data": {
            "image/png": "[encoded data removed]",
            "text/plain": [
              "<Figure size 432x288 with 1 Axes>"
            ]
          },
          "metadata": {
            "tags": []
          }
        },
        {
          "output_type": "stream",
          "text": [
            "  that -> thet\n"
          ],
          "name": "stdout"
        },
        {
          "output_type": "display_data",
          "data": {
            "image/png": "[encoded data removed]",
            "text/plain": [
              "<Figure size 432x288 with 1 Axes>"
            ]
          },
          "metadata": {
            "tags": []
          }
        },
        {
          "output_type": "stream",
          "text": [
            "  that -> thet\n"
          ],
          "name": "stdout"
        },
        {
          "output_type": "display_data",
          "data": {
            "image/png": "[encoded data removed]",
            "text/plain": [
              "<Figure size 432x288 with 1 Axes>"
            ]
          },
          "metadata": {
            "tags": []
          }
        },
        {
          "output_type": "stream",
          "text": [
            "  con- -> tame\n",
            "  Batch: 40 Loss: 1.8072355846563972\n",
            "Test loss: 1.798821\n",
            "Training epoch 9...\n",
            "Discr loss: 0.617137\n",
            "  Batch: 30 Loss: 1.836666328377194\n",
            "Discr loss: 0.494544\n",
            "  Batch: 60 Loss: 1.9385929716957941\n",
            "Discr loss: 0.729319\n",
            "  Batch: 90 Loss: 1.783183655473921\n",
            "Discr loss: 0.323711\n",
            "  Batch: 120 Loss: 1.8353185296058652\n",
            "Discr loss: 0.596687\n",
            "  Batch: 150 Loss: 1.9184731576177811\n",
            "Discr loss: 0.591595\n",
            "  Batch: 180 Loss: 1.8998017734951445\n",
            "Discr loss: 0.276847\n",
            "Apply descr...\n",
            "  Batch: 210 Loss: 1.8080967624982198\n",
            "Apply descr...\n",
            "Discr loss: 0.848264\n",
            "  Batch: 240 Loss: 1.7857983019616868\n",
            "Discr loss: 0.571568\n",
            "  Batch: 270 Loss: 1.747260467211405\n",
            "Apply descr...\n",
            "  Batch: 300 Loss: 1.8504039698176913\n",
            "Discr loss: 0.806085\n",
            "  Batch: 330 Loss: 1.8337237119674683\n",
            "Apply descr...\n",
            "Discr loss: 0.898942\n",
            "  Batch: 360 Loss: 1.8426503631803723\n",
            "Apply descr...\n",
            "Train loss: 1.833138\n",
            "Testing...\n"
          ],
          "name": "stdout"
        },
        {
          "output_type": "display_data",
          "data": {
            "image/png": "[encoded data removed]",
            "text/plain": [
              "<Figure size 432x288 with 1 Axes>"
            ]
          },
          "metadata": {
            "tags": []
          }
        },
        {
          "output_type": "stream",
          "text": [
            "  by -> te\n"
          ],
          "name": "stdout"
        },
        {
          "output_type": "display_data",
          "data": {
            "image/png": "[encoded data removed]",
            "text/plain": [
              "<Figure size 432x288 with 1 Axes>"
            ]
          },
          "metadata": {
            "tags": []
          }
        },
        {
          "output_type": "stream",
          "text": [
            "  to -> th\n"
          ],
          "name": "stdout"
        },
        {
          "output_type": "display_data",
          "data": {
            "image/png": "[encoded data removed]",
            "text/plain": [
              "<Figure size 432x288 with 1 Axes>"
            ]
          },
          "metadata": {
            "tags": []
          }
        },
        {
          "output_type": "stream",
          "text": [
            "  to -> th\n",
            "  Batch: 20 Loss: 1.993330055475235\n"
          ],
          "name": "stdout"
        },
        {
          "output_type": "display_data",
          "data": {
            "image/png": "[encoded data removed]",
            "text/plain": [
              "<Figure size 432x288 with 1 Axes>"
            ]
          },
          "metadata": {
            "tags": []
          }
        },
        {
          "output_type": "stream",
          "text": [
            "  had -> ted\n"
          ],
          "name": "stdout"
        },
        {
          "output_type": "display_data",
          "data": {
            "image/png": "[encoded data removed]",
            "text/plain": [
              "<Figure size 432x288 with 1 Axes>"
            ]
          },
          "metadata": {
            "tags": []
          }
        },
        {
          "output_type": "stream",
          "text": [
            "  The -> the\n"
          ],
          "name": "stdout"
        },
        {
          "output_type": "display_data",
          "data": {
            "image/png": "[encoded data removed]",
            "text/plain": [
              "<Figure size 432x288 with 1 Axes>"
            ]
          },
          "metadata": {
            "tags": []
          }
        },
        {
          "output_type": "stream",
          "text": [
            "  Mr. -> tr.\n",
            "  Batch: 40 Loss: 1.7127663274606069\n",
            "Test loss: 1.807852\n",
            "Training epoch 10...\n",
            "Discr loss: 0.759627\n",
            "  Batch: 30 Loss: 1.978946333461338\n",
            "Discr loss: 0.727719\n",
            "  Batch: 60 Loss: 1.8187464674313862\n",
            "Discr loss: 0.870147\n",
            "  Batch: 90 Loss: 1.7676633384492662\n",
            "Apply descr...\n",
            "Discr loss: 0.419291\n",
            "  Batch: 120 Loss: 1.7624467187457613\n",
            "Discr loss: 0.920138\n",
            "  Batch: 150 Loss: 1.8479269703229266\n",
            "Discr loss: 0.563454\n",
            "  Batch: 180 Loss: 1.8618571546342637\n",
            "Discr loss: 0.754147\n",
            "  Batch: 210 Loss: 1.8834736347198489\n",
            "Discr loss: 0.802653\n",
            "  Batch: 240 Loss: 1.778197863366869\n",
            "Discr loss: 0.442884\n",
            "  Batch: 270 Loss: 1.807588243484497\n",
            "  Batch: 300 Loss: 1.8590000430742901\n",
            "Discr loss: 0.536845\n",
            "  Batch: 330 Loss: 1.829062126742469\n",
            "Apply descr...\n",
            "Discr loss: 0.464129\n",
            "  Batch: 360 Loss: 1.8573685977194043\n",
            "Train loss: 1.827004\n",
            "Testing...\n"
          ],
          "name": "stdout"
        },
        {
          "output_type": "display_data",
          "data": {
            "image/png": "[encoded data removed]",
            "text/plain": [
              "<Figure size 432x288 with 1 Axes>"
            ]
          },
          "metadata": {
            "tags": []
          }
        },
        {
          "output_type": "stream",
          "text": [
            "  is -> tn\n"
          ],
          "name": "stdout"
        },
        {
          "output_type": "display_data",
          "data": {
            "image/png": "[encoded data removed]",
            "text/plain": [
              "<Figure size 432x288 with 1 Axes>"
            ]
          },
          "metadata": {
            "tags": []
          }
        },
        {
          "output_type": "stream",
          "text": [
            "  He -> te\n"
          ],
          "name": "stdout"
        },
        {
          "output_type": "display_data",
          "data": {
            "image/png": "[encoded data removed]",
            "text/plain": [
              "<Figure size 432x288 with 1 Axes>"
            ]
          },
          "metadata": {
            "tags": []
          }
        },
        {
          "output_type": "stream",
          "text": [
            "  on -> tn\n",
            "  Batch: 20 Loss: 1.8548031846682231\n",
            "Test loss: 1.786539\n",
            "Training epoch 11...\n",
            "Apply descr...\n",
            "Discr loss: 0.481161\n",
            "  Batch: 30 Loss: 1.8980336427688598\n",
            "Apply descr...\n",
            "Discr loss: 0.678185\n",
            "  Batch: 60 Loss: 1.7655068000157677\n",
            "Apply descr...\n",
            "Apply descr...\n",
            "Discr loss: 0.893458\n",
            "  Batch: 90 Loss: 1.853765074412028\n",
            "Apply descr...\n",
            "  Batch: 120 Loss: 1.9096197883288066\n",
            "Discr loss: 0.781487\n",
            "  Batch: 150 Loss: 1.779968089527554\n",
            "Discr loss: 0.758014\n",
            "  Batch: 180 Loss: 1.7693210244178772\n",
            "Apply descr...\n",
            "Discr loss: 0.381201\n",
            "  Batch: 210 Loss: 1.8691471801863777\n",
            "Discr loss: 0.451997\n",
            "  Batch: 240 Loss: 1.8331573949919806\n",
            "Discr loss: 0.631628\n",
            "  Batch: 270 Loss: 1.8467580133014256\n",
            "Discr loss: 0.326359\n",
            "  Batch: 300 Loss: 1.8731872810257804\n",
            "Apply descr...\n",
            "Discr loss: 0.636084\n",
            "  Batch: 330 Loss: 1.7679446776707968\n",
            "Discr loss: 0.711907\n",
            "  Batch: 360 Loss: 1.8521919833289253\n",
            "Apply descr...\n",
            "Train loss: 1.825615\n",
            "Testing...\n"
          ],
          "name": "stdout"
        },
        {
          "output_type": "display_data",
          "data": {
            "image/png": "[encoded data removed]",
            "text/plain": [
              "<Figure size 432x288 with 1 Axes>"
            ]
          },
          "metadata": {
            "tags": []
          }
        },
        {
          "output_type": "stream",
          "text": [
            "  was -> tis\n"
          ],
          "name": "stdout"
        },
        {
          "output_type": "display_data",
          "data": {
            "image/png": "[encoded data removed]",
            "text/plain": [
              "<Figure size 432x288 with 1 Axes>"
            ]
          },
          "metadata": {
            "tags": []
          }
        },
        {
          "output_type": "stream",
          "text": [
            "  Mr. -> tr.\n"
          ],
          "name": "stdout"
        },
        {
          "output_type": "display_data",
          "data": {
            "image/png": "[encoded data removed]",
            "text/plain": [
              "<Figure size 432x288 with 1 Axes>"
            ]
          },
          "metadata": {
            "tags": []
          }
        },
        {
          "output_type": "stream",
          "text": [
            "  and -> tnd\n",
            "  Batch: 20 Loss: 1.9288129667441047\n",
            "Test loss: 1.793018\n",
            "Training epoch 12...\n",
            "Discr loss: 0.628929\n",
            "  Batch: 30 Loss: 1.9478756825129193\n",
            "Discr loss: 0.382202\n",
            "  Batch: 60 Loss: 1.8474159876505534\n",
            "Discr loss: 0.302856\n",
            "  Batch: 90 Loss: 1.7879020426008438\n",
            "Discr loss: 0.687524\n",
            "  Batch: 120 Loss: 1.794042174021403\n",
            "Discr loss: 0.423257\n",
            "  Batch: 150 Loss: 1.7820886347028944\n",
            "Discr loss: 0.682029\n",
            "  Batch: 180 Loss: 1.8545307728979321\n",
            "Discr loss: 0.729990\n",
            "  Batch: 210 Loss: 1.8241351180606422\n",
            "Apply descr...\n",
            "Apply descr...\n",
            "Discr loss: 0.592098\n",
            "  Batch: 240 Loss: 1.82164896859063\n",
            "Discr loss: 0.499582\n",
            "  Batch: 270 Loss: 1.7948723607593113\n",
            "Discr loss: 0.705744\n",
            "  Batch: 300 Loss: 1.7214547289742366\n",
            "Discr loss: 0.830902\n",
            "  Batch: 330 Loss: 1.8338079200850594\n",
            "  Batch: 360 Loss: 1.8735815313127304\n",
            "Train loss: 1.817258\n",
            "Testing...\n"
          ],
          "name": "stdout"
        },
        {
          "output_type": "display_data",
          "data": {
            "image/png": "[encoded data removed]",
            "text/plain": [
              "<Figure size 432x288 with 1 Axes>"
            ]
          },
          "metadata": {
            "tags": []
          }
        },
        {
          "output_type": "stream",
          "text": [
            "  by -> te\n"
          ],
          "name": "stdout"
        },
        {
          "output_type": "display_data",
          "data": {
            "image/png": "[encoded data removed]",
            "text/plain": [
              "<Figure size 432x288 with 1 Axes>"
            ]
          },
          "metadata": {
            "tags": []
          }
        },
        {
          "output_type": "stream",
          "text": [
            "  in -> ts\n"
          ],
          "name": "stdout"
        },
        {
          "output_type": "display_data",
          "data": {
            "image/png": "[encoded data removed]",
            "text/plain": [
              "<Figure size 432x288 with 1 Axes>"
            ]
          },
          "metadata": {
            "tags": []
          }
        },
        {
          "output_type": "stream",
          "text": [
            "  to -> ah\n",
            "  Batch: 20 Loss: 1.8869391520818073\n"
          ],
          "name": "stdout"
        },
        {
          "output_type": "display_data",
          "data": {
            "image/png": "[encoded data removed]",
            "text/plain": [
              "<Figure size 432x288 with 1 Axes>"
            ]
          },
          "metadata": {
            "tags": []
          }
        },
        {
          "output_type": "stream",
          "text": [
            "  town -> thln\n"
          ],
          "name": "stdout"
        },
        {
          "output_type": "display_data",
          "data": {
            "image/png": "[encoded data removed]",
            "text/plain": [
              "<Figure size 432x288 with 1 Axes>"
            ]
          },
          "metadata": {
            "tags": []
          }
        },
        {
          "output_type": "stream",
          "text": [
            "  This -> thes\n"
          ],
          "name": "stdout"
        },
        {
          "output_type": "display_data",
          "data": {
            "image/png": "[encoded data removed]",
            "text/plain": [
              "<Figure size 432x288 with 1 Axes>"
            ]
          },
          "metadata": {
            "tags": []
          }
        },
        {
          "output_type": "stream",
          "text": [
            "  were -> tire\n",
            "  Batch: 40 Loss: 1.7741323192914327\n",
            "Test loss: 1.785889\n",
            "Training epoch 13...\n",
            "Discr loss: 0.515248\n",
            "  Batch: 30 Loss: 1.7827596571710378\n",
            "Apply descr...\n",
            "Discr loss: 0.513876\n",
            "  Batch: 60 Loss: 1.8703190710809499\n",
            "Apply descr...\n",
            "Discr loss: 0.467261\n",
            "  Batch: 90 Loss: 1.804828887515598\n",
            "Apply descr...\n",
            "Discr loss: 0.472469\n",
            "  Batch: 120 Loss: 1.7990953538152905\n",
            "  Batch: 150 Loss: 1.804660107029809\n",
            "Apply descr...\n",
            "Apply descr...\n",
            "Discr loss: 0.339067\n",
            "  Batch: 180 Loss: 1.946657347679138\n",
            "Discr loss: 0.536464\n",
            "  Batch: 210 Loss: 1.7185662918620637\n",
            "Apply descr...\n",
            "Discr loss: 0.642802\n",
            "  Batch: 240 Loss: 1.8516808284653556\n",
            "Discr loss: 0.719311\n",
            "  Batch: 270 Loss: 1.7304497030046249\n",
            "Discr loss: 0.814086\n",
            "  Batch: 300 Loss: 1.8529872841305204\n",
            "Discr loss: 0.983151\n",
            "  Batch: 330 Loss: 1.9177511281437345\n",
            "Discr loss: 0.615649\n",
            "  Batch: 360 Loss: 1.7660411463843455\n",
            "Train loss: 1.815832\n",
            "Testing...\n"
          ],
          "name": "stdout"
        },
        {
          "output_type": "display_data",
          "data": {
            "image/png": "[encoded data removed]",
            "text/plain": [
              "<Figure size 432x288 with 1 Axes>"
            ]
          },
          "metadata": {
            "tags": []
          }
        },
        {
          "output_type": "stream",
          "text": [
            "  main -> tann\n"
          ],
          "name": "stdout"
        },
        {
          "output_type": "display_data",
          "data": {
            "image/png": "[encoded data removed]",
            "text/plain": [
              "<Figure size 432x288 with 1 Axes>"
            ]
          },
          "metadata": {
            "tags": []
          }
        },
        {
          "output_type": "stream",
          "text": [
            "  show -> aoew\n"
          ],
          "name": "stdout"
        },
        {
          "output_type": "display_data",
          "data": {
            "image/png": "[encoded data removed]",
            "text/plain": [
              "<Figure size 432x288 with 1 Axes>"
            ]
          },
          "metadata": {
            "tags": []
          }
        },
        {
          "output_type": "stream",
          "text": [
            "  life -> tike\n",
            "  Batch: 20 Loss: 1.8659537454446156\n",
            "Test loss: 1.788573\n",
            "Training epoch 14...\n",
            "Discr loss: 0.855660\n",
            "  Batch: 30 Loss: 1.9925377329190574\n",
            "Discr loss: 0.537631\n",
            "  Batch: 60 Loss: 1.850117795997196\n",
            "Discr loss: 0.782161\n",
            "  Batch: 90 Loss: 1.7109954370392695\n",
            "Discr loss: 0.404662\n",
            "  Batch: 120 Loss: 1.793056217829386\n",
            "Discr loss: 0.450332\n",
            "  Batch: 150 Loss: 1.7659254630406698\n",
            "Apply descr...\n",
            "Discr loss: 0.354428\n",
            "  Batch: 180 Loss: 1.8455396281348335\n",
            "Discr loss: 0.654408\n",
            "  Batch: 210 Loss: 1.7461007899708219\n",
            "Discr loss: 0.357439\n",
            "  Batch: 240 Loss: 1.838545987341139\n",
            "Apply descr...\n",
            "Discr loss: 0.381941\n",
            "  Batch: 270 Loss: 1.7943918466567992\n",
            "Apply descr...\n",
            "  Batch: 300 Loss: 1.911614127953847\n",
            "Discr loss: 0.423023\n",
            "  Batch: 330 Loss: 1.7426217158635458\n",
            "Apply descr...\n",
            "Discr loss: 0.665002\n",
            "  Batch: 360 Loss: 1.7802961415714689\n",
            "Train loss: 1.807879\n",
            "Testing...\n"
          ],
          "name": "stdout"
        },
        {
          "output_type": "display_data",
          "data": {
            "image/png": "[encoded data removed]",
            "text/plain": [
              "<Figure size 432x288 with 1 Axes>"
            ]
          },
          "metadata": {
            "tags": []
          }
        },
        {
          "output_type": "stream",
          "text": [
            "  He -> ae\n"
          ],
          "name": "stdout"
        },
        {
          "output_type": "display_data",
          "data": {
            "image/png": "[encoded data removed]",
            "text/plain": [
              "<Figure size 432x288 with 1 Axes>"
            ]
          },
          "metadata": {
            "tags": []
          }
        },
        {
          "output_type": "stream",
          "text": [
            "  be -> te\n"
          ],
          "name": "stdout"
        },
        {
          "output_type": "display_data",
          "data": {
            "image/png": "[encoded data removed]",
            "text/plain": [
              "<Figure size 432x288 with 1 Axes>"
            ]
          },
          "metadata": {
            "tags": []
          }
        },
        {
          "output_type": "stream",
          "text": [
            "  to -> th\n",
            "  Batch: 20 Loss: 1.883674645423889\n",
            "Test loss: 1.761937\n",
            "Training epoch 15...\n",
            "Discr loss: 0.362759\n",
            "  Batch: 30 Loss: 1.8283645841810439\n",
            "Discr loss: 0.745832\n",
            "  Batch: 60 Loss: 1.7917157755957709\n",
            "Apply descr...\n",
            "Discr loss: 0.704203\n",
            "  Batch: 90 Loss: 1.8291594637764823\n",
            "Discr loss: 0.630240\n",
            "  Batch: 120 Loss: 1.7885543584823609\n",
            "Discr loss: 0.554544\n",
            "  Batch: 150 Loss: 1.9939753095308939\n",
            "Discr loss: 0.834231\n",
            "  Batch: 180 Loss: 1.771349260542128\n",
            "Discr loss: 0.375062\n",
            "  Batch: 210 Loss: 1.7672387520472208\n",
            "Apply descr...\n",
            "Apply descr...\n",
            "Discr loss: 0.358869\n",
            "  Batch: 240 Loss: 1.8861849890814886\n",
            "Discr loss: 0.493518\n",
            "  Batch: 270 Loss: 1.8778088357713487\n",
            "Discr loss: 0.381331\n",
            "  Batch: 300 Loss: 1.786535980966356\n",
            "  Batch: 330 Loss: 1.7695309612486099\n",
            "Discr loss: 0.765729\n",
            "  Batch: 360 Loss: 1.8182820253902012\n",
            "Train loss: 1.810242\n",
            "Testing...\n"
          ],
          "name": "stdout"
        },
        {
          "output_type": "display_data",
          "data": {
            "image/png": "[encoded data removed]",
            "text/plain": [
              "<Figure size 432x288 with 1 Axes>"
            ]
          },
          "metadata": {
            "tags": []
          }
        },
        {
          "output_type": "stream",
          "text": [
            "  that -> thet\n"
          ],
          "name": "stdout"
        },
        {
          "output_type": "display_data",
          "data": {
            "image/png": "[encoded data removed]",
            "text/plain": [
              "<Figure size 432x288 with 1 Axes>"
            ]
          },
          "metadata": {
            "tags": []
          }
        },
        {
          "output_type": "stream",
          "text": [
            "  good -> totd\n"
          ],
          "name": "stdout"
        },
        {
          "output_type": "display_data",
          "data": {
            "image/png": "[encoded data removed]",
            "text/plain": [
              "<Figure size 432x288 with 1 Axes>"
            ]
          },
          "metadata": {
            "tags": []
          }
        },
        {
          "output_type": "stream",
          "text": [
            "  ever -> taer\n",
            "  Batch: 20 Loss: 1.8635647694269817\n",
            "Test loss: 1.773872\n",
            "Training epoch 16...\n",
            "Discr loss: 0.647433\n",
            "  Batch: 30 Loss: 1.9353101637628343\n",
            "Discr loss: 0.408103\n",
            "  Batch: 60 Loss: 1.864998687638177\n",
            "Discr loss: 0.356210\n",
            "  Batch: 90 Loss: 1.742729409535726\n",
            "Apply descr...\n",
            "Discr loss: 0.349090\n",
            "  Batch: 120 Loss: 1.7853996872901914\n",
            "Apply descr...\n",
            "Discr loss: 0.538236\n",
            "  Batch: 150 Loss: 1.7529447939660814\n",
            "Discr loss: 0.445399\n",
            "  Batch: 180 Loss: 1.6924620151519776\n",
            "Discr loss: 0.496269\n",
            "  Batch: 210 Loss: 1.8113208704524568\n",
            "Discr loss: 0.747918\n",
            "  Batch: 240 Loss: 1.8228681683540344\n"
          ],
          "name": "stdout"
        },
        {
          "output_type": "error",
          "ename": "KeyboardInterrupt",
          "evalue": "ignored",
          "traceback": [
            "\u001b[0;31m---------------------------------------------------------------------------\u001b[0m",
            "\u001b[0;31mKeyboardInterrupt\u001b[0m                         Traceback (most recent call last)",
            "\u001b[0;32m<ipython-input-28-fc3c5c1939c8>\u001b[0m in \u001b[0;36m<module>\u001b[0;34m()\u001b[0m\n\u001b[1;32m     97\u001b[0m \u001b[0;32mfor\u001b[0m \u001b[0mi\u001b[0m \u001b[0;32min\u001b[0m \u001b[0mrange\u001b[0m\u001b[0;34m(\u001b[0m\u001b[0;36m0\u001b[0m\u001b[0;34m,\u001b[0m \u001b[0;36m100\u001b[0m\u001b[0;34m)\u001b[0m\u001b[0;34m:\u001b[0m\u001b[0;34m\u001b[0m\u001b[0;34m\u001b[0m\u001b[0m\n\u001b[1;32m     98\u001b[0m   \u001b[0mmax_size\u001b[0m \u001b[0;34m=\u001b[0m \u001b[0;36m5\u001b[0m\u001b[0;34m\u001b[0m\u001b[0;34m\u001b[0m\u001b[0m\n\u001b[0;32m---> 99\u001b[0;31m   \u001b[0mtrain\u001b[0m\u001b[0;34m(\u001b[0m\u001b[0mi\u001b[0m\u001b[0;34m,\u001b[0m \u001b[0mmax_size\u001b[0m\u001b[0;34m)\u001b[0m\u001b[0;34m\u001b[0m\u001b[0;34m\u001b[0m\u001b[0m\n\u001b[0m\u001b[1;32m    100\u001b[0m   \u001b[0mtest\u001b[0m\u001b[0;34m(\u001b[0m\u001b[0mmax_size\u001b[0m\u001b[0;34m)\u001b[0m\u001b[0;34m\u001b[0m\u001b[0;34m\u001b[0m\u001b[0m\n",
            "\u001b[0;32m<ipython-input-28-fc3c5c1939c8>\u001b[0m in \u001b[0;36mtrain\u001b[0;34m(epoch, max_size)\u001b[0m\n\u001b[1;32m     47\u001b[0m       \u001b[0mdiscriminator_optimizer\u001b[0m\u001b[0;34m.\u001b[0m\u001b[0mzero_grad\u001b[0m\u001b[0;34m(\u001b[0m\u001b[0;34m)\u001b[0m\u001b[0;34m\u001b[0m\u001b[0;34m\u001b[0m\u001b[0m\n\u001b[1;32m     48\u001b[0m       \u001b[0m_\u001b[0m\u001b[0;34m,\u001b[0m \u001b[0m_\u001b[0m\u001b[0;34m,\u001b[0m \u001b[0mtf_loss\u001b[0m \u001b[0;34m=\u001b[0m \u001b[0mapply_discriminator\u001b[0m\u001b[0;34m(\u001b[0m\u001b[0ms\u001b[0m\u001b[0;34m,\u001b[0m \u001b[0mtarget\u001b[0m\u001b[0;34m,\u001b[0m \u001b[0;32mTrue\u001b[0m\u001b[0;34m,\u001b[0m \u001b[0;32mTrue\u001b[0m\u001b[0;34m,\u001b[0m \u001b[0mbatch_ones\u001b[0m\u001b[0;34m)\u001b[0m\u001b[0;34m\u001b[0m\u001b[0;34m\u001b[0m\u001b[0m\n\u001b[0;32m---> 49\u001b[0;31m       \u001b[0m_\u001b[0m\u001b[0;34m,\u001b[0m \u001b[0m_\u001b[0m\u001b[0;34m,\u001b[0m \u001b[0mfr_loss\u001b[0m \u001b[0;34m=\u001b[0m \u001b[0mapply_discriminator\u001b[0m\u001b[0;34m(\u001b[0m\u001b[0ms\u001b[0m\u001b[0;34m,\u001b[0m \u001b[0mtarget\u001b[0m\u001b[0;34m,\u001b[0m \u001b[0;32mFalse\u001b[0m\u001b[0;34m,\u001b[0m \u001b[0;32mTrue\u001b[0m\u001b[0;34m,\u001b[0m \u001b[0mbatch_zeros\u001b[0m\u001b[0;34m)\u001b[0m\u001b[0;34m\u001b[0m\u001b[0;34m\u001b[0m\u001b[0m\n\u001b[0m\u001b[1;32m     50\u001b[0m       \u001b[0mdl\u001b[0m \u001b[0;34m=\u001b[0m \u001b[0mtf_loss\u001b[0m \u001b[0;34m+\u001b[0m \u001b[0mfr_loss\u001b[0m\u001b[0;34m\u001b[0m\u001b[0;34m\u001b[0m\u001b[0m\n\u001b[1;32m     51\u001b[0m       \u001b[0mdiscr_loss\u001b[0m \u001b[0;34m=\u001b[0m \u001b[0mdl\u001b[0m\u001b[0;34m.\u001b[0m\u001b[0mitem\u001b[0m\u001b[0;34m(\u001b[0m\u001b[0;34m)\u001b[0m\u001b[0;34m\u001b[0m\u001b[0;34m\u001b[0m\u001b[0m\n",
            "\u001b[0;32m<ipython-input-19-bcf8b5279837>\u001b[0m in \u001b[0;36mapply_discriminator\u001b[0;34m(s, target, use_teacher_forcing, train_mode, discriminator_target)\u001b[0m\n\u001b[1;32m      3\u001b[0m   \u001b[0mSTART\u001b[0m \u001b[0;34m=\u001b[0m \u001b[0mtrain_set\u001b[0m\u001b[0;34m.\u001b[0m\u001b[0mstart_code\u001b[0m\u001b[0;34m\u001b[0m\u001b[0;34m\u001b[0m\u001b[0m\n\u001b[1;32m      4\u001b[0m   \u001b[0mSTOP\u001b[0m \u001b[0;34m=\u001b[0m \u001b[0mtrain_set\u001b[0m\u001b[0;34m.\u001b[0m\u001b[0mstop_code\u001b[0m\u001b[0;34m\u001b[0m\u001b[0;34m\u001b[0m\u001b[0m\n\u001b[0;32m----> 5\u001b[0;31m   \u001b[0mrecognition_result\u001b[0m \u001b[0;34m=\u001b[0m \u001b[0mtorch\u001b[0m\u001b[0;34m.\u001b[0m\u001b[0mLongTensor\u001b[0m\u001b[0;34m(\u001b[0m\u001b[0mbatch_size\u001b[0m\u001b[0;34m,\u001b[0m \u001b[0;36m30\u001b[0m\u001b[0;34m+\u001b[0m\u001b[0;36m1\u001b[0m\u001b[0;34m)\u001b[0m\u001b[0;34m.\u001b[0m\u001b[0mto\u001b[0m\u001b[0;34m(\u001b[0m\u001b[0mdevice\u001b[0m\u001b[0;34m)\u001b[0m\u001b[0;34m\u001b[0m\u001b[0;34m\u001b[0m\u001b[0m\n\u001b[0m\u001b[1;32m      6\u001b[0m   \u001b[0mold_symbol\u001b[0m \u001b[0;34m=\u001b[0m \u001b[0mtorch\u001b[0m\u001b[0;34m.\u001b[0m\u001b[0mLongTensor\u001b[0m\u001b[0;34m(\u001b[0m\u001b[0mbatch_size\u001b[0m\u001b[0;34m,\u001b[0m \u001b[0;36m1\u001b[0m\u001b[0;34m)\u001b[0m\u001b[0;34m.\u001b[0m\u001b[0mto\u001b[0m\u001b[0;34m(\u001b[0m\u001b[0mdevice\u001b[0m\u001b[0;34m)\u001b[0m\u001b[0;34m\u001b[0m\u001b[0;34m\u001b[0m\u001b[0m\n\u001b[1;32m      7\u001b[0m   \u001b[0mstop_symbol\u001b[0m \u001b[0;34m=\u001b[0m \u001b[0mtorch\u001b[0m\u001b[0;34m.\u001b[0m\u001b[0mLongTensor\u001b[0m\u001b[0;34m(\u001b[0m\u001b[0mbatch_size\u001b[0m\u001b[0;34m,\u001b[0m \u001b[0;36m1\u001b[0m\u001b[0;34m)\u001b[0m\u001b[0;34m.\u001b[0m\u001b[0mto\u001b[0m\u001b[0;34m(\u001b[0m\u001b[0mdevice\u001b[0m\u001b[0;34m)\u001b[0m\u001b[0;34m\u001b[0m\u001b[0;34m\u001b[0m\u001b[0m\n",
            "\u001b[0;31mKeyboardInterrupt\u001b[0m: "
          ]
        }
      ]
    }
  ]
}