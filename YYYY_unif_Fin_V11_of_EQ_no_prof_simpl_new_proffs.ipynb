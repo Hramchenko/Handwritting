{
  "nbformat": 4,
  "nbformat_minor": 0,
  "metadata": {
    "colab": {
      "name": "YYYY unif Fin V11 of EQ_no_prof simpl new_proffs.ipynb",
      "version": "0.3.2",
      "provenance": [],
      "collapsed_sections": [],
      "include_colab_link": true
    },
    "kernelspec": {
      "name": "python3",
      "display_name": "Python 3"
    },
    "accelerator": "GPU"
  },
  "cells": [
    {
      "cell_type": "markdown",
      "metadata": {
        "id": "view-in-github",
        "colab_type": "text"
      },
      "source": [
        "<a href=\"https://colab.research.google.com/github/Hramchenko/Handwritting/blob/master/YYYY_unif_Fin_V11_of_EQ_no_prof_simpl_new_proffs.ipynb\" target=\"_parent\"><img src=\"https://colab.research.google.com/assets/colab-badge.svg\" alt=\"Open In Colab\"/></a>"
      ]
    },
    {
      "metadata": {
        "id": "uL5QRz_WMkMF",
        "colab_type": "code",
        "outputId": "156cbb2f-9fd5-4321-dffb-1da442c0087a",
        "colab": {
          "base_uri": "https://localhost:8080/",
          "height": 50
        }
      },
      "cell_type": "code",
      "source": [
        "import torch\n",
        "print(\"Device \" + torch.cuda.get_device_name(0))\n",
        "device = torch.device(\"cuda:0\")\n",
        "#device = torch.device(\"cpu\")\n",
        "print(device)"
      ],
      "execution_count": 1,
      "outputs": [
        {
          "output_type": "stream",
          "text": [
            "Device Tesla K80\n",
            "cuda:0\n"
          ],
          "name": "stdout"
        }
      ]
    },
    {
      "metadata": {
        "id": "j5M_rV-VMqso",
        "colab_type": "code",
        "colab": {}
      },
      "cell_type": "code",
      "source": [
        "batch_size = 100\n",
        "\n",
        "image_width = 1000\n",
        "image_height = 200"
      ],
      "execution_count": 0,
      "outputs": []
    },
    {
      "metadata": {
        "id": "sqHNfBMaLYmd",
        "colab_type": "code",
        "colab": {}
      },
      "cell_type": "code",
      "source": [
        "import os\n",
        "import cv2\n",
        "from xml.dom import minidom\n",
        "import matplotlib.pyplot as plt\n",
        "from math import floor\n",
        "from random import random\n",
        "import scipy as sp\n",
        "import torch\n",
        "import torch.nn as nn\n",
        "import torch.nn.functional as F\n",
        "        "
      ],
      "execution_count": 0,
      "outputs": []
    },
    {
      "metadata": {
        "id": "kVeBVZEgMtb2",
        "colab_type": "code",
        "outputId": "a92c18b9-6073-46ac-fb73-e51e49e52c90",
        "colab": {
          "base_uri": "https://localhost:8080/",
          "height": 84
        }
      },
      "cell_type": "code",
      "source": [
        "import sys\n",
        "sys.path.append(\"./Handwritting/\")\n",
        "from IAMWords import IAMWords\n",
        "\n",
        "\n",
        "pad_length=-1\n",
        "train_set = IAMWords(\"train\", \"./IAM/\", batch_size=batch_size, line_height=image_height, line_width=image_width, scale=1, pad_length=pad_length, rand_x=20)\n",
        "test_set = IAMWords(\"test\", \"./IAM/\", batch_size=batch_size, line_height=image_height, line_width=image_width, scale=1, pad_length=pad_length, rand_x=20)"
      ],
      "execution_count": 4,
      "outputs": [
        {
          "output_type": "stream",
          "text": [
            "Reading ./IAM/words.train.pkl...\n",
            "Reading finished\n",
            "Reading ./IAM/words.test.pkl...\n",
            "Reading finished\n"
          ],
          "name": "stdout"
        }
      ]
    },
    {
      "metadata": {
        "id": "o02Hteq6m08O",
        "colab_type": "code",
        "colab": {}
      },
      "cell_type": "code",
      "source": [
        ""
      ],
      "execution_count": 0,
      "outputs": []
    },
    {
      "metadata": {
        "id": "aPROjYtaLvLS",
        "colab_type": "code",
        "outputId": "6bce9e4b-64cb-4972-b00f-937a34757803",
        "colab": {
          "base_uri": "https://localhost:8080/",
          "height": 217
        }
      },
      "cell_type": "code",
      "source": [
        "from ArtificialHandwritting import ArtificialHandwritting\n",
        "artificial_data = ArtificialHandwritting(batch_size, \"./MyLetters/\", 1.0, image_width, image_height, train_set.encode_word)\n",
        "data, target = artificial_data.make_random_batch(3, 400)"
      ],
      "execution_count": 5,
      "outputs": [
        {
          "output_type": "stream",
          "text": [
            "./MyLetters/a01-107u.xml\n",
            "./MyLetters/a01-107u.png\n",
            "./MyLetters/a01-107.xml\n",
            "./MyLetters/a01-107.png\n",
            "./MyLetters/a01-053u.xml\n",
            "./MyLetters/a01-053u.png\n",
            "./MyLetters/my.xml\n",
            "./MyLetters/my.jpg\n",
            "./MyLetters/a01-026u.xml\n",
            "./MyLetters/a01-026u.png\n",
            "./MyLetters/a01-128.xml\n",
            "./MyLetters/a01-128.png\n"
          ],
          "name": "stdout"
        }
      ]
    },
    {
      "metadata": {
        "id": "yx2SxZgGT0Z-",
        "colab_type": "code",
        "outputId": "24fdf302-5bdd-4bfa-cdb0-a374697c5233",
        "colab": {
          "base_uri": "https://localhost:8080/",
          "height": 33
        }
      },
      "cell_type": "code",
      "source": [
        "artificial_data.data[\"my.jpg\"].keys()"
      ],
      "execution_count": 6,
      "outputs": [
        {
          "output_type": "execute_result",
          "data": {
            "text/plain": [
              "dict_keys(['a', 'b', 'c', 'd', 'e', 'f', 'g', 'h', 'i', 'k', 'l', 'm', 'n', 'o', 'p', 'q', 'r', 's', 'u', 't', 'v', 'w', 'x', 'y', 'z', 'j'])"
            ]
          },
          "metadata": {
            "tags": []
          },
          "execution_count": 6
        }
      ]
    },
    {
      "metadata": {
        "id": "wceUSjfAWM1v",
        "colab_type": "code",
        "outputId": "f4ec235d-5803-47c6-a4a9-bd07478108b1",
        "colab": {
          "base_uri": "https://localhost:8080/",
          "height": 135
        }
      },
      "cell_type": "code",
      "source": [
        "plt.imshow(data[0], cmap=\"gray\")\n",
        "plt.show()\n",
        "data.shape"
      ],
      "execution_count": 7,
      "outputs": [
        {
          "output_type": "display_data",
          "data": {
            "image/png": "[encoded data removed]",
            "text/plain": [
              "<Figure size 432x288 with 1 Axes>"
            ]
          },
          "metadata": {
            "tags": []
          }
        },
        {
          "output_type": "execute_result",
          "data": {
            "text/plain": [
              "torch.Size([100, 200, 1000])"
            ]
          },
          "metadata": {
            "tags": []
          },
          "execution_count": 7
        }
      ]
    },
    {
      "metadata": {
        "id": "K2fWx6tuK-4m",
        "colab_type": "code",
        "colab": {}
      },
      "cell_type": "code",
      "source": [
        "import torch\n",
        "import torch.nn as nn\n",
        "import torch.nn.functional as F\n",
        "import torch.optim as optim\n",
        "from IPython.core.debugger import set_trace\n",
        "%matplotlib inline\n",
        "import matplotlib.pyplot as plt"
      ],
      "execution_count": 0,
      "outputs": []
    },
    {
      "metadata": {
        "id": "MLbMUUmZ1zMv",
        "colab_type": "code",
        "colab": {}
      },
      "cell_type": "code",
      "source": [
        "#!cat ./Handwritting/HTRDecoder.py\n"
      ],
      "execution_count": 0,
      "outputs": []
    },
    {
      "metadata": {
        "id": "FOlJkOzNgngX",
        "colab_type": "code",
        "colab": {}
      },
      "cell_type": "code",
      "source": [
        "from Layers import *\n",
        "#from HTREncoder import *\n",
        "#from HTRDecoder import *\n",
        "from HTRDiscriminator import *"
      ],
      "execution_count": 0,
      "outputs": []
    },
    {
      "metadata": {
        "id": "tNCy7E6BNI1t",
        "colab_type": "code",
        "colab": {}
      },
      "cell_type": "code",
      "source": [
        "batch = train_set.make_batch(use_binarization=False)\n",
        "data, target = batch\n",
        "target = target.to(device)\n",
        "data = data/255.0\n",
        "data = data.unsqueeze(1).to(device)"
      ],
      "execution_count": 0,
      "outputs": []
    },
    {
      "metadata": {
        "id": "ihilbywpul9A",
        "colab_type": "code",
        "colab": {}
      },
      "cell_type": "code",
      "source": [
        "\n"
      ],
      "execution_count": 0,
      "outputs": []
    },
    {
      "metadata": {
        "id": "S6ngFcBZDbMm",
        "colab_type": "code",
        "colab": {}
      },
      "cell_type": "code",
      "source": [
        "class HTREncoder(nn.Module):\n",
        "    def __init__(self, batchnorm=True, dropout=False):\n",
        "        super(HTREncoder, self).__init__()\n",
        "        \n",
        "        self.convolutions = nn.Sequential(\n",
        "        ConvLayer([1, 4, 3], padding=0, stride=2, bn=batchnorm, pool_layer=None),\n",
        "        ConvLayer([4, 16, 3], padding=0, stride=2, bn=batchnorm, pool_layer=None),\n",
        "        ConvLayer([16, 32, 3], padding=0, stride=2, bn=batchnorm, pool_layer=None),\n",
        "        ConvLayer([32, 64, 3], padding=0, stride=1, bn=batchnorm, pool_layer=None))\n",
        "#        ConvLayer([64, 64, (3, 1)], padding=0, stride=(3, 1), bn=batchnorm, pool_layer=None),\n",
        "#        ConvLayer([64, 64, (3, 1)], padding=0, stride=(3, 1), bn=batchnorm, pool_layer=None))\n",
        "        #self.fc = FullyConnectedX([64*15*49, 64*49*3, 64*49], activation_fn=nn.ReLU())\n",
        "    \n",
        "    def forward(self, x):\n",
        "        h = self.convolutions(x)\n",
        "        h = F.max_pool2d(h, [h.size(0), 1], padding=[0, 0])\n",
        "        h = h.squeeze(2)\n",
        "        #h = h.flatten(start_dim=1)\n",
        "        #h = self.fc(h)\n",
        "        #h = F.max_pool2d(h, [1, h.size(1)], padding=[0, 0])\n",
        "        #h = h.permute([2, 3, 0, 1])[0]\n",
        "        #h = h.permute([2, 3, 0, 1])\n",
        "        return h"
      ],
      "execution_count": 0,
      "outputs": []
    },
    {
      "metadata": {
        "id": "68VQiNESFKjm",
        "colab_type": "code",
        "colab": {}
      },
      "cell_type": "code",
      "source": [
        "encoder = HTREncoder().to(device)"
      ],
      "execution_count": 0,
      "outputs": []
    },
    {
      "metadata": {
        "id": "J76ZEYaDFn8V",
        "colab_type": "code",
        "colab": {}
      },
      "cell_type": "code",
      "source": [
        "def restore_cnn(file_name):\n",
        "  state = torch.load(file_name)\n",
        "  encoder.load_state_dict(state[\"encoder\"])\n",
        "restore_cnn(\"/gdrive/My Drive/cnn.tar\")"
      ],
      "execution_count": 0,
      "outputs": []
    },
    {
      "metadata": {
        "id": "3fvJufA-1d9O",
        "colab_type": "code",
        "outputId": "0553fc79-6798-4fac-8157-dffa803ba34d",
        "colab": {
          "base_uri": "https://localhost:8080/",
          "height": 33
        }
      },
      "cell_type": "code",
      "source": [
        "c = encoder(data)\n",
        "c.shape"
      ],
      "execution_count": 14,
      "outputs": [
        {
          "output_type": "execute_result",
          "data": {
            "text/plain": [
              "torch.Size([100, 64, 122])"
            ]
          },
          "metadata": {
            "tags": []
          },
          "execution_count": 14
        }
      ]
    },
    {
      "metadata": {
        "id": "fIiy-eFLvC5-",
        "colab_type": "code",
        "colab": {}
      },
      "cell_type": "code",
      "source": [
        "class HTRDecoderResult:\n",
        "  \n",
        "  def __init__(self):\n",
        "    None\n",
        "\n",
        "class HTRDecoder(nn.Module):\n",
        "    def __init__(self, batch_size, ntoken, encoded_width=122, encoded_height=64, batchnorm=False, dropout=True, rnn_type=\"LSTM\"):\n",
        "        super(HTRDecoder, self).__init__()\n",
        "        self.batch_size = batch_size\n",
        "        self.ntoken = ntoken\n",
        "        self.encoded_width = encoded_width\n",
        "        self.encoded_height = encoded_height\n",
        "        self.lstm_size = 256\n",
        "        self.lstm_layers = 2\n",
        "        self.rnn_type = rnn_type\n",
        "        self.emb_size = 128\n",
        "        features_size = self.encoded_height*encoded_width + self.emb_size\n",
        "        from math import floor\n",
        "        lstm_inp_size = features_size\n",
        "        \n",
        "        if rnn_type == \"LSTM\":\n",
        "            self.rnn = nn.LSTM(lstm_inp_size, self.lstm_size, self.lstm_layers, dropout=0.3, bidirectional=False)\n",
        "        else:\n",
        "            self.rnn = nn.GRU(lstm_inp_size, self.lstm_size, self.lstm_layers, dropout=0.3, bidirectional=False)\n",
        "        self.embedding = nn.Embedding(ntoken, self.emb_size)\n",
        "        self.inpBN = nn.BatchNorm1d(lstm_inp_size)\n",
        "        self.decoder = nn.Linear(1*self.lstm_size*1, ntoken)#*batch_size)\n",
        "        self.drop = nn.Dropout(0.3)\n",
        "        self.attention_inp_size = self.lstm_size*2 + self.encoded_height*encoded_width\n",
        "        self.attention1 = FullyConnectedX([self.attention_inp_size, floor(self.attention_inp_size*0.7)], activation_fn=nn.LeakyReLU(0.2), last_fn=nn.LeakyReLU(0.2))\n",
        "        self.attention2 = FullyConnectedX([floor(self.attention_inp_size*0.7), floor(self.attention_inp_size*0.3),  self.encoded_width], activation_fn=nn.LeakyReLU(0.2), last_fn=nn.Tanh())\n",
        "        self.attBN1 = nn.BatchNorm1d(self.attention_inp_size)\n",
        "        self.attBN2 = nn.BatchNorm1d(floor(self.attention_inp_size*0.7))\n",
        "        self.attention_weights = None\n",
        "    \n",
        "    def forward(self, x, prev, hidden=None):\n",
        "        #x = self.drop(x).squeeze()\n",
        "        x = x.squeeze()\n",
        "        #print(\"xxxxxxxxxxxx\")\n",
        "        #print(x.shape)\n",
        "        if hidden is not None:\n",
        "            hidden_m = hidden.permute(1, 0, 2)\n",
        "            hidden_m = hidden_m.flatten(start_dim=1)\n",
        "            #print(x.shape)\n",
        "            #print(hidden_m.shape)\n",
        "            x_m = x.flatten(start_dim=1)\n",
        "            attention_inp = torch.cat([x_m, hidden_m], dim=1).detach()\n",
        "            #print(attention_inp.shape)\n",
        "            #print(x.shape)\n",
        "            attention_inp = self.attBN1(attention_inp)\n",
        "            self.attention_weights = self.attention1(attention_inp)\n",
        "            self.attention_weights = self.attBN2(self.attention_weights)\n",
        "            self.attention_weights = self.attention2(self.attention_weights)\n",
        "            self.attention_weights = F.softmax(self.attention_weights, dim=1).unsqueeze(1)\n",
        "            #print(\"iiiif\")\n",
        "            #print(self.attention_weights.shape)\n",
        "            \n",
        "            self.attention_weights = self.attention_weights.repeat([1, self.encoded_height, 1])\n",
        "            #print(\"fffff\")\n",
        "            #print(x.shape)\n",
        "            #print(self.attention_weights.shape)\n",
        "            x = x * self.attention_weights\n",
        "        emb = self.embedding(prev).squeeze().detach()\n",
        "        x = torch.cat([x.flatten(start_dim=1), emb], dim=1)\n",
        "        #print(x.shape)\n",
        "        x = self.inpBN(x)\n",
        "        x = x.unsqueeze(0)\n",
        "        result = HTRDecoderResult()\n",
        "        result.rnn_input = x\n",
        "        result.input_hidden = hidden\n",
        "        x, hidden = self.rnn(x, hidden)\n",
        "        x = x.squeeze(dim=0)\n",
        "        #x = self.drop(x)\n",
        "        x = self.decoder(x)\n",
        "        x = F.log_softmax(x, dim=1)\n",
        "        result.x = x\n",
        "        result.hidden = hidden\n",
        "        return result\n",
        "      \n",
        "    def makeHidden(self):\n",
        "        if self.rnn_type == \"LSTM\":\n",
        "            h1 = torch.zeros(self.lstm_layers, self.batch_size, self.lstm_size)\n",
        "            h2 = torch.zeros(self.lstm_layers, self.batch_size, self.lstm_size)\n",
        "            return (h1, h2)\n",
        "        else:\n",
        "            h1 = torch.zeros(self.lstm_layers, self.batch_size, self.lstm_size)\n",
        "            return h1\n",
        "\n",
        "\n",
        "decoder = HTRDecoder(batch_size, len(train_set.codes), rnn_type=\"GRU\").to(device)"
      ],
      "execution_count": 0,
      "outputs": []
    },
    {
      "metadata": {
        "id": "ziLheucQKlpE",
        "colab_type": "code",
        "colab": {}
      },
      "cell_type": "code",
      "source": [
        "START = train_set.codes['<START>']\n",
        "current_symbol = torch.LongTensor(batch_size, 1).to(device)\n",
        "current_symbol[:, :] = START"
      ],
      "execution_count": 0,
      "outputs": []
    },
    {
      "metadata": {
        "id": "MHbnIOOP03r-",
        "colab_type": "code",
        "colab": {}
      },
      "cell_type": "code",
      "source": [
        "def test(max_size, prob, randx):\n",
        "  print(\"Testing...\")\n",
        "  \n",
        "  freq = 20\n",
        "  \n",
        "  test_set.to_start(max_size, equalize_freq=True)\n",
        "  batch_idx = 0\n",
        "  c_loss = 0\n",
        "  START = train_set.start_code\n",
        "  STOP = train_set.stop_code\n",
        "  recognition_result = torch.LongTensor(batch_size, 30+1).to(device)\n",
        "  recognition_result.fill_(START)\n",
        "  old_symbol = torch.LongTensor(batch_size, 1).to(device)\n",
        "  \n",
        "  stop_symbol = torch.LongTensor(batch_size, 1).to(device)\n",
        "  stop_symbol.fill_(STOP)\n",
        "  \n",
        "  test_loss = 0\n",
        "  \n",
        "  with torch.no_grad():  \n",
        "    while True:\n",
        "\n",
        "      if random() <= prob:\n",
        "        if (prob >= 1) and (batch_idx > 100):\n",
        "          break\n",
        "        l = 1 + floor(max_size*random())\n",
        "        data, target = artificial_data.make_random_batch(l, randx)\n",
        "        orig_data = data;\n",
        "        data = data.unsqueeze(1).to(device)\n",
        "        target = target.to(device)  \n",
        "      else:  \n",
        "        batch = test_set.make_batch()\n",
        "        if batch is None:\n",
        "          break\n",
        "        orig_data, target = batch\n",
        "        data = orig_data/255.0\n",
        "        #data = data.view(batch_size, 1, image_width, image_height).to(device)\n",
        "        data = data.unsqueeze(1).to(device)\n",
        "        target = target.to(device)\n",
        "      hidden = decoder.makeHidden().to(device)    \n",
        "      loss = 0\n",
        "      enc = encoder(data)\n",
        "      s = enc\n",
        "      s = s.detach()\n",
        "\n",
        "      old_symbol[:, 0] = START\n",
        "      for i in range(0, target.shape[1] + 1):\n",
        "        decoder_result = decoder(s, old_symbol, hidden)\n",
        "        dec = decoder_result.x\n",
        "        hidden = decoder_result.hidden\n",
        "\n",
        "        recognition_result[:, i] = dec.topk(1, dim=1)[1].flatten().detach()\n",
        "        old_symbol[:, 0] = recognition_result[:, i]#target[:, i]\n",
        "        k = 1\n",
        "        if i == target.shape[1]:\n",
        "          target_symbol = stop_symbol[:, 0]\n",
        "          k = 1.5\n",
        "        else:\n",
        "          target_symbol = target[:, i]  \n",
        "        loss += k*criterion(dec, target_symbol)\n",
        "      c_loss += loss.item()/(target.shape[1] + 1)\n",
        "      test_loss += loss.item()/(target.shape[1] + 1)\n",
        "      if (batch_idx % freq == 0) and (batch_idx != 0):\n",
        "        if True:#not use_teacher_forcing:\n",
        "          print(target.shape[0])\n",
        "          for k in range(0, min(3, target.shape[0])):\n",
        "              decoded = recognition_result[k,0:target.shape[1] + 1]\n",
        "              plt.imshow(orig_data[k].cpu(), cmap=\"gray\")\n",
        "              plt.show()\n",
        "              print(\"  '\" + train_set.decode_word(target[k,:]) + \"' -> '\" + train_set.decode_word(decoded) + \"'\")\n",
        "        c_loss /= freq \n",
        "        print(\"  Batch: \" + str(batch_idx) + \" Loss: \" + str(c_loss))\n",
        "        c_loss = 0\n",
        "      batch_idx += 1  \n",
        "  print(\"Test loss: %f\" % (test_loss/batch_idx))   "
      ],
      "execution_count": 0,
      "outputs": []
    },
    {
      "metadata": {
        "id": "1dvEYjtLYlcN",
        "colab_type": "code",
        "colab": {}
      },
      "cell_type": "code",
      "source": [
        "import torch\n",
        "import torch.nn as nn\n",
        "import torch.nn.functional as F\n",
        "from Layers import *\n",
        "\n",
        "# Based on: https://github.com/aryopg/Professor_Forcing_Pytorch/blob/master/models/losses.py\n",
        "class HTRDiscriminator(nn.Module):\n",
        "    def __init__(self, batch_size, input_size, hidden_size, input_length, symbs_cnt):\n",
        "        super(HTRDiscriminator, self).__init__()\n",
        "        self.batch_size = batch_size\n",
        "        self.embedding = nn.Embedding(symbs_cnt, 128)\n",
        "        \n",
        "        from math import floor\n",
        "        #self.hidden_cells = 256\n",
        "        #self.hidden_layers = 2\n",
        "        \n",
        "        self.hidden_size = hidden_size\n",
        "        self.input_length = input_length\n",
        "        self.rnn_layers = 1#2\n",
        "        \n",
        "        input_size = 8576\n",
        "        gru_input_size = 512\n",
        "        self.bn1 = nn.BatchNorm1d(input_size)\n",
        "        self.enc = FullyConnectedX([input_size, floor(input_size*0.7), gru_input_size], activation_fn=nn.ReLU())\n",
        "        self.bn2 = nn.BatchNorm1d(gru_input_size)\n",
        "        self.batchnorm = nn.BatchNorm1d(gru_input_size)\n",
        "        self.gru = nn.GRU(gru_input_size, hidden_size, self.rnn_layers)\n",
        "        gru_out = hidden_size\n",
        "        self.fc = FullyConnectedX([gru_out, floor(gru_out*0.7), floor(gru_out*0.3), 1], activation_fn=nn.ReLU())\n",
        "        self.optimizer = optim.Adam(self.parameters(), lr=1e-4, weight_decay=0.00005)\n",
        "        \n",
        "    def zero_grad(self):\n",
        "        self.optimizer.zero_grad()\n",
        "\n",
        "    def apply(self, hidden, hidden_states, dec_inputs, dec_outputs, targets):\n",
        "        emb_outputs = self.embedding(dec_outputs)#.permute(1, 0, 2)\n",
        "        hidden_states = hidden_states.permute(1, 0, 2).flatten(start_dim=1)\n",
        "        dec_inputs = dec_inputs.squeeze(0)\n",
        "#         print(emb_outputs.shape)\n",
        "#         print(hidden_states.shape)\n",
        "#         print(dec_inputs.shape)\n",
        "        full_input = torch.cat([hidden_states, dec_inputs, emb_outputs], dim=1)\n",
        "        #print(full_input.shape)\n",
        "        output = self.enc(full_input)\n",
        "        output = self.bn2(output)\n",
        "        output = output.unsqueeze(0)\n",
        "        output, hidden = self.gru(output, hidden)\n",
        "        output= output.squeeze(0)\n",
        "        out = self.fc(output)\n",
        "#         print(out.shape)\n",
        "#         print(targets.shape)\n",
        "        loss = F.binary_cross_entropy_with_logits(out, targets)\n",
        "        return loss, hidden\n",
        "\n",
        "    def makeHidden(self):\n",
        "        return torch.zeros(self.rnn_layers, self.batch_size, self.hidden_size)\n",
        "      \n",
        "discriminator = HTRDiscriminator(batch_size, 256*2, 512, 10, len(train_set.codes)).to(device)       \n",
        "discriminator_optimizer = optim.Adam(discriminator.parameters(), lr=1e-4, weight_decay=0.00005)"
      ],
      "execution_count": 0,
      "outputs": []
    },
    {
      "metadata": {
        "id": "Zel5bfutWKKa",
        "colab_type": "code",
        "colab": {}
      },
      "cell_type": "code",
      "source": [
        "def apply_discriminator(s, target, use_teacher_forcing, train_mode, discriminator_target):\n",
        "  loss = 0\n",
        "  START = train_set.start_code\n",
        "  STOP = train_set.stop_code\n",
        "  recognition_result = torch.LongTensor(batch_size, 30+1).to(device)\n",
        "  old_symbol = torch.LongTensor(batch_size, 1).to(device)\n",
        "  stop_symbol = torch.LongTensor(batch_size, 1).to(device)\n",
        "  stop_symbol.fill_(STOP)\n",
        "  old_symbol[:, 0] = START\n",
        "\n",
        "  train_mask = torch.ByteTensor(batch_size).to(device)\n",
        "  train_mask[:] = 1\n",
        "\n",
        "  hidden = decoder.makeHidden().to(device)    \n",
        "  discriminator_loss = 0\n",
        "  discriminator_hidden = discriminator.makeHidden().to(device)\n",
        "\n",
        "  discr_features = []\n",
        "  for i in range(0, target.shape[1] + 1):\n",
        "\n",
        "    decoder_result = decoder(s, old_symbol, hidden)\n",
        "    dec = decoder_result.x\n",
        "    hidden = decoder_result.hidden\n",
        "\n",
        "    decoder_outputs = dec.topk(1, dim=1)[1].flatten()\n",
        "\n",
        "    \n",
        "    if train_mode:\n",
        "      dl, discriminator_hidden = discriminator.apply(discriminator_hidden.detach(), decoder_result.input_hidden.detach(),decoder_result.rnn_input.detach(), decoder_outputs.detach(), discriminator_target)\n",
        "    else:\n",
        "      dl, discriminator_hidden = discriminator.apply(discriminator_hidden, decoder_result.input_hidden, decoder_result.rnn_input, decoder_outputs, discriminator_target)\n",
        "    if i != 0:\n",
        "      discriminator_loss += dl\n",
        "\n",
        "    recognition_result[:, i] = decoder_outputs.detach()\n",
        "    k = 1\n",
        "    if i == target.shape[1]:\n",
        "      target_symbol = stop_symbol[:, 0]\n",
        "      k = 1.5\n",
        "    else:\n",
        "      target_symbol = target[:, i]    \n",
        "    \n",
        "    if use_teacher_forcing:\n",
        "      old_symbol[:, 0] = target_symbol\n",
        "    else:\n",
        "      old_symbol[:, 0] = recognition_result[:, i]\n",
        "    loss += criterion(dec, target_symbol)*k\n",
        " \n",
        "  #discriminator_decision = discriminator.makeDecision(discr_features)\n",
        "  #print(\"---------\")\n",
        "  #print(discriminator_decision[0:10])\n",
        "  #print(discriminator_target[0:10])\n",
        "  #discriminator_loss = F.binary_cross_entropy_with_logits(discriminator_decision, discriminator_target)\n",
        "\n",
        "  discriminator_loss /= target.shape[1]\n",
        "  return (recognition_result, loss, discriminator_loss)"
      ],
      "execution_count": 0,
      "outputs": []
    },
    {
      "metadata": {
        "id": "Yrtvy2ikWNwI",
        "colab_type": "code",
        "colab": {}
      },
      "cell_type": "code",
      "source": [
        "def apply_decoder(s, target, use_teacher_forcing):\n",
        "  loss = 0\n",
        "  START = train_set.start_code\n",
        "  STOP = train_set.stop_code\n",
        "  recognition_result = torch.LongTensor(batch_size, 30+1).to(device)\n",
        "  recognition_result.fill_(START)\n",
        "  old_symbol = torch.LongTensor(batch_size, 1).to(device)\n",
        "  stop_symbol = torch.LongTensor(batch_size, 1).to(device)\n",
        "  stop_symbol.fill_(STOP)\n",
        "  old_symbol[:, 0] = START\n",
        "\n",
        "  hidden = decoder.makeHidden().to(device)  \n",
        "  \n",
        "  for i in range(0, target.shape[1] + 1):\n",
        "    decoder_result = decoder(s, old_symbol, hidden)\n",
        "    dec = decoder_result.x\n",
        "    hidden = decoder_result.hidden\n",
        "\n",
        "    recognition_result[:, i] = dec.topk(1, dim=1)[1].flatten().detach()\n",
        "    \n",
        "    k = 1\n",
        "    if i == target.shape[1]:\n",
        "      target_symbol = stop_symbol[:, 0]\n",
        "      k = 1.5\n",
        "    else:\n",
        "      target_symbol = target[:, i]\n",
        "    \n",
        "    if use_teacher_forcing:\n",
        "      old_symbol[:, 0] = target_symbol\n",
        "    else:\n",
        "      old_symbol[:, 0] = recognition_result[:, i]\n",
        "    #import pdb; pdb.set_trace()\n",
        "\n",
        "    loss += k*criterion(dec, target_symbol)\n",
        "  return (recognition_result, loss)\n",
        "\n",
        "\n",
        "batch_zeros = torch.zeros(batch_size, 1).to(device)\n",
        "batch_ones = torch.ones(batch_size, 1).to(device)"
      ],
      "execution_count": 0,
      "outputs": []
    },
    {
      "metadata": {
        "id": "H3qedXrYsYuH",
        "colab_type": "code",
        "colab": {}
      },
      "cell_type": "code",
      "source": [
        "#encoder_optimizer = optim.Adam(encoder.parameters(), lr=1e-4, weight_decay=0.00005)\n",
        "decoder_optimizer = optim.Adam(decoder.parameters(), lr=1e-4, weight_decay=0.00005)\n"
      ],
      "execution_count": 0,
      "outputs": []
    },
    {
      "metadata": {
        "id": "0FRBPN0BopnI",
        "colab_type": "code",
        "colab": {}
      },
      "cell_type": "code",
      "source": [
        "encoder_optimizer = optim.Adam(encoder.parameters(), lr=1e-4, weight_decay=0.00005)"
      ],
      "execution_count": 0,
      "outputs": []
    },
    {
      "metadata": {
        "id": "1DxYdkXeTnNB",
        "colab_type": "code",
        "colab": {}
      },
      "cell_type": "code",
      "source": [
        "\n",
        "criterion = nn.NLLLoss()\n",
        "#criterion = nn.CrossEntropyLoss()\n",
        "from random import random\n",
        "\n",
        "def train(epoch, max_size, apply_professor, prob, randx):\n",
        "  print(\"Training epoch \" + str(epoch) + \"...\")\n",
        "  freq = 30\n",
        "  train_set.to_start(max_size, equalize_freq=True)\n",
        "  batch_idx = 0\n",
        "  c_loss = 0\n",
        "  train_loss = 0\n",
        "  discr_applied = 0\n",
        "  while True:\n",
        "    if random() <= prob:\n",
        "      if (prob >= 1) and (batch_idx > 400):\n",
        "        break    \n",
        "      l = 1 + floor(max_size*random())\n",
        "      data, target = artificial_data.make_random_batch(l, randx)\n",
        "      data = data.unsqueeze(1).to(device)\n",
        "      target = target.to(device)\n",
        "    else:\n",
        "      batch = train_set.make_batch()\n",
        "      if batch is None:\n",
        "        break\n",
        "      orig_data, target = batch\n",
        "      data = orig_data/255.0\n",
        "      data = data.unsqueeze(1).to(device)\n",
        "      target = target.to(device)\n",
        "    #encoder_optimizer.zero_grad()\n",
        "    decoder_optimizer.zero_grad()\n",
        "#     with torch.no_grad():\n",
        "#       enc = encoder(data)\n",
        "#       s = enc\n",
        "#       s = s.unsqueeze(0)\n",
        "#       s = s.detach()\n",
        "    enc = encoder(data)\n",
        "    s = enc\n",
        "    s = s.unsqueeze(0)\n",
        "      \n",
        "    discr_loss = 1\n",
        "    if apply_professor:\n",
        "      discriminator_optimizer.zero_grad()\n",
        "      det_s = s.detach()\n",
        "      _, _, tf_loss = apply_discriminator(det_s, target, True, True, batch_ones)\n",
        "      _, _, fr_loss = apply_discriminator(det_s, target, False, True, batch_zeros)\n",
        "      dl = tf_loss + fr_loss\n",
        "      discr_loss = dl.item()\n",
        "      if (batch_idx % freq == 0) and (batch_idx != 0):\n",
        "        print(\"Discr loss: %f\" %(dl.item()))\n",
        "      dl.backward()\n",
        "      discriminator_optimizer.step()\n",
        "    D_loss_curr = None\n",
        "    batch_loss = None  \n",
        "    encoder_optimizer.zero_grad()\n",
        "    decoder_optimizer.zero_grad()\n",
        "    discriminator_optimizer.zero_grad()\n",
        "    if apply_professor and (discr_loss < 0.2) and (discr_loss > 0.01):\n",
        "      discriminator_optimizer.zero_grad()\n",
        "      recognition_result, loss, discriminator_loss = apply_discriminator(s, target, True, False, batch_zeros)\n",
        "      batch_loss = loss.item()\n",
        "      loss = loss + discriminator_loss\n",
        "      D_loss_curr = discriminator_loss.item()\n",
        "      discr_applied += 1\n",
        "    else:\n",
        "      recognition_result, loss = apply_decoder(s, target, True)\n",
        "      batch_loss = loss.item()\n",
        "    c_loss += batch_loss/(target.shape[1] + 1)\n",
        "    train_loss += batch_loss/(target.shape[1] + 1)\n",
        "    if (batch_idx % freq == 0) and (batch_idx != 0):\n",
        "      c_loss /= freq \n",
        "      print(\"  Batch: \" + str(batch_idx) + \" Loss: \" + str(c_loss))\n",
        "      c_loss = 0\n",
        "    loss.backward()\n",
        "    \n",
        "    if False:#D_loss_curr is not None:\n",
        "      _, _, D_loss_new = apply_discriminator(s, target, True, False, batch_zeros)\n",
        "      print(\"old/new: %f / %f Batch %f\" %(D_loss_curr, D_loss_new, batch_loss))\n",
        "    #grad_clip = 0.1\n",
        "    #torch.nn.utils.clip_grad_norm_(encoder.parameters(), grad_clip)\n",
        "    #torch.nn.utils.clip_grad_norm_(decoder.parameters(), grad_clip)\n",
        "    encoder_optimizer.step()\n",
        "    decoder_optimizer.step()\n",
        "    batch_idx += 1\n",
        "  print(\"Train loss: %f\"%(train_loss/batch_idx))\n",
        "  print(\"Discr applied %d times.\"%discr_applied)\n",
        "\n"
      ],
      "execution_count": 0,
      "outputs": []
    },
    {
      "metadata": {
        "id": "1xrGl2QIsP13",
        "colab_type": "code",
        "colab": {}
      },
      "cell_type": "code",
      "source": [
        "file_name = \"/gdrive/My Drive/unif v9.tar\""
      ],
      "execution_count": 0,
      "outputs": []
    },
    {
      "metadata": {
        "id": "Y3iWRuawx-Dx",
        "colab_type": "code",
        "colab": {}
      },
      "cell_type": "code",
      "source": [
        "# state = torch.load(file_name)\n",
        "# encoder.load_state_dict(state[\"encoder\"])\n",
        "# encoder_optimizer.load_state_dict(state[\"encoder_optimizer\"])\n",
        "# decoder.load_state_dict(state[\"decoder\"])\n",
        "# decoder_optimizer.load_state_dict(state[\"decoder_optimizer\"])\n",
        "# discriminator.load_state_dict(state[\"discriminator\"])\n",
        "# discriminator_optimizer.load_state_dict(state[\"discriminator_optimizer\"])"
      ],
      "execution_count": 0,
      "outputs": []
    },
    {
      "metadata": {
        "id": "DXhjWBMH1Qn5",
        "colab_type": "code",
        "colab": {}
      },
      "cell_type": "code",
      "source": [
        " def save_decoder(file_name):\n",
        "  state_dict = {\n",
        "        \"decoder\": decoder.state_dict(),\n",
        "        \"decoder_optimizer\": decoder_optimizer.state_dict(),\n",
        "      }\n",
        "\n",
        "  torch.save(state_dict, file_name)\n",
        "  print(\"Network saved: %s\" %file_name)"
      ],
      "execution_count": 0,
      "outputs": []
    },
    {
      "metadata": {
        "id": "ZuAfFEiqscEq",
        "colab_type": "code",
        "colab": {}
      },
      "cell_type": "code",
      "source": [
        "# for i in range(0, 100):\n",
        "#   max_size =3\n",
        "#   prob = 1\n",
        "#   randx = 750\n",
        "#   train(i, max_size, False, prob, randx)\n",
        "#   test(max_size, prob, randx)"
      ],
      "execution_count": 0,
      "outputs": []
    },
    {
      "metadata": {
        "id": "53h7cwR_1XKi",
        "colab_type": "code",
        "colab": {}
      },
      "cell_type": "code",
      "source": [
        "decoder_file = \"/gdrive/My Drive/decoder3.tar\"\n",
        "#save_decoder(decoder_file)"
      ],
      "execution_count": 0,
      "outputs": []
    },
    {
      "metadata": {
        "id": "vfKYy8Yx16vY",
        "colab_type": "code",
        "colab": {}
      },
      "cell_type": "code",
      "source": [
        "def restore_decoder(file_name):\n",
        "  state = torch.load(file_name)\n",
        "  decoder.load_state_dict(state[\"decoder\"])\n",
        "  decoder_optimizer.load_state_dict(state[\"decoder_optimizer\"])\n"
      ],
      "execution_count": 0,
      "outputs": []
    },
    {
      "metadata": {
        "id": "ZPGsJCdy2EYC",
        "colab_type": "code",
        "colab": {}
      },
      "cell_type": "code",
      "source": [
        "restore_decoder(decoder_file)"
      ],
      "execution_count": 0,
      "outputs": []
    },
    {
      "metadata": {
        "id": "3B7qKlFu7AJs",
        "colab_type": "code",
        "colab": {}
      },
      "cell_type": "code",
      "source": [
        "#save_net(\"/gdrive/My Drive/net3s.tar\")"
      ],
      "execution_count": 0,
      "outputs": []
    },
    {
      "metadata": {
        "id": "LWbBc5zjPOP2",
        "colab_type": "code",
        "colab": {}
      },
      "cell_type": "code",
      "source": [
        "decoder8_file = \"/gdrive/My Drive/decoder8.tar\""
      ],
      "execution_count": 0,
      "outputs": []
    },
    {
      "metadata": {
        "id": "Sk_esyonPRbv",
        "colab_type": "code",
        "colab": {}
      },
      "cell_type": "code",
      "source": [
        "restore_decoder(decoder8_file)"
      ],
      "execution_count": 0,
      "outputs": []
    },
    {
      "metadata": {
        "id": "HKYsd38JFrfg",
        "colab_type": "code",
        "colab": {}
      },
      "cell_type": "code",
      "source": [
        "# for i in range(0, 15):\n",
        "#   max_size = 8\n",
        "#   prob = 1\n",
        "#   randx=20\n",
        "#   train(i, max_size, False, prob, randx)\n",
        "#   test(max_size, prob, randx)\n"
      ],
      "execution_count": 0,
      "outputs": []
    },
    {
      "metadata": {
        "id": "0vbVBzTBPU43",
        "colab_type": "code",
        "colab": {}
      },
      "cell_type": "code",
      "source": [
        "#save_decoder(decoder8_file)"
      ],
      "execution_count": 0,
      "outputs": []
    },
    {
      "metadata": {
        "id": "mNq7MA2NYw5Z",
        "colab_type": "code",
        "colab": {}
      },
      "cell_type": "code",
      "source": [
        " def save_net(file_name):\n",
        "  state_dict = {\n",
        "        \"encoder\": encoder.state_dict(),\n",
        "        \"encoder_optimizer\": encoder_optimizer.state_dict(),\n",
        "        \"decoder\": decoder.state_dict(),\n",
        "        \"decoder_optimizer\": decoder_optimizer.state_dict(),\n",
        "        \"discriminator\": discriminator.state_dict(),\n",
        "        \"discriminator_optimizer\": discriminator_optimizer.state_dict(),\n",
        "      }\n",
        "\n",
        "  torch.save(state_dict, file_name)\n",
        "  print(\"Network saved: %s\" %file_name)"
      ],
      "execution_count": 0,
      "outputs": []
    },
    {
      "metadata": {
        "id": "aqrlGEqJRyu9",
        "colab_type": "code",
        "colab": {}
      },
      "cell_type": "code",
      "source": [
        " def save_decoder_and_discriminator(file_name):\n",
        "  state_dict = {\n",
        "        \"decoder\": decoder.state_dict(),\n",
        "        \"decoder_optimizer\": decoder_optimizer.state_dict(),\n",
        "        \"discriminator\": discriminator.state_dict(),\n",
        "        \"discriminator_optimizer\": discriminator_optimizer.state_dict(),\n",
        "      }\n",
        "\n",
        "  torch.save(state_dict, file_name)\n",
        "  print(\"Network saved: %s\" %file_name)"
      ],
      "execution_count": 0,
      "outputs": []
    },
    {
      "metadata": {
        "id": "kJmzc4u_SOQM",
        "colab_type": "code",
        "colab": {}
      },
      "cell_type": "code",
      "source": [
        "def restore_decoder_and_discriminator(file_name):\n",
        "  state = torch.load(file_name)\n",
        "  decoder.load_state_dict(state[\"decoder\"])\n",
        "  decoder_optimizer.load_state_dict(state[\"decoder_optimizer\"])\n",
        "  discriminator.load_state_dict(state[\"discriminator\"])\n",
        "  discriminator_optimizer.load_state_dict(state[\"discriminator_optimizer\"])"
      ],
      "execution_count": 0,
      "outputs": []
    },
    {
      "metadata": {
        "id": "_mK33KlrRIXX",
        "colab_type": "code",
        "colab": {}
      },
      "cell_type": "code",
      "source": [
        "\n",
        "decoder_discr_8_file = \"/gdrive/My Drive/decoder_discr_8.tar\"\n",
        "decoder_discr_8_2_file = \"/gdrive/My Drive/decoder_discr_8_2.tar\"\n",
        "decoder_discr_8_cnn_file = \"/gdrive/My Drive/decoder_discr_8_cnn.tar\""
      ],
      "execution_count": 0,
      "outputs": []
    },
    {
      "metadata": {
        "id": "rJVaIbzKCFOl",
        "colab_type": "code",
        "colab": {}
      },
      "cell_type": "code",
      "source": [
        "decoder_discr_8_iam_file = \"/gdrive/My Drive/decoder_discr_8_iam.tar\"\n",
        "#save_decoder_and_discriminator(decoder_discr_8_iam_file)"
      ],
      "execution_count": 0,
      "outputs": []
    },
    {
      "metadata": {
        "id": "wYNs4DawRhxI",
        "colab_type": "code",
        "outputId": "9a94197c-3d35-42ac-d883-dea7d88a8848",
        "colab": {
          "base_uri": "https://localhost:8080/",
          "height": 33
        }
      },
      "cell_type": "code",
      "source": [
        "#save_decoder_and_discriminator(decoder_discr_8_2_file)"
      ],
      "execution_count": 46,
      "outputs": [
        {
          "output_type": "stream",
          "text": [
            "Network saved: /gdrive/My Drive/decoder_discr_8_2.tar\n"
          ],
          "name": "stdout"
        }
      ]
    },
    {
      "metadata": {
        "id": "naJV1uX12_lY",
        "colab_type": "code",
        "colab": {
          "base_uri": "https://localhost:8080/",
          "height": 33
        },
        "outputId": "6b760bb3-40a1-4e5e-a0dc-d213345828de"
      },
      "cell_type": "code",
      "source": [
        "#save_net(decoder_discr_8_cnn_file)"
      ],
      "execution_count": 58,
      "outputs": [
        {
          "output_type": "stream",
          "text": [
            "Network saved: /gdrive/My Drive/decoder_discr_8_cnn.tar\n"
          ],
          "name": "stdout"
        }
      ]
    },
    {
      "metadata": {
        "id": "P5OSjPR9SUfd",
        "colab_type": "code",
        "colab": {}
      },
      "cell_type": "code",
      "source": [
        "#restore_decoder_and_discriminator(decoder_discr_8_file)"
      ],
      "execution_count": 0,
      "outputs": []
    },
    {
      "metadata": {
        "id": "mNmL6Us6C2Cv",
        "colab_type": "code",
        "colab": {}
      },
      "cell_type": "code",
      "source": [
        "#restore_decoder_and_discriminator(decoder_discr_8_2_file)"
      ],
      "execution_count": 0,
      "outputs": []
    },
    {
      "metadata": {
        "id": "OyYX74SuFQp7",
        "colab_type": "code",
        "colab": {}
      },
      "cell_type": "code",
      "source": [
        "# for i in range(0, 15):\n",
        "#   max_size = 8\n",
        "#   prob = 1\n",
        "#   randx=20\n",
        "#   train(i, max_size, True, prob, randx)\n",
        "#   test(max_size, prob, randx)\n",
        "#   if i % 3 == 0:\n",
        "#     save_decoder_and_discriminator(decoder_discr_8_file)"
      ],
      "execution_count": 0,
      "outputs": []
    },
    {
      "metadata": {
        "id": "oUWSxDPjhP0o",
        "colab_type": "code",
        "outputId": "cbbeae72-4855-4193-f67f-5e1394d323e0",
        "colab": {
          "base_uri": "https://localhost:8080/",
          "height": 13230
        }
      },
      "cell_type": "code",
      "source": [
        "for i in range(0, 100):\n",
        "  max_size = 8\n",
        "  prob = 0.3\n",
        "  randx=20\n",
        "  train(i, max_size, False, prob, randx)\n",
        "  test(max_size, prob, randx)\n"
      ],
      "execution_count": 56,
      "outputs": [
        {
          "output_type": "stream",
          "text": [
            "Training epoch 0...\n",
            "  Batch: 30 Loss: 0.11308292631301338\n",
            "  Batch: 60 Loss: 0.1456494415821458\n",
            "  Batch: 90 Loss: 0.13520723028197174\n",
            "  Batch: 120 Loss: 0.12391917838187759\n",
            "  Batch: 150 Loss: 0.10174922463380628\n",
            "  Batch: 180 Loss: 0.12699730873403567\n",
            "  Batch: 210 Loss: 0.1346040039833773\n",
            "  Batch: 240 Loss: 0.17557460127388513\n",
            "  Batch: 270 Loss: 0.1101417351534797\n",
            "  Batch: 300 Loss: 0.13340225814531248\n",
            "  Batch: 330 Loss: 0.12660980779559367\n",
            "  Batch: 360 Loss: 0.12731436508685529\n",
            "  Batch: 390 Loss: 0.14682724012682835\n",
            "  Batch: 420 Loss: 0.1628571682995944\n",
            "  Batch: 450 Loss: 0.12201613678232269\n",
            "  Batch: 480 Loss: 0.11010344826453736\n",
            "  Batch: 510 Loss: 0.10614703055027697\n",
            "  Batch: 540 Loss: 0.09299321320252837\n",
            "  Batch: 570 Loss: 0.1307628214069539\n",
            "  Batch: 600 Loss: 0.13183576486965337\n",
            "  Batch: 630 Loss: 0.07725654889814673\n",
            "Train loss: 0.125445\n",
            "Discr applied 0 times.\n",
            "Testing...\n",
            "100\n"
          ],
          "name": "stdout"
        },
        {
          "output_type": "display_data",
          "data": {
            "image/png": "[encoded data removed]",
            "text/plain": [
              "<Figure size 432x288 with 1 Axes>"
            ]
          },
          "metadata": {
            "tags": []
          }
        },
        {
          "output_type": "stream",
          "text": [
            "  'than' -> 'than<STOP>'\n"
          ],
          "name": "stdout"
        },
        {
          "output_type": "display_data",
          "data": {
            "image/png": "[encoded data removed]",
            "text/plain": [
              "<Figure size 432x288 with 1 Axes>"
            ]
          },
          "metadata": {
            "tags": []
          }
        },
        {
          "output_type": "stream",
          "text": [
            "  'hear' -> 'hear<STOP>'\n"
          ],
          "name": "stdout"
        },
        {
          "output_type": "display_data",
          "data": {
            "image/png": "[encoded data removed]",
            "text/plain": [
              "<Figure size 432x288 with 1 Axes>"
            ]
          },
          "metadata": {
            "tags": []
          }
        },
        {
          "output_type": "stream",
          "text": [
            "  'this' -> 'this<STOP>'\n",
            "  Batch: 20 Loss: 0.6380052206215876\n",
            "100\n"
          ],
          "name": "stdout"
        },
        {
          "output_type": "display_data",
          "data": {
            "image/png": "[encoded data removed]",
            "text/plain": [
              "<Figure size 432x288 with 1 Axes>"
            ]
          },
          "metadata": {
            "tags": []
          }
        },
        {
          "output_type": "stream",
          "text": [
            "  'on' -> 'on<STOP>'\n"
          ],
          "name": "stdout"
        },
        {
          "output_type": "display_data",
          "data": {
            "image/png": "[encoded data removed]",
            "text/plain": [
              "<Figure size 432x288 with 1 Axes>"
            ]
          },
          "metadata": {
            "tags": []
          }
        },
        {
          "output_type": "stream",
          "text": [
            "  'of' -> 'of<STOP>'\n"
          ],
          "name": "stdout"
        },
        {
          "output_type": "display_data",
          "data": {
            "image/png": "[encoded data removed]",
            "text/plain": [
              "<Figure size 432x288 with 1 Axes>"
            ]
          },
          "metadata": {
            "tags": []
          }
        },
        {
          "output_type": "stream",
          "text": [
            "  'of' -> 'of<STOP>'\n",
            "  Batch: 40 Loss: 0.32681866885088984\n",
            "100\n"
          ],
          "name": "stdout"
        },
        {
          "output_type": "display_data",
          "data": {
            "image/png": "[encoded data removed]",
            "text/plain": [
              "<Figure size 432x288 with 1 Axes>"
            ]
          },
          "metadata": {
            "tags": []
          }
        },
        {
          "output_type": "stream",
          "text": [
            "  'with' -> 'with<STOP>'\n"
          ],
          "name": "stdout"
        },
        {
          "output_type": "display_data",
          "data": {
            "image/png": "[encoded data removed]",
            "text/plain": [
              "<Figure size 432x288 with 1 Axes>"
            ]
          },
          "metadata": {
            "tags": []
          }
        },
        {
          "output_type": "stream",
          "text": [
            "  'from' -> 'from<STOP>'\n"
          ],
          "name": "stdout"
        },
        {
          "output_type": "display_data",
          "data": {
            "image/png": "[encoded data removed]",
            "text/plain": [
              "<Figure size 432x288 with 1 Axes>"
            ]
          },
          "metadata": {
            "tags": []
          }
        },
        {
          "output_type": "stream",
          "text": [
            "  'that' -> 'that<STOP>'\n",
            "  Batch: 60 Loss: 0.7388722111408909\n",
            "Test loss: 0.533964\n",
            "Training epoch 1...\n",
            "  Batch: 30 Loss: 0.15694124407893806\n",
            "  Batch: 60 Loss: 0.13005155492711948\n",
            "  Batch: 90 Loss: 0.10929271475648478\n",
            "  Batch: 120 Loss: 0.1175468294817225\n",
            "  Batch: 150 Loss: 0.16290128225096007\n",
            "  Batch: 180 Loss: 0.12473575118204785\n",
            "  Batch: 210 Loss: 0.14897011120877568\n",
            "  Batch: 240 Loss: 0.1401351518128757\n",
            "  Batch: 270 Loss: 0.11642382633561892\n",
            "  Batch: 300 Loss: 0.15766692563240964\n",
            "  Batch: 330 Loss: 0.1437529964523301\n",
            "  Batch: 360 Loss: 0.1103997255906108\n",
            "  Batch: 390 Loss: 0.07347288077490195\n",
            "  Batch: 420 Loss: 0.14881050613147045\n",
            "  Batch: 450 Loss: 0.11399210913481299\n",
            "  Batch: 480 Loss: 0.1472819806499377\n",
            "  Batch: 510 Loss: 0.101770910286793\n",
            "  Batch: 540 Loss: 0.14119267917134695\n",
            "  Batch: 570 Loss: 0.14027468739791954\n",
            "  Batch: 600 Loss: 0.14394483141453254\n",
            "  Batch: 630 Loss: 0.0945437547157484\n",
            "Train loss: 0.128859\n",
            "Discr applied 0 times.\n",
            "Testing...\n",
            "100\n"
          ],
          "name": "stdout"
        },
        {
          "output_type": "display_data",
          "data": {
            "image/png": "[encoded data removed]",
            "text/plain": [
              "<Figure size 432x288 with 1 Axes>"
            ]
          },
          "metadata": {
            "tags": []
          }
        },
        {
          "output_type": "stream",
          "text": [
            "  'the' -> 'the<STOP>'\n"
          ],
          "name": "stdout"
        },
        {
          "output_type": "display_data",
          "data": {
            "image/png": "[encoded data removed]",
            "text/plain": [
              "<Figure size 432x288 with 1 Axes>"
            ]
          },
          "metadata": {
            "tags": []
          }
        },
        {
          "output_type": "stream",
          "text": [
            "  'his' -> 'his<STOP>'\n"
          ],
          "name": "stdout"
        },
        {
          "output_type": "display_data",
          "data": {
            "image/png": "[encoded data removed]",
            "text/plain": [
              "<Figure size 432x288 with 1 Axes>"
            ]
          },
          "metadata": {
            "tags": []
          }
        },
        {
          "output_type": "stream",
          "text": [
            "  'not' -> 'not<STOP>'\n",
            "  Batch: 20 Loss: 0.6386472622987385\n",
            "100\n"
          ],
          "name": "stdout"
        },
        {
          "output_type": "display_data",
          "data": {
            "image/png": "[encoded data removed]",
            "text/plain": [
              "<Figure size 432x288 with 1 Axes>"
            ]
          },
          "metadata": {
            "tags": []
          }
        },
        {
          "output_type": "stream",
          "text": [
            "  'ed' -> 'ed<STOP>'\n"
          ],
          "name": "stdout"
        },
        {
          "output_type": "display_data",
          "data": {
            "image/png": "[encoded data removed]",
            "text/plain": [
              "<Figure size 432x288 with 1 Axes>"
            ]
          },
          "metadata": {
            "tags": []
          }
        },
        {
          "output_type": "stream",
          "text": [
            "  'on' -> 'on<STOP>'\n"
          ],
          "name": "stdout"
        },
        {
          "output_type": "display_data",
          "data": {
            "image/png": "[encoded data removed]",
            "text/plain": [
              "<Figure size 432x288 with 1 Axes>"
            ]
          },
          "metadata": {
            "tags": []
          }
        },
        {
          "output_type": "stream",
          "text": [
            "  'nc' -> 'nc<STOP>'\n",
            "  Batch: 40 Loss: 0.6667714655630674\n",
            "100\n"
          ],
          "name": "stdout"
        },
        {
          "output_type": "display_data",
          "data": {
            "image/png": "[encoded data removed]",
            "text/plain": [
              "<Figure size 432x288 with 1 Axes>"
            ]
          },
          "metadata": {
            "tags": []
          }
        },
        {
          "output_type": "stream",
          "text": [
            "  'was' -> 'was<STOP>'\n"
          ],
          "name": "stdout"
        },
        {
          "output_type": "display_data",
          "data": {
            "image/png": "[encoded data removed]",
            "text/plain": [
              "<Figure size 432x288 with 1 Axes>"
            ]
          },
          "metadata": {
            "tags": []
          }
        },
        {
          "output_type": "stream",
          "text": [
            "  'and' -> 'and<STOP>'\n"
          ],
          "name": "stdout"
        },
        {
          "output_type": "display_data",
          "data": {
            "image/png": "[encoded data removed]",
            "text/plain": [
              "<Figure size 432x288 with 1 Axes>"
            ]
          },
          "metadata": {
            "tags": []
          }
        },
        {
          "output_type": "stream",
          "text": [
            "  'the' -> 'the<STOP>'\n",
            "  Batch: 60 Loss: 0.39852582387714863\n",
            "Test loss: 0.536536\n",
            "Training epoch 2...\n",
            "  Batch: 30 Loss: 0.13891711921081262\n",
            "  Batch: 60 Loss: 0.13525791973939966\n",
            "  Batch: 90 Loss: 0.1401876506060559\n",
            "  Batch: 120 Loss: 0.1458562409578177\n",
            "  Batch: 150 Loss: 0.13054175618691027\n",
            "  Batch: 180 Loss: 0.13262476782615065\n",
            "  Batch: 210 Loss: 0.12109521076339422\n",
            "  Batch: 240 Loss: 0.10822814899748043\n",
            "  Batch: 270 Loss: 0.13658681252133592\n",
            "  Batch: 300 Loss: 0.15284083032620846\n",
            "  Batch: 330 Loss: 0.08113873224705456\n",
            "  Batch: 360 Loss: 0.11862374411378468\n",
            "  Batch: 390 Loss: 0.12060119379558182\n",
            "  Batch: 420 Loss: 0.11206160182244189\n",
            "  Batch: 450 Loss: 0.12270676123668199\n",
            "  Batch: 480 Loss: 0.08087976289270003\n",
            "  Batch: 510 Loss: 0.12450490746923065\n",
            "  Batch: 540 Loss: 0.1417621486004265\n",
            "  Batch: 570 Loss: 0.095425314923364\n",
            "  Batch: 600 Loss: 0.10268967215045695\n",
            "  Batch: 630 Loss: 0.09879773580543105\n",
            "Train loss: 0.119648\n",
            "Discr applied 0 times.\n",
            "Testing...\n",
            "100\n"
          ],
          "name": "stdout"
        },
        {
          "output_type": "display_data",
          "data": {
            "image/png": "[encoded data removed]",
            "text/plain": [
              "<Figure size 432x288 with 1 Axes>"
            ]
          },
          "metadata": {
            "tags": []
          }
        },
        {
          "output_type": "stream",
          "text": [
            "  'gq' -> 'gq<STOP>'\n"
          ],
          "name": "stdout"
        },
        {
          "output_type": "display_data",
          "data": {
            "image/png": "[encoded data removed]",
            "text/plain": [
              "<Figure size 432x288 with 1 Axes>"
            ]
          },
          "metadata": {
            "tags": []
          }
        },
        {
          "output_type": "stream",
          "text": [
            "  'oc' -> 'oc<STOP>'\n"
          ],
          "name": "stdout"
        },
        {
          "output_type": "display_data",
          "data": {
            "image/png": "[encoded data removed]",
            "text/plain": [
              "<Figure size 432x288 with 1 Axes>"
            ]
          },
          "metadata": {
            "tags": []
          }
        },
        {
          "output_type": "stream",
          "text": [
            "  'yr' -> 'yr<STOP>'\n",
            "  Batch: 20 Loss: 0.5492616936963584\n",
            "100\n"
          ],
          "name": "stdout"
        },
        {
          "output_type": "display_data",
          "data": {
            "image/png": "[encoded data removed]",
            "text/plain": [
              "<Figure size 432x288 with 1 Axes>"
            ]
          },
          "metadata": {
            "tags": []
          }
        },
        {
          "output_type": "stream",
          "text": [
            "  'or' -> 'or<STOP>'\n"
          ],
          "name": "stdout"
        },
        {
          "output_type": "display_data",
          "data": {
            "image/png": "[encoded data removed]",
            "text/plain": [
              "<Figure size 432x288 with 1 Axes>"
            ]
          },
          "metadata": {
            "tags": []
          }
        },
        {
          "output_type": "stream",
          "text": [
            "  'he' -> 'he<STOP>'\n"
          ],
          "name": "stdout"
        },
        {
          "output_type": "display_data",
          "data": {
            "image/png": "[encoded data removed]",
            "text/plain": [
              "<Figure size 432x288 with 1 Axes>"
            ]
          },
          "metadata": {
            "tags": []
          }
        },
        {
          "output_type": "stream",
          "text": [
            "  'is' -> 'is<STOP>'\n",
            "  Batch: 40 Loss: 0.7161140132343602\n",
            "100\n"
          ],
          "name": "stdout"
        },
        {
          "output_type": "display_data",
          "data": {
            "image/png": "[encoded data removed]",
            "text/plain": [
              "<Figure size 432x288 with 1 Axes>"
            ]
          },
          "metadata": {
            "tags": []
          }
        },
        {
          "output_type": "stream",
          "text": [
            "  'ep' -> 'ep<STOP>'\n"
          ],
          "name": "stdout"
        },
        {
          "output_type": "display_data",
          "data": {
            "image/png": "[encoded data removed]",
            "text/plain": [
              "<Figure size 432x288 with 1 Axes>"
            ]
          },
          "metadata": {
            "tags": []
          }
        },
        {
          "output_type": "stream",
          "text": [
            "  'mn' -> 'mn<STOP>'\n"
          ],
          "name": "stdout"
        },
        {
          "output_type": "display_data",
          "data": {
            "image/png": "[encoded data removed]",
            "text/plain": [
              "<Figure size 432x288 with 1 Axes>"
            ]
          },
          "metadata": {
            "tags": []
          }
        },
        {
          "output_type": "stream",
          "text": [
            "  'mr' -> 'mr<STOP>'\n",
            "  Batch: 60 Loss: 0.5151760890722896\n",
            "Test loss: 0.584908\n",
            "Training epoch 3...\n",
            "  Batch: 30 Loss: 0.13286823248618812\n",
            "  Batch: 60 Loss: 0.10529619789711893\n",
            "  Batch: 90 Loss: 0.14421012199106845\n",
            "  Batch: 120 Loss: 0.13919132755566685\n",
            "  Batch: 150 Loss: 0.12661593236699306\n",
            "  Batch: 180 Loss: 0.10445561183192743\n",
            "  Batch: 210 Loss: 0.13646434227152476\n",
            "  Batch: 240 Loss: 0.12237032829788783\n",
            "  Batch: 270 Loss: 0.11755863244832548\n",
            "  Batch: 300 Loss: 0.11697403903518405\n",
            "  Batch: 330 Loss: 0.1213986323583654\n",
            "  Batch: 360 Loss: 0.14911465972681684\n",
            "  Batch: 390 Loss: 0.12258932239834278\n",
            "  Batch: 420 Loss: 0.10672737063734088\n",
            "  Batch: 450 Loss: 0.1384849406845828\n",
            "  Batch: 480 Loss: 0.14605945570601356\n",
            "  Batch: 510 Loss: 0.08871144543815819\n",
            "  Batch: 540 Loss: 0.12862330428452756\n",
            "  Batch: 570 Loss: 0.10012720161704002\n",
            "  Batch: 600 Loss: 0.11363254060377441\n",
            "  Batch: 630 Loss: 0.1321187963892543\n",
            "Train loss: 0.121773\n",
            "Discr applied 0 times.\n",
            "Testing...\n",
            "100\n"
          ],
          "name": "stdout"
        },
        {
          "output_type": "display_data",
          "data": {
            "image/png": "[encoded data removed]",
            "text/plain": [
              "<Figure size 432x288 with 1 Axes>"
            ]
          },
          "metadata": {
            "tags": []
          }
        },
        {
          "output_type": "stream",
          "text": [
            "  'them' -> 'them<STOP>'\n"
          ],
          "name": "stdout"
        },
        {
          "output_type": "display_data",
          "data": {
            "image/png": "[encoded data removed]",
            "text/plain": [
              "<Figure size 432x288 with 1 Axes>"
            ]
          },
          "metadata": {
            "tags": []
          }
        },
        {
          "output_type": "stream",
          "text": [
            "  'that' -> 'thew<STOP>'\n"
          ],
          "name": "stdout"
        },
        {
          "output_type": "display_data",
          "data": {
            "image/png": "[encoded data removed]",
            "text/plain": [
              "<Figure size 432x288 with 1 Axes>"
            ]
          },
          "metadata": {
            "tags": []
          }
        },
        {
          "output_type": "stream",
          "text": [
            "  'that' -> 'that<STOP>'\n",
            "  Batch: 20 Loss: 0.7045656732397362\n",
            "100\n"
          ],
          "name": "stdout"
        },
        {
          "output_type": "display_data",
          "data": {
            "image/png": "[encoded data removed]",
            "text/plain": [
              "<Figure size 432x288 with 1 Axes>"
            ]
          },
          "metadata": {
            "tags": []
          }
        },
        {
          "output_type": "stream",
          "text": [
            "  'l' -> 'l<STOP>'\n"
          ],
          "name": "stdout"
        },
        {
          "output_type": "display_data",
          "data": {
            "image/png": "[encoded data removed]",
            "text/plain": [
              "<Figure size 432x288 with 1 Axes>"
            ]
          },
          "metadata": {
            "tags": []
          }
        },
        {
          "output_type": "stream",
          "text": [
            "  'c' -> 'c<STOP>'\n"
          ],
          "name": "stdout"
        },
        {
          "output_type": "display_data",
          "data": {
            "image/png": "[encoded data removed]",
            "text/plain": [
              "<Figure size 432x288 with 1 Axes>"
            ]
          },
          "metadata": {
            "tags": []
          }
        },
        {
          "output_type": "stream",
          "text": [
            "  'n' -> 'n<STOP>'\n",
            "  Batch: 40 Loss: 0.5924606377281071\n",
            "100\n"
          ],
          "name": "stdout"
        },
        {
          "output_type": "display_data",
          "data": {
            "image/png": "[encoded data removed]",
            "text/plain": [
              "<Figure size 432x288 with 1 Axes>"
            ]
          },
          "metadata": {
            "tags": []
          }
        },
        {
          "output_type": "stream",
          "text": [
            "  'problems' -> 'problem<STOP><STOP>'\n"
          ],
          "name": "stdout"
        },
        {
          "output_type": "display_data",
          "data": {
            "image/png": "[encoded data removed]",
            "text/plain": [
              "<Figure size 432x288 with 1 Axes>"
            ]
          },
          "metadata": {
            "tags": []
          }
        },
        {
          "output_type": "stream",
          "text": [
            "  'week-end' -> 'week-qe<STOP><STOP>'\n"
          ],
          "name": "stdout"
        },
        {
          "output_type": "display_data",
          "data": {
            "image/png": "[encoded data removed]",
            "text/plain": [
              "<Figure size 432x288 with 1 Axes>"
            ]
          },
          "metadata": {
            "tags": []
          }
        },
        {
          "output_type": "stream",
          "text": [
            "  'strikers' -> 'strikers<STOP>'\n",
            "  Batch: 60 Loss: 0.745518168263019\n",
            "Test loss: 0.649953\n",
            "Training epoch 4...\n",
            "  Batch: 30 Loss: 0.1398447371388554\n",
            "  Batch: 60 Loss: 0.11932375481874538\n",
            "  Batch: 90 Loss: 0.1265432547618236\n",
            "  Batch: 120 Loss: 0.14958593495214778\n",
            "  Batch: 150 Loss: 0.11128889416571133\n",
            "  Batch: 180 Loss: 0.13288297163766052\n",
            "  Batch: 210 Loss: 0.0712838412052582\n",
            "  Batch: 240 Loss: 0.1186805608727915\n",
            "  Batch: 270 Loss: 0.10097213826363995\n",
            "  Batch: 300 Loss: 0.13028412924498003\n",
            "  Batch: 330 Loss: 0.12102726281285481\n",
            "  Batch: 360 Loss: 0.13338975546339515\n",
            "  Batch: 390 Loss: 0.10630608459964158\n",
            "  Batch: 420 Loss: 0.1394778875848919\n",
            "  Batch: 450 Loss: 0.12750853097312664\n",
            "  Batch: 480 Loss: 0.22934459361528595\n",
            "  Batch: 510 Loss: 0.2559907856477159\n",
            "  Batch: 540 Loss: 0.1617209661627809\n",
            "  Batch: 570 Loss: 0.12507193333296865\n",
            "  Batch: 600 Loss: 0.1194391812356534\n",
            "  Batch: 630 Loss: 0.14602296498342954\n",
            "  Batch: 660 Loss: 0.07456305495123304\n",
            "Train loss: 0.133291\n",
            "Discr applied 0 times.\n",
            "Testing...\n",
            "100\n"
          ],
          "name": "stdout"
        },
        {
          "output_type": "display_data",
          "data": {
            "image/png": "[encoded data removed]",
            "text/plain": [
              "<Figure size 432x288 with 1 Axes>"
            ]
          },
          "metadata": {
            "tags": []
          }
        },
        {
          "output_type": "stream",
          "text": [
            "  'longer' -> 'lenger<STOP>'\n"
          ],
          "name": "stdout"
        },
        {
          "output_type": "display_data",
          "data": {
            "image/png": "[encoded data removed]",
            "text/plain": [
              "<Figure size 432x288 with 1 Axes>"
            ]
          },
          "metadata": {
            "tags": []
          }
        },
        {
          "output_type": "stream",
          "text": [
            "  'common' -> 'countr<STOP>'\n"
          ],
          "name": "stdout"
        },
        {
          "output_type": "display_data",
          "data": {
            "image/png": "[encoded data removed]",
            "text/plain": [
              "<Figure size 432x288 with 1 Axes>"
            ]
          },
          "metadata": {
            "tags": []
          }
        },
        {
          "output_type": "stream",
          "text": [
            "  'regard' -> 'mederd<STOP>'\n",
            "  Batch: 20 Loss: 0.8817417040774747\n",
            "100\n"
          ],
          "name": "stdout"
        },
        {
          "output_type": "display_data",
          "data": {
            "image/png": "[encoded data removed]",
            "text/plain": [
              "<Figure size 432x288 with 1 Axes>"
            ]
          },
          "metadata": {
            "tags": []
          }
        },
        {
          "output_type": "stream",
          "text": [
            "  'policy' -> 'poiced<STOP>'\n"
          ],
          "name": "stdout"
        },
        {
          "output_type": "display_data",
          "data": {
            "image/png": "[encoded data removed]",
            "text/plain": [
              "<Figure size 432x288 with 1 Axes>"
            ]
          },
          "metadata": {
            "tags": []
          }
        },
        {
          "output_type": "stream",
          "text": [
            "  'secret' -> 'seatce<STOP>'\n"
          ],
          "name": "stdout"
        },
        {
          "output_type": "display_data",
          "data": {
            "image/png": "[encoded data removed]",
            "text/plain": [
              "<Figure size 432x288 with 1 Axes>"
            ]
          },
          "metadata": {
            "tags": []
          }
        },
        {
          "output_type": "stream",
          "text": [
            "  'flatly' -> 'flatiy<STOP>'\n",
            "  Batch: 40 Loss: 0.59109711205402\n",
            "100\n"
          ],
          "name": "stdout"
        },
        {
          "output_type": "display_data",
          "data": {
            "image/png": "[encoded data removed]",
            "text/plain": [
              "<Figure size 432x288 with 1 Axes>"
            ]
          },
          "metadata": {
            "tags": []
          }
        },
        {
          "output_type": "stream",
          "text": [
            "  'dnxjticb' -> 'dnxjticb<STOP>'\n"
          ],
          "name": "stdout"
        },
        {
          "output_type": "display_data",
          "data": {
            "image/png": "[encoded data removed]",
            "text/plain": [
              "<Figure size 432x288 with 1 Axes>"
            ]
          },
          "metadata": {
            "tags": []
          }
        },
        {
          "output_type": "stream",
          "text": [
            "  'hjczxhpo' -> 'hjczxhpn<STOP>'\n"
          ],
          "name": "stdout"
        },
        {
          "output_type": "display_data",
          "data": {
            "image/png": "[encoded data removed]",
            "text/plain": [
              "<Figure size 432x288 with 1 Axes>"
            ]
          },
          "metadata": {
            "tags": []
          }
        },
        {
          "output_type": "stream",
          "text": [
            "  'kkxllhoc' -> 'kkxllhoc<STOP>'\n",
            "  Batch: 60 Loss: 0.3707510685069221\n",
            "Test loss: 0.562227\n",
            "Training epoch 5...\n",
            "  Batch: 30 Loss: 0.11106878001361141\n",
            "  Batch: 60 Loss: 0.10726639003300714\n",
            "  Batch: 90 Loss: 0.16064323949356557\n",
            "  Batch: 120 Loss: 0.14324753511007185\n",
            "  Batch: 150 Loss: 0.12518504730627808\n",
            "  Batch: 180 Loss: 0.09259593239586268\n",
            "  Batch: 210 Loss: 0.1191720279509192\n",
            "  Batch: 240 Loss: 0.11197917476720202\n",
            "  Batch: 270 Loss: 0.10848714478382909\n",
            "  Batch: 300 Loss: 0.11697354862978929\n",
            "  Batch: 330 Loss: 0.14229036376826346\n",
            "  Batch: 360 Loss: 0.1288034905341488\n",
            "  Batch: 390 Loss: 0.1176281236513227\n",
            "  Batch: 420 Loss: 0.11121117923270774\n",
            "  Batch: 450 Loss: 0.10124701759127515\n",
            "  Batch: 480 Loss: 0.10669625650785826\n",
            "  Batch: 510 Loss: 0.12537385801789622\n",
            "  Batch: 540 Loss: 0.11634677904308159\n",
            "  Batch: 570 Loss: 0.11034315017342726\n",
            "  Batch: 600 Loss: 0.1122225080655208\n",
            "  Batch: 630 Loss: 0.10134075858250811\n",
            "  Batch: 660 Loss: 0.1162545402667352\n",
            "Train loss: 0.116879\n",
            "Discr applied 0 times.\n",
            "Testing...\n",
            "100\n"
          ],
          "name": "stdout"
        },
        {
          "output_type": "display_data",
          "data": {
            "image/png": "[encoded data removed]",
            "text/plain": [
              "<Figure size 432x288 with 1 Axes>"
            ]
          },
          "metadata": {
            "tags": []
          }
        },
        {
          "output_type": "stream",
          "text": [
            "  'qew' -> 'qew<STOP>'\n"
          ],
          "name": "stdout"
        },
        {
          "output_type": "display_data",
          "data": {
            "image/png": "[encoded data removed]",
            "text/plain": [
              "<Figure size 432x288 with 1 Axes>"
            ]
          },
          "metadata": {
            "tags": []
          }
        },
        {
          "output_type": "stream",
          "text": [
            "  'kkb' -> 'kkb<STOP>'\n"
          ],
          "name": "stdout"
        },
        {
          "output_type": "display_data",
          "data": {
            "image/png": "[encoded data removed]",
            "text/plain": [
              "<Figure size 432x288 with 1 Axes>"
            ]
          },
          "metadata": {
            "tags": []
          }
        },
        {
          "output_type": "stream",
          "text": [
            "  'nyo' -> 'nyo<STOP>'\n",
            "  Batch: 20 Loss: 0.7479315525013214\n",
            "100\n"
          ],
          "name": "stdout"
        },
        {
          "output_type": "display_data",
          "data": {
            "image/png": "[encoded data removed]",
            "text/plain": [
              "<Figure size 432x288 with 1 Axes>"
            ]
          },
          "metadata": {
            "tags": []
          }
        },
        {
          "output_type": "stream",
          "text": [
            "  'talks' -> 'balks<STOP>'\n"
          ],
          "name": "stdout"
        },
        {
          "output_type": "display_data",
          "data": {
            "image/png": "[encoded data removed]",
            "text/plain": [
              "<Figure size 432x288 with 1 Axes>"
            ]
          },
          "metadata": {
            "tags": []
          }
        },
        {
          "output_type": "stream",
          "text": [
            "  'years' -> 'yeare<STOP>'\n"
          ],
          "name": "stdout"
        },
        {
          "output_type": "display_data",
          "data": {
            "image/png": "[encoded data removed]",
            "text/plain": [
              "<Figure size 432x288 with 1 Axes>"
            ]
          },
          "metadata": {
            "tags": []
          }
        },
        {
          "output_type": "stream",
          "text": [
            "  'steps' -> 'staps<STOP>'\n",
            "  Batch: 40 Loss: 0.600263914598359\n",
            "100\n"
          ],
          "name": "stdout"
        },
        {
          "output_type": "display_data",
          "data": {
            "image/png": "[encoded data removed]",
            "text/plain": [
              "<Figure size 432x288 with 1 Axes>"
            ]
          },
          "metadata": {
            "tags": []
          }
        },
        {
          "output_type": "stream",
          "text": [
            "  'of' -> 'of<STOP>'\n"
          ],
          "name": "stdout"
        },
        {
          "output_type": "display_data",
          "data": {
            "image/png": "[encoded data removed]",
            "text/plain": [
              "<Figure size 432x288 with 1 Axes>"
            ]
          },
          "metadata": {
            "tags": []
          }
        },
        {
          "output_type": "stream",
          "text": [
            "  'to' -> 'to<STOP>'\n"
          ],
          "name": "stdout"
        },
        {
          "output_type": "display_data",
          "data": {
            "image/png": "[encoded data removed]",
            "text/plain": [
              "<Figure size 432x288 with 1 Axes>"
            ]
          },
          "metadata": {
            "tags": []
          }
        },
        {
          "output_type": "stream",
          "text": [
            "  'in' -> 'in<STOP>'\n",
            "  Batch: 60 Loss: 0.5912116742444536\n",
            "Test loss: 0.626470\n",
            "Training epoch 6...\n",
            "  Batch: 30 Loss: 0.12348680381342848\n",
            "  Batch: 60 Loss: 0.11697657024320313\n",
            "  Batch: 90 Loss: 0.11363412489409917\n",
            "  Batch: 120 Loss: 0.12382596085242258\n",
            "  Batch: 150 Loss: 0.09592110768891875\n",
            "  Batch: 180 Loss: 0.09082267891605773\n",
            "  Batch: 210 Loss: 0.08452596245781967\n",
            "  Batch: 240 Loss: 0.1345480686791793\n",
            "  Batch: 270 Loss: 0.13008986529012126\n",
            "  Batch: 300 Loss: 0.1047914928066293\n",
            "  Batch: 330 Loss: 0.14273806086549212\n",
            "  Batch: 360 Loss: 0.11747857396761893\n",
            "  Batch: 390 Loss: 0.11374428027107443\n",
            "  Batch: 420 Loss: 0.13500568499276167\n",
            "  Batch: 450 Loss: 0.08858173029334654\n",
            "  Batch: 480 Loss: 0.11736978169983973\n",
            "  Batch: 510 Loss: 0.1496159844869186\n",
            "  Batch: 540 Loss: 0.09574849204012445\n",
            "  Batch: 570 Loss: 0.09641014723087508\n",
            "  Batch: 600 Loss: 0.09232229197974359\n",
            "  Batch: 630 Loss: 0.0849595489911735\n",
            "  Batch: 660 Loss: 0.10540118966857709\n",
            "Train loss: 0.110701\n",
            "Discr applied 0 times.\n",
            "Testing...\n",
            "100\n"
          ],
          "name": "stdout"
        },
        {
          "output_type": "display_data",
          "data": {
            "image/png": "[encoded data removed]",
            "text/plain": [
              "<Figure size 432x288 with 1 Axes>"
            ]
          },
          "metadata": {
            "tags": []
          }
        },
        {
          "output_type": "stream",
          "text": [
            "  'views' -> 'bears<STOP>'\n"
          ],
          "name": "stdout"
        },
        {
          "output_type": "display_data",
          "data": {
            "image/png": "[encoded data removed]",
            "text/plain": [
              "<Figure size 432x288 with 1 Axes>"
            ]
          },
          "metadata": {
            "tags": []
          }
        },
        {
          "output_type": "stream",
          "text": [
            "  'which' -> 'which<STOP>'\n"
          ],
          "name": "stdout"
        },
        {
          "output_type": "display_data",
          "data": {
            "image/png": "[encoded data removed]",
            "text/plain": [
              "<Figure size 432x288 with 1 Axes>"
            ]
          },
          "metadata": {
            "tags": []
          }
        },
        {
          "output_type": "stream",
          "text": [
            "  'since' -> 'shric<STOP>'\n",
            "  Batch: 20 Loss: 0.8575152138144606\n",
            "100\n"
          ],
          "name": "stdout"
        },
        {
          "output_type": "display_data",
          "data": {
            "image/png": "[encoded data removed]",
            "text/plain": [
              "<Figure size 432x288 with 1 Axes>"
            ]
          },
          "metadata": {
            "tags": []
          }
        },
        {
          "output_type": "stream",
          "text": [
            "  'to' -> 'to<STOP>'\n"
          ],
          "name": "stdout"
        },
        {
          "output_type": "display_data",
          "data": {
            "image/png": "[encoded data removed]",
            "text/plain": [
              "<Figure size 432x288 with 1 Axes>"
            ]
          },
          "metadata": {
            "tags": []
          }
        },
        {
          "output_type": "stream",
          "text": [
            "  'is' -> 'is<STOP>'\n"
          ],
          "name": "stdout"
        },
        {
          "output_type": "display_data",
          "data": {
            "image/png": "[encoded data removed]",
            "text/plain": [
              "<Figure size 432x288 with 1 Axes>"
            ]
          },
          "metadata": {
            "tags": []
          }
        },
        {
          "output_type": "stream",
          "text": [
            "  'on' -> 'on<STOP>'\n",
            "  Batch: 40 Loss: 0.4084615092054896\n",
            "100\n"
          ],
          "name": "stdout"
        },
        {
          "output_type": "display_data",
          "data": {
            "image/png": "[encoded data removed]",
            "text/plain": [
              "<Figure size 432x288 with 1 Axes>"
            ]
          },
          "metadata": {
            "tags": []
          }
        },
        {
          "output_type": "stream",
          "text": [
            "  'gd' -> 'gd<STOP>'\n"
          ],
          "name": "stdout"
        },
        {
          "output_type": "display_data",
          "data": {
            "image/png": "[encoded data removed]",
            "text/plain": [
              "<Figure size 432x288 with 1 Axes>"
            ]
          },
          "metadata": {
            "tags": []
          }
        },
        {
          "output_type": "stream",
          "text": [
            "  'va' -> 'va<STOP>'\n"
          ],
          "name": "stdout"
        },
        {
          "output_type": "display_data",
          "data": {
            "image/png": "[encoded data removed]",
            "text/plain": [
              "<Figure size 432x288 with 1 Axes>"
            ]
          },
          "metadata": {
            "tags": []
          }
        },
        {
          "output_type": "stream",
          "text": [
            "  'ee' -> 'ee<STOP>'\n",
            "  Batch: 60 Loss: 0.5472424733972857\n",
            "Test loss: 0.580142\n",
            "Training epoch 7...\n",
            "  Batch: 30 Loss: 0.12476599639454097\n",
            "  Batch: 60 Loss: 0.11900796594369233\n",
            "  Batch: 90 Loss: 0.133808519021465\n",
            "  Batch: 120 Loss: 0.1261810966467278\n",
            "  Batch: 150 Loss: 0.10722931598367354\n",
            "  Batch: 180 Loss: 0.12568939917656793\n",
            "  Batch: 210 Loss: 0.09629560229018642\n",
            "  Batch: 240 Loss: 0.1386538872213433\n",
            "  Batch: 270 Loss: 0.13242348077261043\n",
            "  Batch: 300 Loss: 0.1067626981057286\n",
            "  Batch: 330 Loss: 0.11065058762991123\n",
            "  Batch: 360 Loss: 0.14176719759526865\n",
            "  Batch: 390 Loss: 0.12484812878956773\n",
            "  Batch: 420 Loss: 0.11794348648537403\n",
            "  Batch: 450 Loss: 0.08538472068902578\n",
            "  Batch: 480 Loss: 0.11965366803700962\n",
            "  Batch: 510 Loss: 0.07402728330713534\n",
            "  Batch: 540 Loss: 0.10401241990308913\n",
            "  Batch: 570 Loss: 0.13397033430631003\n",
            "  Batch: 600 Loss: 0.08135090152008666\n",
            "  Batch: 630 Loss: 0.09967714909207884\n",
            "  Batch: 660 Loss: 0.09388220348291927\n",
            "Train loss: 0.113005\n",
            "Discr applied 0 times.\n",
            "Testing...\n",
            "100\n"
          ],
          "name": "stdout"
        },
        {
          "output_type": "display_data",
          "data": {
            "image/png": "[encoded data removed]",
            "text/plain": [
              "<Figure size 432x288 with 1 Axes>"
            ]
          },
          "metadata": {
            "tags": []
          }
        },
        {
          "output_type": "stream",
          "text": [
            "  'for' -> 'for<STOP>'\n"
          ],
          "name": "stdout"
        },
        {
          "output_type": "display_data",
          "data": {
            "image/png": "[encoded data removed]",
            "text/plain": [
              "<Figure size 432x288 with 1 Axes>"
            ]
          },
          "metadata": {
            "tags": []
          }
        },
        {
          "output_type": "stream",
          "text": [
            "  'had' -> 'had<STOP>'\n"
          ],
          "name": "stdout"
        },
        {
          "output_type": "display_data",
          "data": {
            "image/png": "[encoded data removed]",
            "text/plain": [
              "<Figure size 432x288 with 1 Axes>"
            ]
          },
          "metadata": {
            "tags": []
          }
        },
        {
          "output_type": "stream",
          "text": [
            "  'for' -> 'for<STOP>'\n",
            "  Batch: 20 Loss: 0.806412980889399\n",
            "100\n"
          ],
          "name": "stdout"
        },
        {
          "output_type": "display_data",
          "data": {
            "image/png": "[encoded data removed]",
            "text/plain": [
              "<Figure size 432x288 with 1 Axes>"
            ]
          },
          "metadata": {
            "tags": []
          }
        },
        {
          "output_type": "stream",
          "text": [
            "  'night' -> 'wasit<STOP>'\n"
          ],
          "name": "stdout"
        },
        {
          "output_type": "display_data",
          "data": {
            "image/png": "[encoded data removed]",
            "text/plain": [
              "<Figure size 432x288 with 1 Axes>"
            ]
          },
          "metadata": {
            "tags": []
          }
        },
        {
          "output_type": "stream",
          "text": [
            "  'order' -> 'order<STOP>'\n"
          ],
          "name": "stdout"
        },
        {
          "output_type": "display_data",
          "data": {
            "image/png": "[encoded data removed]",
            "text/plain": [
              "<Figure size 432x288 with 1 Axes>"
            ]
          },
          "metadata": {
            "tags": []
          }
        },
        {
          "output_type": "stream",
          "text": [
            "  'would' -> 'would<STOP>'\n",
            "  Batch: 40 Loss: 0.5286597631661782\n",
            "100\n"
          ],
          "name": "stdout"
        },
        {
          "output_type": "display_data",
          "data": {
            "image/png": "[encoded data removed]",
            "text/plain": [
              "<Figure size 432x288 with 1 Axes>"
            ]
          },
          "metadata": {
            "tags": []
          }
        },
        {
          "output_type": "stream",
          "text": [
            "  'cm' -> 'cm<STOP>'\n"
          ],
          "name": "stdout"
        },
        {
          "output_type": "display_data",
          "data": {
            "image/png": "[encoded data removed]",
            "text/plain": [
              "<Figure size 432x288 with 1 Axes>"
            ]
          },
          "metadata": {
            "tags": []
          }
        },
        {
          "output_type": "stream",
          "text": [
            "  'nl' -> 'nl<STOP>'\n"
          ],
          "name": "stdout"
        },
        {
          "output_type": "display_data",
          "data": {
            "image/png": "[encoded data removed]",
            "text/plain": [
              "<Figure size 432x288 with 1 Axes>"
            ]
          },
          "metadata": {
            "tags": []
          }
        },
        {
          "output_type": "stream",
          "text": [
            "  'my' -> 'my<STOP>'\n",
            "  Batch: 60 Loss: 0.5130843157626482\n",
            "Test loss: 0.570994\n",
            "Training epoch 8...\n"
          ],
          "name": "stdout"
        },
        {
          "output_type": "error",
          "ename": "KeyboardInterrupt",
          "evalue": "ignored",
          "traceback": [
            "\u001b[0;31m---------------------------------------------------------------------------\u001b[0m",
            "\u001b[0;31mKeyboardInterrupt\u001b[0m                         Traceback (most recent call last)",
            "\u001b[0;32m<ipython-input-56-c1a6c9913bee>\u001b[0m in \u001b[0;36m<module>\u001b[0;34m()\u001b[0m\n\u001b[1;32m      3\u001b[0m   \u001b[0mprob\u001b[0m \u001b[0;34m=\u001b[0m \u001b[0;36m0.3\u001b[0m\u001b[0;34m\u001b[0m\u001b[0;34m\u001b[0m\u001b[0m\n\u001b[1;32m      4\u001b[0m   \u001b[0mrandx\u001b[0m\u001b[0;34m=\u001b[0m\u001b[0;36m20\u001b[0m\u001b[0;34m\u001b[0m\u001b[0;34m\u001b[0m\u001b[0m\n\u001b[0;32m----> 5\u001b[0;31m   \u001b[0mtrain\u001b[0m\u001b[0;34m(\u001b[0m\u001b[0mi\u001b[0m\u001b[0;34m,\u001b[0m \u001b[0mmax_size\u001b[0m\u001b[0;34m,\u001b[0m \u001b[0;32mFalse\u001b[0m\u001b[0;34m,\u001b[0m \u001b[0mprob\u001b[0m\u001b[0;34m,\u001b[0m \u001b[0mrandx\u001b[0m\u001b[0;34m)\u001b[0m\u001b[0;34m\u001b[0m\u001b[0;34m\u001b[0m\u001b[0m\n\u001b[0m\u001b[1;32m      6\u001b[0m   \u001b[0mtest\u001b[0m\u001b[0;34m(\u001b[0m\u001b[0mmax_size\u001b[0m\u001b[0;34m,\u001b[0m \u001b[0mprob\u001b[0m\u001b[0;34m,\u001b[0m \u001b[0mrandx\u001b[0m\u001b[0;34m)\u001b[0m\u001b[0;34m\u001b[0m\u001b[0;34m\u001b[0m\u001b[0m\n",
            "\u001b[0;32m<ipython-input-49-6cb3102a62a9>\u001b[0m in \u001b[0;36mtrain\u001b[0;34m(epoch, max_size, apply_professor, prob, randx)\u001b[0m\n\u001b[1;32m     26\u001b[0m       \u001b[0morig_data\u001b[0m\u001b[0;34m,\u001b[0m \u001b[0mtarget\u001b[0m \u001b[0;34m=\u001b[0m \u001b[0mbatch\u001b[0m\u001b[0;34m\u001b[0m\u001b[0;34m\u001b[0m\u001b[0m\n\u001b[1;32m     27\u001b[0m       \u001b[0mdata\u001b[0m \u001b[0;34m=\u001b[0m \u001b[0morig_data\u001b[0m\u001b[0;34m/\u001b[0m\u001b[0;36m255.0\u001b[0m\u001b[0;34m\u001b[0m\u001b[0;34m\u001b[0m\u001b[0m\n\u001b[0;32m---> 28\u001b[0;31m       \u001b[0mdata\u001b[0m \u001b[0;34m=\u001b[0m \u001b[0mdata\u001b[0m\u001b[0;34m.\u001b[0m\u001b[0munsqueeze\u001b[0m\u001b[0;34m(\u001b[0m\u001b[0;36m1\u001b[0m\u001b[0;34m)\u001b[0m\u001b[0;34m.\u001b[0m\u001b[0mto\u001b[0m\u001b[0;34m(\u001b[0m\u001b[0mdevice\u001b[0m\u001b[0;34m)\u001b[0m\u001b[0;34m\u001b[0m\u001b[0;34m\u001b[0m\u001b[0m\n\u001b[0m\u001b[1;32m     29\u001b[0m       \u001b[0mtarget\u001b[0m \u001b[0;34m=\u001b[0m \u001b[0mtarget\u001b[0m\u001b[0;34m.\u001b[0m\u001b[0mto\u001b[0m\u001b[0;34m(\u001b[0m\u001b[0mdevice\u001b[0m\u001b[0;34m)\u001b[0m\u001b[0;34m\u001b[0m\u001b[0;34m\u001b[0m\u001b[0m\n\u001b[1;32m     30\u001b[0m     \u001b[0;31m#encoder_optimizer.zero_grad()\u001b[0m\u001b[0;34m\u001b[0m\u001b[0;34m\u001b[0m\u001b[0;34m\u001b[0m\u001b[0m\n",
            "\u001b[0;31mKeyboardInterrupt\u001b[0m: "
          ]
        }
      ]
    },
    {
      "metadata": {
        "id": "pxFc9-xKunA7",
        "colab_type": "code",
        "colab": {}
      },
      "cell_type": "code",
      "source": [
        "for i in range(0, 7):\n",
        "  max_size = 1\n",
        "  prob = 1\n",
        "  train(i, max_size, True, prob)\n",
        "  test(max_size, prob)"
      ],
      "execution_count": 0,
      "outputs": []
    },
    {
      "metadata": {
        "id": "1weMKd1mFwy4",
        "colab_type": "code",
        "colab": {}
      },
      "cell_type": "code",
      "source": [
        "for i in range(0, 10):\n",
        "  max_size = 3\n",
        "  prob = 1\n",
        "  train(i, max_size, True, prob)\n",
        "  test(max_size, prob)"
      ],
      "execution_count": 0,
      "outputs": []
    },
    {
      "metadata": {
        "id": "oC8tnxPmF0hK",
        "colab_type": "code",
        "colab": {}
      },
      "cell_type": "code",
      "source": [
        "for i in range(0, 100):\n",
        "  if i %3 == 0:\n",
        "    state_dict = {\n",
        "        \"encoder\": encoder.state_dict(),\n",
        "        \"encoder_optimizer\": encoder_optimizer.state_dict(),\n",
        "        \"decoder\": decoder.state_dict(),\n",
        "        \"decoder_optimizer\": decoder_optimizer.state_dict(),\n",
        "        \"discriminator\": discriminator.state_dict(),\n",
        "        \"discriminator_optimizer\": discriminator_optimizer.state_dict(),\n",
        "      }\n",
        "\n",
        "    torch.save(state_dict, file_name)\n",
        "    print(\"Network saved\")\n",
        "  max_size = 8\n",
        "  prob = 0.5\n",
        "  train(i, max_size, False, prob)\n",
        "  test(max_size, prob)"
      ],
      "execution_count": 0,
      "outputs": []
    },
    {
      "metadata": {
        "id": "OPkCxVK51w-0",
        "colab_type": "code",
        "colab": {}
      },
      "cell_type": "code",
      "source": [
        "for i in range(0, 100):\n",
        "  max_size = 6\n",
        "  train(i, max_size, True)\n",
        "  test(max_size)"
      ],
      "execution_count": 0,
      "outputs": []
    },
    {
      "metadata": {
        "id": "nHGxYzVGCxdj",
        "colab_type": "code",
        "colab": {}
      },
      "cell_type": "code",
      "source": [
        "test(1)"
      ],
      "execution_count": 0,
      "outputs": []
    },
    {
      "metadata": {
        "id": "HsfEczGzx_ph",
        "colab_type": "code",
        "colab": {}
      },
      "cell_type": "code",
      "source": [
        "# state_dict = {\n",
        "#         \"encoder\": encoder.state_dict(),\n",
        "#         \"encoder_optimizer\": encoder_optimizer.state_dict(),\n",
        "#         \"decoder\": decoder.state_dict(),\n",
        "#         \"decoder_optimizer\": decoder_optimizer.state_dict(),\n",
        "#         \"discriminator\": discriminator.state_dict(),\n",
        "#         \"discriminator_optimizer\": discriminator_optimizer.state_dict(),\n",
        "#       }\n",
        "\n",
        "# torch.save(state_dict, file_name)\n"
      ],
      "execution_count": 0,
      "outputs": []
    },
    {
      "metadata": {
        "id": "y8IIhQBGsOoL",
        "colab_type": "code",
        "colab": {}
      },
      "cell_type": "code",
      "source": [
        "test(2)"
      ],
      "execution_count": 0,
      "outputs": []
    },
    {
      "metadata": {
        "id": "mrN5kEctKjQi",
        "colab_type": "code",
        "colab": {}
      },
      "cell_type": "code",
      "source": [
        "data, target = artificial_data.make_random_batch(3, 200)"
      ],
      "execution_count": 0,
      "outputs": []
    },
    {
      "metadata": {
        "id": "WBYhXSxDKjtf",
        "colab_type": "code",
        "colab": {}
      },
      "cell_type": "code",
      "source": [
        ""
      ],
      "execution_count": 0,
      "outputs": []
    },
    {
      "metadata": {
        "id": "dCBCuthGKmW-",
        "colab_type": "code",
        "colab": {}
      },
      "cell_type": "code",
      "source": [
        "for i in range(0, 30):\n",
        "  plt.imshow(data[i])\n",
        "  plt.show()\n",
        "  print(test_set.decode_word(target[i]))"
      ],
      "execution_count": 0,
      "outputs": []
    },
    {
      "metadata": {
        "id": "obmiumeGK5E9",
        "colab_type": "code",
        "colab": {}
      },
      "cell_type": "code",
      "source": [
        "test(2, 1 )"
      ],
      "execution_count": 0,
      "outputs": []
    },
    {
      "metadata": {
        "id": "xxjZtNTod4o0",
        "colab_type": "code",
        "colab": {}
      },
      "cell_type": "code",
      "source": [
        "def restore_net(file_name):\n",
        "  state = torch.load(file_name)\n",
        "  encoder.load_state_dict(state[\"encoder\"])\n",
        "  encoder_optimizer.load_state_dict(state[\"encoder_optimizer\"])\n",
        "  decoder.load_state_dict(state[\"decoder\"])\n",
        "  decoder_optimizer.load_state_dict(state[\"decoder_optimizer\"])\n",
        "  discriminator.load_state_dict(state[\"discriminator\"])\n",
        "  discriminator_optimizer.load_state_dict(state[\"discriminator_optimizer\"])"
      ],
      "execution_count": 0,
      "outputs": []
    },
    {
      "metadata": {
        "id": "XXggPx1ME6wJ",
        "colab_type": "code",
        "outputId": "28a56da8-bd24-42b8-de5e-d496cd639fb6",
        "colab": {
          "base_uri": "https://localhost:8080/",
          "height": 34
        }
      },
      "cell_type": "code",
      "source": [
        "#save_net(\"/gdrive/My Drive/unif_8_6.tar\")"
      ],
      "execution_count": 0,
      "outputs": [
        {
          "output_type": "stream",
          "text": [
            "Network saved: /gdrive/My Drive/unif_8_6.tar\n"
          ],
          "name": "stdout"
        }
      ]
    },
    {
      "metadata": {
        "id": "nCejd93YFBf4",
        "colab_type": "code",
        "colab": {}
      },
      "cell_type": "code",
      "source": [
        ""
      ],
      "execution_count": 0,
      "outputs": []
    }
  ]
}