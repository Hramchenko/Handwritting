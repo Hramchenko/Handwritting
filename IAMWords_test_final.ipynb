{
 "cells": [
  {
   "cell_type": "code",
   "execution_count": 1,
   "metadata": {
    "colab": {
     "base_uri": "https://localhost:8080/",
     "height": 302
    },
    "colab_type": "code",
    "executionInfo": {
     "elapsed": 690,
     "status": "error",
     "timestamp": 1551375990119,
     "user": {
      "displayName": "Виталий Храмченко",
      "photoUrl": "",
      "userId": "10935595370719524564"
     },
     "user_tz": -300
    },
    "id": "MsJUSc2XHr9t",
    "outputId": "e6255407-1ba5-4971-8d2b-cb49dc74c6ff"
   },
   "outputs": [],
   "source": [
    "from IAMWords import IAMWords"
   ]
  },
  {
   "cell_type": "code",
   "execution_count": 2,
   "metadata": {
    "colab": {},
    "colab_type": "code",
    "id": "R5gRbdxGHr9y"
   },
   "outputs": [
    {
     "name": "stdout",
     "output_type": "stream",
     "text": [
      "Reading ./IAM/words.train.pkl...\n",
      "Reading finished\n"
     ]
    }
   ],
   "source": [
    "w = IAMWords(\"train\", IAM_PATH=\"./IAM/\")\n",
    "#w = IAMWords(\"test\", IAM_PATH=\"./IAM/\")"
   ]
  },
  {
   "cell_type": "code",
   "execution_count": 3,
   "metadata": {
    "colab": {},
    "colab_type": "code",
    "id": "1mGzbPYfHr91",
    "outputId": "d74a54f9-76dc-482e-a423-b3a0fd2cf88c"
   },
   "outputs": [
    {
     "data": {
      "text/plain": [
       "'test'"
      ]
     },
     "execution_count": 3,
     "metadata": {},
     "output_type": "execute_result"
    }
   ],
   "source": [
    "s = w.encode_word(\"test\")\n",
    "w.decode_word(s)"
   ]
  },
  {
   "cell_type": "code",
   "execution_count": 4,
   "metadata": {
    "colab": {},
    "colab_type": "code",
    "id": "vNTBVz70Hr98",
    "outputId": "304da5bc-b1c3-4ea4-97e0-4342b1518248"
   },
   "outputs": [
    {
     "data": {
      "text/plain": [
       "'a'"
      ]
     },
     "execution_count": 4,
     "metadata": {},
     "output_type": "execute_result"
    }
   ],
   "source": [
    "w.to_start(2)\n",
    "result = w.make_batch()\n",
    "w.decode_word(result[1][14,:])"
   ]
  },
  {
   "cell_type": "code",
   "execution_count": 5,
   "metadata": {},
   "outputs": [
    {
     "data": {
      "text/plain": [
       "(tensor([[[255., 255., 255.,  ..., 255., 255., 255.],\n",
       "          [255., 255., 255.,  ..., 255., 255., 255.],\n",
       "          [255., 255., 255.,  ..., 255., 255., 255.],\n",
       "          ...,\n",
       "          [255., 255., 255.,  ..., 255., 255., 255.],\n",
       "          [255., 255., 255.,  ..., 255., 255., 255.],\n",
       "          [255., 255., 255.,  ..., 255., 255., 255.]],\n",
       " \n",
       "         [[255., 255., 255.,  ..., 255., 255., 255.],\n",
       "          [255., 255., 255.,  ..., 255., 255., 255.],\n",
       "          [255., 255., 255.,  ..., 255., 255., 255.],\n",
       "          ...,\n",
       "          [255., 255., 255.,  ..., 255., 255., 255.],\n",
       "          [255., 255., 255.,  ..., 255., 255., 255.],\n",
       "          [255., 255., 255.,  ..., 255., 255., 255.]],\n",
       " \n",
       "         [[255., 255., 255.,  ..., 255., 255., 255.],\n",
       "          [255., 255., 255.,  ..., 255., 255., 255.],\n",
       "          [255., 255., 255.,  ..., 255., 255., 255.],\n",
       "          ...,\n",
       "          [255., 255., 255.,  ..., 255., 255., 255.],\n",
       "          [255., 255., 255.,  ..., 255., 255., 255.],\n",
       "          [255., 255., 255.,  ..., 255., 255., 255.]],\n",
       " \n",
       "         ...,\n",
       " \n",
       "         [[255., 255., 255.,  ..., 255., 255., 255.],\n",
       "          [255., 255., 255.,  ..., 255., 255., 255.],\n",
       "          [255., 255., 255.,  ..., 255., 255., 255.],\n",
       "          ...,\n",
       "          [255., 255., 255.,  ..., 255., 255., 255.],\n",
       "          [255., 255., 255.,  ..., 255., 255., 255.],\n",
       "          [255., 255., 255.,  ..., 255., 255., 255.]],\n",
       " \n",
       "         [[255., 255., 255.,  ..., 255., 255., 255.],\n",
       "          [255., 255., 255.,  ..., 255., 255., 255.],\n",
       "          [255., 255., 255.,  ..., 255., 255., 255.],\n",
       "          ...,\n",
       "          [255., 255., 255.,  ..., 255., 255., 255.],\n",
       "          [255., 255., 255.,  ..., 255., 255., 255.],\n",
       "          [255., 255., 255.,  ..., 255., 255., 255.]],\n",
       " \n",
       "         [[255., 255., 255.,  ..., 255., 255., 255.],\n",
       "          [255., 255., 255.,  ..., 255., 255., 255.],\n",
       "          [255., 255., 255.,  ..., 255., 255., 255.],\n",
       "          ...,\n",
       "          [255., 255., 255.,  ..., 255., 255., 255.],\n",
       "          [255., 255., 255.,  ..., 255., 255., 255.],\n",
       "          [255., 255., 255.,  ..., 255., 255., 255.]]]), tensor([[53],\n",
       "         [53],\n",
       "         [35],\n",
       "         [33],\n",
       "         [53],\n",
       "         [35],\n",
       "         [35],\n",
       "         [53],\n",
       "         [35],\n",
       "         [53],\n",
       "         [27],\n",
       "         [53],\n",
       "         [53],\n",
       "         [53],\n",
       "         [27],\n",
       "         [35],\n",
       "         [53],\n",
       "         [35],\n",
       "         [53],\n",
       "         [27],\n",
       "         [27],\n",
       "         [53],\n",
       "         [53],\n",
       "         [35],\n",
       "         [53],\n",
       "         [53],\n",
       "         [76],\n",
       "         [53],\n",
       "         [35],\n",
       "         [53],\n",
       "         [35],\n",
       "         [53],\n",
       "         [53],\n",
       "         [35],\n",
       "         [28],\n",
       "         [53],\n",
       "         [53],\n",
       "         [53],\n",
       "         [35],\n",
       "         [53],\n",
       "         [53],\n",
       "         [30],\n",
       "         [53],\n",
       "         [35],\n",
       "         [35],\n",
       "         [35],\n",
       "         [53],\n",
       "         [35],\n",
       "         [53],\n",
       "         [27]]))"
      ]
     },
     "execution_count": 5,
     "metadata": {},
     "output_type": "execute_result"
    }
   ],
   "source": [
    "result = w.make_batch()\n",
    "result"
   ]
  },
  {
   "cell_type": "code",
   "execution_count": 6,
   "metadata": {
    "colab": {},
    "colab_type": "code",
    "id": "4xr2iRAhHr-F"
   },
   "outputs": [],
   "source": [
    "import matplotlib.pyplot as plt\n",
    "%matplotlib inline\n"
   ]
  },
  {
   "cell_type": "code",
   "execution_count": 7,
   "metadata": {
    "colab": {
     "base_uri": "https://localhost:8080/",
     "height": 182
    },
    "colab_type": "code",
    "executionInfo": {
     "elapsed": 864,
     "status": "error",
     "timestamp": 1551375981380,
     "user": {
      "displayName": "Виталий Храмченко",
      "photoUrl": "",
      "userId": "10935595370719524564"
     },
     "user_tz": -300
    },
    "id": "J77vh2x8Hr-M",
    "outputId": "2cd5c451-2f92-4782-89e8-eff6d1af862a"
   },
   "outputs": [
    {
     "data": {
      "image/png": "[encoded data removed]",
      "text/plain": [
       "<Figure size 432x288 with 1 Axes>"
      ]
     },
     "metadata": {
      "needs_background": "light"
     },
     "output_type": "display_data"
    },
    {
     "data": {
      "image/png": "[encoded data removed]",
      "text/plain": [
       "<Figure size 432x288 with 1 Axes>"
      ]
     },
     "metadata": {
      "needs_background": "light"
     },
     "output_type": "display_data"
    },
    {
     "data": {
      "image/png": "[encoded data removed]",
      "text/plain": [
       "<Figure size 432x288 with 1 Axes>"
      ]
     },
     "metadata": {
      "needs_background": "light"
     },
     "output_type": "display_data"
    },
    {
     "data": {
      "image/png": "[encoded data removed]",
      "text/plain": [
       "<Figure size 432x288 with 1 Axes>"
      ]
     },
     "metadata": {
      "needs_background": "light"
     },
     "output_type": "display_data"
    },
    {
     "data": {
      "image/png": "[encoded data removed]",
      "text/plain": [
       "<Figure size 432x288 with 1 Axes>"
      ]
     },
     "metadata": {
      "needs_background": "light"
     },
     "output_type": "display_data"
    },
    {
     "data": {
      "image/png": "[encoded data removed]",
      "text/plain": [
       "<Figure size 432x288 with 1 Axes>"
      ]
     },
     "metadata": {
      "needs_background": "light"
     },
     "output_type": "display_data"
    },
    {
     "data": {
      "image/png": "[encoded data removed]",
      "text/plain": [
       "<Figure size 432x288 with 1 Axes>"
      ]
     },
     "metadata": {
      "needs_background": "light"
     },
     "output_type": "display_data"
    },
    {
     "data": {
      "image/png": "[encoded data removed]",
      "text/plain": [
       "<Figure size 432x288 with 1 Axes>"
      ]
     },
     "metadata": {
      "needs_background": "light"
     },
     "output_type": "display_data"
    },
    {
     "data": {
      "image/png": "[encoded data removed]",
      "text/plain": [
       "<Figure size 432x288 with 1 Axes>"
      ]
     },
     "metadata": {
      "needs_background": "light"
     },
     "output_type": "display_data"
    },
    {
     "data": {
      "image/png": "[encoded data removed]",
      "text/plain": [
       "<Figure size 432x288 with 1 Axes>"
      ]
     },
     "metadata": {
      "needs_background": "light"
     },
     "output_type": "display_data"
    }
   ],
   "source": [
    "for i in range(0, 10):\n",
    "    IM = result[0][i, :, :]\n",
    "    plt.imshow(IM)\n",
    "    plt.show()"
   ]
  },
  {
   "cell_type": "code",
   "execution_count": 8,
   "metadata": {
    "colab": {},
    "colab_type": "code",
    "id": "w0OsDCt8Hr-V"
   },
   "outputs": [],
   "source": [
    "def test_loader():\n",
    "    w.to_start(3)\n",
    "    batch_idx = 0\n",
    "    from timeit import default_timer\n",
    "    while True:\n",
    "        t1 = default_timer()\n",
    "        batch = w.make_batch()\n",
    "        t2 = default_timer()\n",
    "        #print(t2 - t1)\n",
    "        if batch is None:\n",
    "            break\n",
    "        batch_idx += 1\n",
    "        if batch_idx > 100:\n",
    "            break "
   ]
  },
  {
   "cell_type": "code",
   "execution_count": 9,
   "metadata": {},
   "outputs": [],
   "source": [
    "#import cProfile\n",
    "#cProfile.run(\"test_loader()\")"
   ]
  },
  {
   "cell_type": "code",
   "execution_count": 11,
   "metadata": {
    "colab": {},
    "colab_type": "code",
    "id": "M3CAa2qJHr-u"
   },
   "outputs": [
    {
     "name": "stdout",
     "output_type": "stream",
     "text": [
      "0\n",
      "100\n",
      "200\n",
      "**************\n",
      "14200\n"
     ]
    }
   ],
   "source": [
    "i = 0\n",
    "w.to_start(3)\n",
    "total = 0\n",
    "while True:\n",
    "    result = w.make_batch()\n",
    "    if result is None:\n",
    "        break\n",
    "    if i % 100 == 0:\n",
    "        print (i)\n",
    "    i += 1\n",
    "    total += result[1].shape[0]\n",
    "print(\"**************\")\n",
    "print(total)"
   ]
  },
  {
   "cell_type": "code",
   "execution_count": null,
   "metadata": {},
   "outputs": [],
   "source": []
  }
 ],
 "metadata": {
  "colab": {
   "name": "IAMWords_test_final.ipynb",
   "provenance": [],
   "version": "0.3.2"
  },
  "kernelspec": {
   "display_name": "Python 3",
   "language": "python",
   "name": "python3"
  },
  "language_info": {
   "codemirror_mode": {
    "name": "ipython",
    "version": 3
   },
   "file_extension": ".py",
   "mimetype": "text/x-python",
   "name": "python",
   "nbconvert_exporter": "python",
   "pygments_lexer": "ipython3",
   "version": "3.6.6"
  }
 },
 "nbformat": 4,
 "nbformat_minor": 1
}
