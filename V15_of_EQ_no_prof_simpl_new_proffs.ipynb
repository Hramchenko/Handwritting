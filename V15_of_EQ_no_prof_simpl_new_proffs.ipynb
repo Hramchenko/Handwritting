{
  "nbformat": 4,
  "nbformat_minor": 0,
  "metadata": {
    "colab": {
      "name": "V15 of EQ_no_prof simpl new_proffs.ipynb",
      "version": "0.3.2",
      "provenance": [],
      "collapsed_sections": [],
      "include_colab_link": true
    },
    "kernelspec": {
      "name": "python3",
      "display_name": "Python 3"
    },
    "accelerator": "GPU"
  },
  "cells": [
    {
      "cell_type": "markdown",
      "metadata": {
        "id": "view-in-github",
        "colab_type": "text"
      },
      "source": [
        "<a href=\"https://colab.research.google.com/github/Hramchenko/Handwritting/blob/master/V15_of_EQ_no_prof_simpl_new_proffs.ipynb\" target=\"_parent\"><img src=\"https://colab.research.google.com/assets/colab-badge.svg\" alt=\"Open In Colab\"/></a>"
      ]
    },
    {
      "metadata": {
        "id": "uL5QRz_WMkMF",
        "colab_type": "code",
        "outputId": "b1746fa7-8c91-46d9-8f7d-8c5313f5ee22",
        "colab": {
          "base_uri": "https://localhost:8080/",
          "height": 52
        }
      },
      "cell_type": "code",
      "source": [
        "import torch\n",
        "print(\"Device \" + torch.cuda.get_device_name(0))\n",
        "device = torch.device(\"cuda:0\")\n",
        "#device = torch.device(\"cpu\")\n",
        "print(device)"
      ],
      "execution_count": 0,
      "outputs": [
        {
          "output_type": "stream",
          "text": [
            "Device Tesla K80\n",
            "cuda:0\n"
          ],
          "name": "stdout"
        }
      ]
    },
    {
      "metadata": {
        "id": "j5M_rV-VMqso",
        "colab_type": "code",
        "colab": {}
      },
      "cell_type": "code",
      "source": [
        "batch_size = 100\n",
        "\n",
        "image_width = 1500\n",
        "image_height = 200"
      ],
      "execution_count": 0,
      "outputs": []
    },
    {
      "metadata": {
        "id": "sqHNfBMaLYmd",
        "colab_type": "code",
        "colab": {}
      },
      "cell_type": "code",
      "source": [
        "import os\n",
        "import cv2\n",
        "from xml.dom import minidom\n",
        "import matplotlib.pyplot as plt\n",
        "from math import floor\n",
        "from random import random\n",
        "import scipy as sp\n",
        "\n",
        "\n",
        "class ArtificialHandwrittingObject:\n",
        "    \n",
        "    def __init__(self, name, img):\n",
        "        self.name = name\n",
        "        self.image = img\n",
        "\n",
        "class ArtificialHandwritting:\n",
        "    \n",
        "    def __init__(self, datasetDir, scale, image_width, image_height, encode_word):\n",
        "        self.scale = scale\n",
        "        self.height = image_height\n",
        "        self.width = image_width\n",
        "        self.datasetDirectory = datasetDir\n",
        "        self.data = {}\n",
        "        self.initOffsets()\n",
        "        self.encode_word = encode_word\n",
        "        \n",
        "        for f_name in os.listdir(datasetDir):\n",
        "            if not f_name.endswith(\".xml\"):\n",
        "                continue\n",
        "            full_path = datasetDir + f_name\n",
        "            print(full_path)\n",
        "            self.process_xml(full_path)\n",
        "            \n",
        "    def initOffsets(self):\n",
        "        self.offsets = {\n",
        "            'a': 0,\n",
        "            'b': -0.1,\n",
        "            'c': 0,\n",
        "            'd': 0,\n",
        "            'e': 0,\n",
        "            'f': -0.2,\n",
        "            'g': +0.3,\n",
        "            'h': 0,\n",
        "            'i': -0.15,\n",
        "            'j': +0.2,\n",
        "            'k': 0,\n",
        "            'l': -0.15,\n",
        "            'm': 0,\n",
        "            'n': 0,\n",
        "            'o': 0,\n",
        "            'p': 0,\n",
        "            'q': +0.2,\n",
        "            'r': 0,\n",
        "            's': 0,\n",
        "            't': -0.2,\n",
        "            'u': 0,\n",
        "            'v': 0,\n",
        "            'w': 0,\n",
        "            'x': 0,\n",
        "            'y': +0.2,\n",
        "            'z': 0,\n",
        "        }\n",
        "        \n",
        "        \n",
        "        \n",
        "    def getValue(self, node, name):\n",
        "        v  = node.getElementsByTagName(name) \n",
        "        if len(v) != 1:\n",
        "            raise Exception()\n",
        "        v = v[0].firstChild.data\n",
        "        return v\n",
        "    \n",
        "    def make_random_batch(self, word_len, rand_x):\n",
        "        alphabet = \"abcdefghijklmnopqrstuvwxyz\"\n",
        "        texts = []\n",
        "        datas = []\n",
        "        #data = torch.FloatTensor(batch_size, self.image_height, self.image_width)\n",
        "        for batch_idx in range(0, batch_size):\n",
        "          w = \"\"\n",
        "          for i in range(0, word_len):\n",
        "            s_idx = floor(random()*len(alphabet))\n",
        "            s = alphabet[s_idx]\n",
        "            w += s\n",
        "          x = floor(random()*rand_x)\n",
        "          d, _ = self.make_word(w, x)\n",
        "          d = d = torch.as_tensor(d)#.unsqueeze(0)\n",
        "          \n",
        "          datas.append(d)\n",
        "          w = self.encode_word(w)\n",
        "          texts.append(w)\n",
        "        t = torch.stack(texts)\n",
        "        data = torch.stack(datas, dim=0)\n",
        "        return data, t\n",
        "          \n",
        "       \n",
        "    def make_word(self, word, x_start):\n",
        "        center = self.height*0.5\n",
        "        result = sp.ones([self.height, self.width], dtype=\"float32\")\n",
        "        candidates = []\n",
        "        for k in self.data.keys():\n",
        "            d = self.data[k]\n",
        "            flag = True\n",
        "            for s in word:\n",
        "                if s not in d:\n",
        "                    flag = False\n",
        "                    break\n",
        "            if flag:\n",
        "                candidates.append(k)\n",
        "        idx = floor(random()*len(candidates))\n",
        "        if (len(candidates) == 0):\n",
        "          print(\"Bad word: \" + word)\n",
        "          raise Exception()\n",
        "        \n",
        "        img_file = candidates[idx]\n",
        "        page = self.data[img_file]\n",
        "        x = x_start\n",
        "        for s in word:\n",
        "            s_idx = floor(len(page[s])*random())\n",
        "            obj_im = page[s][s_idx].image\n",
        "            c = 0.5*obj_im.shape[0]\n",
        "            dy = 0 + floor(center - c + obj_im.shape[0]*(self.offsets[s]+random()*0.05))#+random()*0.05))\n",
        "            #print(dy)\n",
        "            #print(obj_im.dtype)\n",
        "            result[dy: dy + obj_im.shape[0], x: x+obj_im.shape[1]] = obj_im\n",
        "            x += obj_im.shape[1]\n",
        "        return result, img_file  \n",
        "      \n",
        "            \n",
        "    def process_xml(self, f_path):\n",
        "        \n",
        "        xml_file = minidom.parse(f_path)\n",
        "        #xml_file.normalize()\n",
        "        annotation = xml_file.getElementsByTagName('annotation')\n",
        "        if len(annotation) != 1:\n",
        "            raise Exception()\n",
        "        annotation = annotation[0]\n",
        "        img_name = self.getValue(annotation, 'filename')\n",
        "        image_file = self.datasetDirectory + img_name\n",
        "        img = cv2.imread(image_file, 0)\n",
        "        print(image_file)\n",
        "        objects = annotation.getElementsByTagName('object')\n",
        "        #print(len(objects))\n",
        "        content = {}\n",
        "        for obj in objects:\n",
        "            name  = self.getValue(obj, 'name')\n",
        "            if name not in content:\n",
        "                content[name] = []\n",
        "            x_min = int(self.getValue(obj, 'xmin'))\n",
        "            y_min = int(self.getValue(obj, 'ymin'))\n",
        "            x_max = int(self.getValue(obj, 'xmax'))\n",
        "            y_max = int(self.getValue(obj, 'ymax'))\n",
        "            obj_im = img[y_min: y_max, x_min: x_max]\n",
        "            s = self.scale\n",
        "            sh = obj_im.shape\n",
        "            obj_im = cv2.resize(obj_im, (floor(sh[1]*s), floor(sh[0]*s)), cv2.INTER_LANCZOS4)\n",
        "            if obj_im.shape[0] > self.height:\n",
        "                continue\n",
        "            obj_im = sp.float32(obj_im)    \n",
        "            obj_im = (obj_im - obj_im.min())/(obj_im.max() - obj_im.min())\n",
        "            handwr_obj = ArtificialHandwrittingObject(name, obj_im)\n",
        "            content[name].append(handwr_obj)\n",
        "        if img_name in self.data:\n",
        "            raise Exception()\n",
        "        self.data[img_name] = content\n",
        "        "
      ],
      "execution_count": 0,
      "outputs": []
    },
    {
      "metadata": {
        "id": "kVeBVZEgMtb2",
        "colab_type": "code",
        "outputId": "65df487d-25f2-4aaa-ce1e-44571e48a633",
        "colab": {
          "base_uri": "https://localhost:8080/",
          "height": 86
        }
      },
      "cell_type": "code",
      "source": [
        "import sys\n",
        "sys.path.append(\"./Handwritting/\")\n",
        "from IAMWords import IAMWords\n",
        "\n",
        "pad_length=-1\n",
        "train_set = IAMWords(\"train\", \"./IAM/\", batch_size=batch_size, line_height=image_height, line_width=image_width, scale=1, pad_length=pad_length, rand_x=400)\n",
        "test_set = IAMWords(\"test\", \"./IAM/\", batch_size=batch_size, line_height=image_height, line_width=image_width, scale=1, pad_length=pad_length, rand_x=400)"
      ],
      "execution_count": 0,
      "outputs": [
        {
          "output_type": "stream",
          "text": [
            "Reading ./IAM/words.train.pkl...\n",
            "Reading finished\n",
            "Reading ./IAM/words.test.pkl...\n",
            "Reading finished\n"
          ],
          "name": "stdout"
        }
      ]
    },
    {
      "metadata": {
        "id": "aPROjYtaLvLS",
        "colab_type": "code",
        "outputId": "087597fa-8172-40ae-f6c2-5a4dc9a556bd",
        "colab": {
          "base_uri": "https://localhost:8080/",
          "height": 224
        }
      },
      "cell_type": "code",
      "source": [
        "artificial_data = ArtificialHandwritting(\"./MyLetters/\", 1.0, image_width, image_height, train_set.encode_word)\n",
        "data, target = artificial_data.make_random_batch(3, 400)"
      ],
      "execution_count": 0,
      "outputs": [
        {
          "output_type": "stream",
          "text": [
            "./MyLetters/a01-107u.xml\n",
            "./MyLetters/a01-107u.png\n",
            "./MyLetters/a01-026u.xml\n",
            "./MyLetters/a01-026u.png\n",
            "./MyLetters/my.xml\n",
            "./MyLetters/my.jpg\n",
            "./MyLetters/a01-053u.xml\n",
            "./MyLetters/a01-053u.png\n",
            "./MyLetters/a01-128.xml\n",
            "./MyLetters/a01-128.png\n",
            "./MyLetters/a01-107.xml\n",
            "./MyLetters/a01-107.png\n"
          ],
          "name": "stdout"
        }
      ]
    },
    {
      "metadata": {
        "id": "yx2SxZgGT0Z-",
        "colab_type": "code",
        "outputId": "c0659954-6d1d-402f-880b-79cdf5018c71",
        "colab": {
          "base_uri": "https://localhost:8080/",
          "height": 34
        }
      },
      "cell_type": "code",
      "source": [
        "artificial_data.data[\"my.jpg\"].keys()"
      ],
      "execution_count": 0,
      "outputs": [
        {
          "output_type": "execute_result",
          "data": {
            "text/plain": [
              "dict_keys(['a', 'b', 'c', 'd', 'e', 'f', 'g', 'h', 'i', 'k', 'l', 'm', 'n', 'o', 'p', 'q', 'r', 's', 'u', 't', 'v', 'w', 'x', 'y', 'z', 'j'])"
            ]
          },
          "metadata": {
            "tags": []
          },
          "execution_count": 6
        }
      ]
    },
    {
      "metadata": {
        "id": "wceUSjfAWM1v",
        "colab_type": "code",
        "outputId": "1dbc33c7-448b-4680-f4fc-79d75cf1c43d",
        "colab": {
          "base_uri": "https://localhost:8080/",
          "height": 113
        }
      },
      "cell_type": "code",
      "source": [
        "plt.imshow(data[0], cmap=\"gray\")\n",
        "plt.show()\n",
        "data.shape"
      ],
      "execution_count": 0,
      "outputs": [
        {
          "output_type": "display_data",
          "data": {
            "image/png": "[encoded data removed]",
            "text/plain": [
              "<Figure size 432x288 with 1 Axes>"
            ]
          },
          "metadata": {
            "tags": []
          }
        },
        {
          "output_type": "execute_result",
          "data": {
            "text/plain": [
              "torch.Size([100, 200, 1500])"
            ]
          },
          "metadata": {
            "tags": []
          },
          "execution_count": 7
        }
      ]
    },
    {
      "metadata": {
        "id": "K2fWx6tuK-4m",
        "colab_type": "code",
        "colab": {}
      },
      "cell_type": "code",
      "source": [
        "import torch\n",
        "import torch.nn as nn\n",
        "import torch.nn.functional as F\n",
        "import torch.optim as optim\n",
        "from IPython.core.debugger import set_trace\n",
        "%matplotlib inline\n",
        "import matplotlib.pyplot as plt"
      ],
      "execution_count": 0,
      "outputs": []
    },
    {
      "metadata": {
        "id": "MLbMUUmZ1zMv",
        "colab_type": "code",
        "colab": {}
      },
      "cell_type": "code",
      "source": [
        "#!cat ./Handwritting/HTRDecoder.py\n"
      ],
      "execution_count": 0,
      "outputs": []
    },
    {
      "metadata": {
        "id": "FOlJkOzNgngX",
        "colab_type": "code",
        "colab": {}
      },
      "cell_type": "code",
      "source": [
        "from Layers import *\n",
        "#from HTREncoder import *\n",
        "#from HTRDecoder import *\n",
        "from HTRDiscriminator import *"
      ],
      "execution_count": 0,
      "outputs": []
    },
    {
      "metadata": {
        "id": "tNCy7E6BNI1t",
        "colab_type": "code",
        "colab": {}
      },
      "cell_type": "code",
      "source": [
        "batch = train_set.make_batch(use_binarization=False)\n",
        "data, target = batch\n",
        "target = target.to(device)\n",
        "data = data/255.0\n",
        "data = data.unsqueeze(1).to(device)"
      ],
      "execution_count": 0,
      "outputs": []
    },
    {
      "metadata": {
        "id": "ihilbywpul9A",
        "colab_type": "code",
        "colab": {}
      },
      "cell_type": "code",
      "source": [
        "\n"
      ],
      "execution_count": 0,
      "outputs": []
    },
    {
      "metadata": {
        "id": "cXja4G8p7KKz",
        "colab_type": "code",
        "colab": {}
      },
      "cell_type": "code",
      "source": [
        "def to_onehot(x, n):\n",
        "    one_hot = torch.zeros((x.shape[0], n)).to(device)\n",
        "    one_hot.scatter_(1, x[:, None], 1.)\n",
        "    if device is not None:\n",
        "        one_hot = one_hot.to(device)\n",
        "    return one_hot  "
      ],
      "execution_count": 0,
      "outputs": []
    },
    {
      "metadata": {
        "id": "S6ngFcBZDbMm",
        "colab_type": "code",
        "colab": {}
      },
      "cell_type": "code",
      "source": [
        "class HTREncoder(nn.Module):\n",
        "    def __init__(self, batchnorm=False, dropout=False):\n",
        "        super(HTREncoder, self).__init__()\n",
        "        \n",
        "        self.convolutions = nn.Sequential(\n",
        "        ConvLayer([1, 2, 3], padding=0, stride=2, bn=batchnorm, pool_layer=None),\n",
        "        ConvLayer([2, 4, 3], padding=0, stride=2, bn=batchnorm, pool_layer=None),\n",
        "        ConvLayer([4, 8, 3], padding=0, stride=2, bn=batchnorm, pool_layer=None),\n",
        "        ConvLayer([8, 16, 3], padding=0, stride=2, bn=batchnorm, pool_layer=None),\n",
        "        ConvLayer([16, 32, (3, 1)], padding=0, stride=(2, 1), bn=batchnorm, pool_layer=None),\n",
        "        ConvLayer([32, 64, (4, 1)], padding=0, stride=(2, 1), bn=batchnorm, pool_layer=None))\n",
        "#        ConvLayer([64, 64, (3, 1)], padding=0, stride=(3, 1), bn=batchnorm, pool_layer=None),\n",
        "#        ConvLayer([64, 64, (3, 1)], padding=0, stride=(3, 1), bn=batchnorm, pool_layer=None))\n",
        "        \n",
        "        #self.fc = FullyConnectedX([64*15*49, 64*49*3, 64*49], activation_fn=nn.ReLU())\n",
        "    \n",
        "    def forward(self, x):\n",
        "        h = self.convolutions(x)\n",
        "        h = h.squeeze(2)\n",
        "        #h = h.flatten(start_dim=1)\n",
        "        #h = self.fc(h)\n",
        "        #h = F.max_pool2d(h, [1, h.size(1)], padding=[0, 0])\n",
        "        #h = h.permute([2, 3, 0, 1])[0]\n",
        "        #h = h.permute([2, 3, 0, 1])\n",
        "        \n",
        "        return h"
      ],
      "execution_count": 0,
      "outputs": []
    },
    {
      "metadata": {
        "id": "68VQiNESFKjm",
        "colab_type": "code",
        "colab": {}
      },
      "cell_type": "code",
      "source": [
        "encoder = HTREncoder().to(device)"
      ],
      "execution_count": 0,
      "outputs": []
    },
    {
      "metadata": {
        "id": "3fvJufA-1d9O",
        "colab_type": "code",
        "outputId": "a90f5b8f-d7a6-4312-f198-1ac44b10906b",
        "colab": {
          "base_uri": "https://localhost:8080/",
          "height": 34
        }
      },
      "cell_type": "code",
      "source": [
        "c = encoder(data)\n",
        "c.shape"
      ],
      "execution_count": 0,
      "outputs": [
        {
          "output_type": "execute_result",
          "data": {
            "text/plain": [
              "torch.Size([100, 64, 92])"
            ]
          },
          "metadata": {
            "tags": []
          },
          "execution_count": 14
        }
      ]
    },
    {
      "metadata": {
        "id": "69fPZhFcl5F0",
        "colab_type": "code",
        "colab": {}
      },
      "cell_type": "code",
      "source": [
        "class SimpleDecoder(nn.Module):\n",
        "  def __init__(self, batch_size, ntoken, encoded_width=92, encoded_height=64):\n",
        "    super(SimpleDecoder, self).__init__()\n",
        "    self.encoded_width = encoded_width\n",
        "    self.encoded_height = encoded_height\n",
        "    features_size = encoded_height*encoded_width \n",
        "    self.lstm_size = 512\n",
        "    self.lstm_layers = 3\n",
        "    self.rnn = nn.GRU(features_size, self.lstm_size, self.lstm_layers, dropout=0.3, bidirectional=False)\n",
        "    self.decoder = nn.Linear(self.lstm_size, ntoken)\n",
        "    self.attention = FullyConnectedX([self.lstm_size*self.lstm_layers + self.encoded_height*encoded_width, self.encoded_height*encoded_width*2, self.encoded_width], activation_fn=nn.LeakyReLU(0.2), last_fn=nn.Tanh())\n",
        "    self.attention_weights = None\n",
        "    \n",
        "  def forward(self, x, hidden=None):\n",
        "    if hidden is not None:\n",
        "      hidden_m = hidden.permute(1, 0, 2)\n",
        "      hidden_m = hidden_m.flatten(start_dim=1)\n",
        "      x_m = x.squeeze(0)\n",
        "      x_m = x_m.flatten(start_dim=1)\n",
        "      attention_inp = torch.cat([x_m, hidden_m], dim=1).detach()\n",
        "      self.attention_weights = self.attention(attention_inp)\n",
        "      self.attention_weights = F.softmax(self.attention_weights, dim=1).unsqueeze(1)\n",
        "      self.attention_weights = self.attention_weights.repeat([1, self.encoded_height, 1])\n",
        "      x = x * self.attention_weights\n",
        "    x = x.flatten(start_dim=-2)\n",
        "    x, hidden = self.rnn(x, hidden)\n",
        "    x = self.decoder(x)\n",
        "    return x, hidden\n",
        "    \n",
        "simpleDecoder = SimpleDecoder(batch_size, len(train_set.codes)).to(device)    "
      ],
      "execution_count": 0,
      "outputs": []
    },
    {
      "metadata": {
        "id": "LIAoCsSBsrJI",
        "colab_type": "code",
        "colab": {}
      },
      "cell_type": "code",
      "source": [
        "criterion = nn.CrossEntropyLoss()"
      ],
      "execution_count": 0,
      "outputs": []
    },
    {
      "metadata": {
        "id": "bQ9yI7AT503j",
        "colab_type": "code",
        "colab": {}
      },
      "cell_type": "code",
      "source": [
        "def generate(c, orig_data, target):\n",
        "  num_samples = 1\n",
        "  hidden = None\n",
        "  test_inp = c.unsqueeze(0)\n",
        "  results = []\n",
        "  for ex_num in range(0, num_samples):\n",
        "    results.append(\"\")\n",
        "  for i in range(0, 5):\n",
        "    out, hidden = simpleDecoder(test_inp, hidden)\n",
        "    _, idx = out.topk(1, dim=2)\n",
        "    for ex_num in range(0, num_samples):\n",
        "      ii = idx[0, ex_num, 0]\n",
        "      results[ex_num] += test_set.alphabet[ii.item()]\n",
        "  for ex_num in range(0, num_samples):\n",
        "    plt.imshow(orig_data[ex_num].cpu(), cmap=\"gray\")\n",
        "    plt.show()\n",
        "    print(test_set.decode_word(target[ex_num, :]) + \" -> \" + results[ex_num])\n",
        "    "
      ],
      "execution_count": 0,
      "outputs": []
    },
    {
      "metadata": {
        "id": "LJJzsIe75yDU",
        "colab_type": "code",
        "colab": {}
      },
      "cell_type": "code",
      "source": [
        "#generate(c, data, target)"
      ],
      "execution_count": 0,
      "outputs": []
    },
    {
      "metadata": {
        "id": "9dfXNNm0tj0a",
        "colab_type": "code",
        "colab": {}
      },
      "cell_type": "code",
      "source": [
        "#loss = criterion(d, t)"
      ],
      "execution_count": 0,
      "outputs": []
    },
    {
      "metadata": {
        "id": "dDyHjV6At5ws",
        "colab_type": "code",
        "colab": {}
      },
      "cell_type": "code",
      "source": [
        "enc_optimizer = optim.Adam(encoder.parameters(), lr=1e-4, weight_decay=0.00005)\n",
        "dec_optimizer = optim.Adam(simpleDecoder.parameters(), lr=1e-4, weight_decay=0.00005)\n",
        "\n",
        "\n",
        "def train(epoch):\n",
        "  print(\"Epoch %d\"% epoch)\n",
        "  int_loss = 0\n",
        "  word_size = 5\n",
        "  batch_idx = 0\n",
        "  while True:\n",
        "    if batch_idx > 500:\n",
        "      break\n",
        "    data, target = artificial_data.make_random_batch(word_size, 200)\n",
        "#     print(data.shape)\n",
        "#     print(target.shape)\n",
        "    data = data.unsqueeze(1).to(device)\n",
        "    target = target.to(device)\n",
        "    c = encoder(data)\n",
        "    inp = c.unsqueeze(0)\n",
        "    \n",
        "    hidden = None\n",
        "    loss = 0\n",
        "    for i in range(0, word_size):\n",
        "      dec, hidden = simpleDecoder(inp, hidden)\n",
        "      dec = dec.squeeze(0)\n",
        "      loss += criterion(dec, target[:, i])\n",
        "      \n",
        "    if batch_idx % 50 == 0:\n",
        "      print(\"Batch %d Loss %f\" % (batch_idx, loss.item()))\n",
        "    int_loss += loss.item()  \n",
        "    loss.backward()\n",
        "    enc_optimizer.step()\n",
        "    dec_optimizer.step()\n",
        "    batch_idx += 1\n",
        "  print(\"Epoch loss %f\", int_loss/batch_idx)"
      ],
      "execution_count": 0,
      "outputs": []
    },
    {
      "metadata": {
        "id": "Tmx9G7TG4Y3H",
        "colab_type": "code",
        "colab": {}
      },
      "cell_type": "code",
      "source": [
        "def test():\n",
        "  print(\"Testing...\")\n",
        "  word_size = 5\n",
        "  batch_idx = 0\n",
        "  while True:\n",
        "    if batch_idx > 100:\n",
        "      break\n",
        "    data, target = artificial_data.make_random_batch(word_size, 5)\n",
        "    orig_data = data\n",
        "    data = data.unsqueeze(1).to(device)\n",
        "    target = target.to(device)\n",
        "    c = encoder(data)\n",
        "    inp = c.unsqueeze(0)\n",
        "    inp = inp.repeat(word_size, 1, 1, 1)\n",
        "    dec, _ = simpleDecoder(inp)\n",
        "    d = dec.flatten(end_dim=1)\n",
        "    t = target.flatten()\n",
        "    loss = criterion(d, t)\n",
        "    if batch_idx % 30 == 0:\n",
        "      print(\"Batch %d Loss %f\" % (batch_idx, loss.item()))\n",
        "      results = generate(c, orig_data, target)\n",
        "    batch_idx += 1\n",
        "  \n",
        "        "
      ],
      "execution_count": 0,
      "outputs": []
    },
    {
      "metadata": {
        "id": "I8fsbV2nsTZp",
        "colab_type": "code",
        "colab": {}
      },
      "cell_type": "code",
      "source": [
        "def __train(epoch):\n",
        "  print(\"Epoch %d\"% epoch)\n",
        "  int_loss = 0\n",
        "  word_size = 5\n",
        "  batch_idx = 0\n",
        "  while True:\n",
        "    if batch_idx > 1000*100:\n",
        "      break\n",
        "    data, target = artificial_data.make_random_batch(word_size, 5)\n",
        "#     print(data.shape)\n",
        "#     print(target.shape)\n",
        "    data = data.unsqueeze(1).to(device)\n",
        "    target = target.to(device)\n",
        "    c = encoder(data)\n",
        "    inp = c.unsqueeze(0)\n",
        "    inp = inp.repeat(word_size, 1, 1, 1)\n",
        "    dec, _ = simpleDecoder(inp)\n",
        "#     d = dec.flatten(end_dim=1)\n",
        "#     t = target.flatten()\n",
        "    d = dec.view(-1, len(train_set.codes))\n",
        "    t = target.view(-1)\n",
        "    \n",
        "\n",
        "    loss = criterion(d, t)\n",
        "    int_loss += loss.item()\n",
        "    if batch_idx % 200*100 == 0:\n",
        "      print(\"Batch %d Loss %f\" % (batch_idx, loss.item()))\n",
        "    loss.backward()\n",
        "    enc_optimizer.step()\n",
        "    dec_optimizer.step()\n",
        "    batch_idx += 1\n",
        "  print(\"Epoch loss %f\", int_loss/batch_idx)"
      ],
      "execution_count": 0,
      "outputs": []
    },
    {
      "metadata": {
        "id": "OMuTHSTu9WVa",
        "colab_type": "code",
        "outputId": "ef4e06fd-38a5-432a-9567-232aa41563ac",
        "colab": {
          "base_uri": "https://localhost:8080/",
          "height": 488
        }
      },
      "cell_type": "code",
      "source": [
        "test()"
      ],
      "execution_count": 0,
      "outputs": [
        {
          "output_type": "stream",
          "text": [
            "Testing...\n",
            "Batch 0 Loss 4.400033\n"
          ],
          "name": "stdout"
        },
        {
          "output_type": "display_data",
          "data": {
            "image/png": "[encoded data removed]",
            "text/plain": [
              "<Figure size 432x288 with 1 Axes>"
            ]
          },
          "metadata": {
            "tags": []
          }
        },
        {
          "output_type": "stream",
          "text": [
            "ustqj -> Zmmmm\n",
            "Batch 30 Loss 4.399867\n"
          ],
          "name": "stdout"
        },
        {
          "output_type": "display_data",
          "data": {
            "image/png": "[encoded data removed]",
            "text/plain": [
              "<Figure size 432x288 with 1 Axes>"
            ]
          },
          "metadata": {
            "tags": []
          }
        },
        {
          "output_type": "stream",
          "text": [
            "dklih -> mmmlm\n",
            "Batch 60 Loss 4.398282\n"
          ],
          "name": "stdout"
        },
        {
          "output_type": "display_data",
          "data": {
            "image/png": "[encoded data removed]",
            "text/plain": [
              "<Figure size 432x288 with 1 Axes>"
            ]
          },
          "metadata": {
            "tags": []
          }
        },
        {
          "output_type": "stream",
          "text": [
            "lmgkq -> mllmm\n",
            "Batch 90 Loss 4.399463\n"
          ],
          "name": "stdout"
        },
        {
          "output_type": "display_data",
          "data": {
            "image/png": "[encoded data removed]",
            "text/plain": [
              "<Figure size 432x288 with 1 Axes>"
            ]
          },
          "metadata": {
            "tags": []
          }
        },
        {
          "output_type": "stream",
          "text": [
            "mjoow -> mmmmm\n"
          ],
          "name": "stdout"
        }
      ]
    },
    {
      "metadata": {
        "id": "31k8BjAovAYq",
        "colab_type": "code",
        "outputId": "84316d68-7446-43eb-e214-3fc1f386492a",
        "colab": {
          "base_uri": "https://localhost:8080/",
          "height": 2171
        }
      },
      "cell_type": "code",
      "source": [
        "for i in range(0, 100):\n",
        "  train(i)\n",
        "  with torch.no_grad():\n",
        "    test()"
      ],
      "execution_count": 0,
      "outputs": [
        {
          "output_type": "stream",
          "text": [
            "Epoch 0\n",
            "Batch 0 Loss 21.983858\n",
            "Batch 50 Loss 16.696886\n",
            "Batch 100 Loss 17.530706\n",
            "Batch 150 Loss 18.877167\n",
            "Batch 200 Loss 21.552753\n",
            "Batch 250 Loss 22.651007\n",
            "Batch 300 Loss 26.811281\n",
            "Batch 350 Loss 27.170958\n",
            "Batch 400 Loss 27.170660\n",
            "Batch 450 Loss 29.718861\n",
            "Batch 500 Loss 34.498482\n",
            "Epoch loss %f 23.927202068641037\n",
            "Testing...\n",
            "Batch 0 Loss 7.196653\n"
          ],
          "name": "stdout"
        },
        {
          "output_type": "display_data",
          "data": {
            "image/png": "[encoded data removed]",
            "text/plain": [
              "<Figure size 432x288 with 1 Axes>"
            ]
          },
          "metadata": {
            "tags": []
          }
        },
        {
          "output_type": "stream",
          "text": [
            "wzuqd -> sssss\n",
            "Batch 30 Loss 6.739436\n"
          ],
          "name": "stdout"
        },
        {
          "output_type": "display_data",
          "data": {
            "image/png": "[encoded data removed]",
            "text/plain": [
              "<Figure size 432x288 with 1 Axes>"
            ]
          },
          "metadata": {
            "tags": []
          }
        },
        {
          "output_type": "stream",
          "text": [
            "ekkjg -> sssss\n",
            "Batch 60 Loss 7.172513\n"
          ],
          "name": "stdout"
        },
        {
          "output_type": "display_data",
          "data": {
            "image/png": "[encoded data removed]",
            "text/plain": [
              "<Figure size 432x288 with 1 Axes>"
            ]
          },
          "metadata": {
            "tags": []
          }
        },
        {
          "output_type": "stream",
          "text": [
            "offfi -> sssss\n",
            "Batch 90 Loss 7.224006\n"
          ],
          "name": "stdout"
        },
        {
          "output_type": "display_data",
          "data": {
            "image/png": "[encoded data removed]",
            "text/plain": [
              "<Figure size 432x288 with 1 Axes>"
            ]
          },
          "metadata": {
            "tags": []
          }
        },
        {
          "output_type": "stream",
          "text": [
            "esvwd -> sssss\n",
            "Epoch 1\n",
            "Batch 0 Loss 36.004128\n",
            "Batch 50 Loss 41.240196\n",
            "Batch 100 Loss 39.658039\n",
            "Batch 150 Loss 28.608196\n",
            "Batch 200 Loss 24.603521\n",
            "Batch 250 Loss 33.602699\n",
            "Batch 300 Loss 37.634979\n",
            "Batch 350 Loss 43.411858\n",
            "Batch 400 Loss 46.283257\n",
            "Batch 450 Loss 39.992439\n",
            "Batch 500 Loss 45.363232\n",
            "Epoch loss %f 37.47802296179735\n",
            "Testing...\n",
            "Batch 0 Loss 9.154989\n"
          ],
          "name": "stdout"
        },
        {
          "output_type": "display_data",
          "data": {
            "image/png": "[encoded data removed]",
            "text/plain": [
              "<Figure size 432x288 with 1 Axes>"
            ]
          },
          "metadata": {
            "tags": []
          }
        },
        {
          "output_type": "stream",
          "text": [
            "ajjaw -> xxxxx\n",
            "Batch 30 Loss 9.005460\n"
          ],
          "name": "stdout"
        },
        {
          "output_type": "display_data",
          "data": {
            "image/png": "[encoded data removed]",
            "text/plain": [
              "<Figure size 432x288 with 1 Axes>"
            ]
          },
          "metadata": {
            "tags": []
          }
        },
        {
          "output_type": "stream",
          "text": [
            "dhqik -> xxxxx\n",
            "Batch 60 Loss 8.907621\n"
          ],
          "name": "stdout"
        },
        {
          "output_type": "display_data",
          "data": {
            "image/png": "[encoded data removed]",
            "text/plain": [
              "<Figure size 432x288 with 1 Axes>"
            ]
          },
          "metadata": {
            "tags": []
          }
        },
        {
          "output_type": "stream",
          "text": [
            "wdeqa -> xxxxx\n",
            "Batch 90 Loss 8.783598\n"
          ],
          "name": "stdout"
        },
        {
          "output_type": "display_data",
          "data": {
            "image/png": "[encoded data removed]",
            "text/plain": [
              "<Figure size 432x288 with 1 Axes>"
            ]
          },
          "metadata": {
            "tags": []
          }
        },
        {
          "output_type": "stream",
          "text": [
            "tweya -> xxxxx\n",
            "Epoch 2\n",
            "Batch 0 Loss 45.670273\n",
            "Batch 50 Loss 46.589977\n",
            "Batch 100 Loss 41.893280\n",
            "Batch 150 Loss 40.806721\n",
            "Batch 200 Loss 40.135071\n",
            "Batch 250 Loss 47.535206\n",
            "Batch 300 Loss 45.285412\n",
            "Batch 350 Loss 52.421066\n",
            "Batch 400 Loss 53.278645\n",
            "Batch 450 Loss 57.802994\n",
            "Batch 500 Loss 63.299294\n",
            "Epoch loss %f 48.71368859723181\n",
            "Testing...\n",
            "Batch 0 Loss 12.268523\n"
          ],
          "name": "stdout"
        },
        {
          "output_type": "display_data",
          "data": {
            "image/png": "[encoded data removed]",
            "text/plain": [
              "<Figure size 432x288 with 1 Axes>"
            ]
          },
          "metadata": {
            "tags": []
          }
        },
        {
          "output_type": "stream",
          "text": [
            "stdic -> eeeee\n",
            "Batch 30 Loss 12.888303\n"
          ],
          "name": "stdout"
        },
        {
          "output_type": "display_data",
          "data": {
            "image/png": "[encoded data removed]",
            "text/plain": [
              "<Figure size 432x288 with 1 Axes>"
            ]
          },
          "metadata": {
            "tags": []
          }
        },
        {
          "output_type": "stream",
          "text": [
            "gmvzh -> eeeee\n",
            "Batch 60 Loss 11.789726\n"
          ],
          "name": "stdout"
        },
        {
          "output_type": "display_data",
          "data": {
            "image/png": "[encoded data removed]",
            "text/plain": [
              "<Figure size 432x288 with 1 Axes>"
            ]
          },
          "metadata": {
            "tags": []
          }
        },
        {
          "output_type": "stream",
          "text": [
            "quelm -> eeeee\n",
            "Batch 90 Loss 13.215615\n"
          ],
          "name": "stdout"
        },
        {
          "output_type": "display_data",
          "data": {
            "image/png": "[encoded data removed]",
            "text/plain": [
              "<Figure size 432x288 with 1 Axes>"
            ]
          },
          "metadata": {
            "tags": []
          }
        },
        {
          "output_type": "stream",
          "text": [
            "cwllw -> eeeee\n",
            "Epoch 3\n",
            "Batch 0 Loss 66.699928\n",
            "Batch 50 Loss 67.153351\n",
            "Batch 100 Loss 66.966263\n"
          ],
          "name": "stdout"
        }
      ]
    },
    {
      "metadata": {
        "id": "obmiumeGK5E9",
        "colab_type": "code",
        "colab": {}
      },
      "cell_type": "code",
      "source": [
        ""
      ],
      "execution_count": 0,
      "outputs": []
    }
  ]
}